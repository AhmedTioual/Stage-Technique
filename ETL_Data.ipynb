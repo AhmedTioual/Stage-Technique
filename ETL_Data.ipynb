{
 "cells": [
  {
   "cell_type": "code",
   "execution_count": 1,
   "metadata": {},
   "outputs": [],
   "source": [
    "import pandas as pd\n",
    "import os"
   ]
  },
  {
   "cell_type": "markdown",
   "metadata": {},
   "source": [
    "#-----------------------------------------------------Extract Budget Exploitation  -------------------------------------------------"
   ]
  },
  {
   "cell_type": "code",
   "execution_count": 2,
   "metadata": {},
   "outputs": [
    {
     "name": "stdout",
     "output_type": "stream",
     "text": [
      "Exploitation_2017.xlsx\n",
      "Exploitation_2018.xlsx\n",
      "Exploitation_2019.xlsx\n",
      "Exploitation_2020.xlsx\n",
      "Exploitation_2021.xlsx\n",
      "Exploitation_2022.xlsx\n"
     ]
    }
   ],
   "source": [
    "header = ['Comptes N','intitulees des comptes','credit ouvert','engagement','disponible_engagement','paiement','reste a payer','chapitre']\n",
    "files_list = os.listdir('Budget_Exploitation')\n",
    "budget_ex  = pd.DataFrame({})\n",
    "for file in files_list :\n",
    "    print(file) \n",
    "    year = file[file.find(\"2\"):file.find(\".\")]\n",
    "    df = pd.read_excel('Budget_Exploitation/'+file)\n",
    "    if year in ['2022','2021','2020']:\n",
    "            df = df.reindex(columns=['N° de compte','Intitulé','Credit Ouvert','ENGAGEMENTS','DISPONIBLE','PAIEMENT','RESTE A PAYER','chapitre'])\n",
    "    df.columns = header\n",
    "    df['Annee'] = year+\"-12-31\"\n",
    "    budget_ex = pd.concat([budget_ex,df])"
   ]
  },
  {
   "cell_type": "code",
   "execution_count": 395,
   "metadata": {},
   "outputs": [
    {
     "data": {
      "text/plain": [
       "(342, 9)"
      ]
     },
     "execution_count": 395,
     "metadata": {},
     "output_type": "execute_result"
    }
   ],
   "source": [
    "budget_ex.shape"
   ]
  },
  {
   "cell_type": "code",
   "execution_count": 396,
   "metadata": {},
   "outputs": [
    {
     "data": {
      "text/plain": [
       "Index(['Comptes N', 'intitulees des comptes', 'credit ouvert', 'engagement',\n",
       "       'disponible_engagement', 'paiement', 'reste a payer', 'chapitre',\n",
       "       'Annee'],\n",
       "      dtype='object')"
      ]
     },
     "execution_count": 396,
     "metadata": {},
     "output_type": "execute_result"
    }
   ],
   "source": [
    "budget_ex.columns"
   ]
  },
  {
   "cell_type": "markdown",
   "metadata": {},
   "source": [
    "#-----------------------------------------------------Trasform Budget Exploitation  -------------------------------------------------"
   ]
  },
  {
   "cell_type": "code",
   "execution_count": 397,
   "metadata": {},
   "outputs": [],
   "source": [
    "budget_ex.reset_index(drop=True,inplace=True)"
   ]
  },
  {
   "cell_type": "code",
   "execution_count": 398,
   "metadata": {},
   "outputs": [],
   "source": [
    "budget_ex.columns = [col.upper() for col in budget_ex.columns]"
   ]
  },
  {
   "cell_type": "code",
   "execution_count": 399,
   "metadata": {},
   "outputs": [],
   "source": [
    "budget_ex.columns = budget_ex.columns.str.replace(' ','_')"
   ]
  },
  {
   "cell_type": "code",
   "execution_count": 3,
   "metadata": {},
   "outputs": [
    {
     "data": {
      "text/html": [
       "<div>\n",
       "<style scoped>\n",
       "    .dataframe tbody tr th:only-of-type {\n",
       "        vertical-align: middle;\n",
       "    }\n",
       "\n",
       "    .dataframe tbody tr th {\n",
       "        vertical-align: top;\n",
       "    }\n",
       "\n",
       "    .dataframe thead th {\n",
       "        text-align: right;\n",
       "    }\n",
       "</style>\n",
       "<table border=\"1\" class=\"dataframe\">\n",
       "  <thead>\n",
       "    <tr style=\"text-align: right;\">\n",
       "      <th></th>\n",
       "      <th>Comptes N</th>\n",
       "      <th>intitulees des comptes</th>\n",
       "      <th>credit ouvert</th>\n",
       "      <th>engagement</th>\n",
       "      <th>disponible_engagement</th>\n",
       "      <th>paiement</th>\n",
       "      <th>reste a payer</th>\n",
       "      <th>chapitre</th>\n",
       "      <th>Annee</th>\n",
       "    </tr>\n",
       "  </thead>\n",
       "  <tbody>\n",
       "    <tr>\n",
       "      <th>0</th>\n",
       "      <td>61223.0</td>\n",
       "      <td>Achat de combustibles</td>\n",
       "      <td>250000.0</td>\n",
       "      <td>100000.00</td>\n",
       "      <td>0.00</td>\n",
       "      <td>250000.0</td>\n",
       "      <td>0.00</td>\n",
       "      <td>Achats de matières et de fournitures consommables</td>\n",
       "      <td>2017-12-31</td>\n",
       "    </tr>\n",
       "    <tr>\n",
       "      <th>1</th>\n",
       "      <td>NaN</td>\n",
       "      <td>NaN</td>\n",
       "      <td>NaN</td>\n",
       "      <td>150000.00</td>\n",
       "      <td>NaN</td>\n",
       "      <td>NaN</td>\n",
       "      <td>NaN</td>\n",
       "      <td>Achats de matières et de fournitures consommables</td>\n",
       "      <td>2017-12-31</td>\n",
       "    </tr>\n",
       "    <tr>\n",
       "      <th>2</th>\n",
       "      <td>61227011.0</td>\n",
       "      <td>Achat de fournitures de bureau</td>\n",
       "      <td>122530.0</td>\n",
       "      <td>122529.70</td>\n",
       "      <td>0.30</td>\n",
       "      <td>0.0</td>\n",
       "      <td>122529.70</td>\n",
       "      <td>Achats de matières et de fournitures consommables</td>\n",
       "      <td>2017-12-31</td>\n",
       "    </tr>\n",
       "    <tr>\n",
       "      <th>3</th>\n",
       "      <td>61227012.0</td>\n",
       "      <td>Fourniture pour matériel technique et informat...</td>\n",
       "      <td>8345.0</td>\n",
       "      <td>8344.44</td>\n",
       "      <td>0.56</td>\n",
       "      <td>0.0</td>\n",
       "      <td>8344.44</td>\n",
       "      <td>Achats de matières et de fournitures consommables</td>\n",
       "      <td>2017-12-31</td>\n",
       "    </tr>\n",
       "    <tr>\n",
       "      <th>4</th>\n",
       "      <td>61227013.0</td>\n",
       "      <td>Fourniture de produits d'impression de reprodu...</td>\n",
       "      <td>129125.0</td>\n",
       "      <td>51042.90</td>\n",
       "      <td>295.70</td>\n",
       "      <td>0.0</td>\n",
       "      <td>128829.30</td>\n",
       "      <td>Achats de matières et de fournitures consommables</td>\n",
       "      <td>2017-12-31</td>\n",
       "    </tr>\n",
       "  </tbody>\n",
       "</table>\n",
       "</div>"
      ],
      "text/plain": [
       "    Comptes N                             intitulees des comptes  \\\n",
       "0     61223.0                              Achat de combustibles   \n",
       "1         NaN                                                NaN   \n",
       "2  61227011.0                     Achat de fournitures de bureau   \n",
       "3  61227012.0  Fourniture pour matériel technique et informat...   \n",
       "4  61227013.0  Fourniture de produits d'impression de reprodu...   \n",
       "\n",
       "   credit ouvert  engagement  disponible_engagement  paiement  reste a payer  \\\n",
       "0       250000.0   100000.00                   0.00  250000.0           0.00   \n",
       "1            NaN   150000.00                    NaN       NaN            NaN   \n",
       "2       122530.0   122529.70                   0.30       0.0      122529.70   \n",
       "3         8345.0     8344.44                   0.56       0.0        8344.44   \n",
       "4       129125.0    51042.90                 295.70       0.0      128829.30   \n",
       "\n",
       "                                            chapitre       Annee  \n",
       "0  Achats de matières et de fournitures consommables  2017-12-31  \n",
       "1  Achats de matières et de fournitures consommables  2017-12-31  \n",
       "2  Achats de matières et de fournitures consommables  2017-12-31  \n",
       "3  Achats de matières et de fournitures consommables  2017-12-31  \n",
       "4  Achats de matières et de fournitures consommables  2017-12-31  "
      ]
     },
     "execution_count": 3,
     "metadata": {},
     "output_type": "execute_result"
    }
   ],
   "source": [
    "budget_ex.head()"
   ]
  },
  {
   "cell_type": "code",
   "execution_count": 401,
   "metadata": {},
   "outputs": [
    {
     "data": {
      "text/plain": [
       "2019-12-31    92\n",
       "2018-12-31    59\n",
       "2017-12-31    50\n",
       "2021-12-31    50\n",
       "2020-12-31    46\n",
       "2022-12-31    45\n",
       "Name: ANNEE, dtype: int64"
      ]
     },
     "execution_count": 401,
     "metadata": {},
     "output_type": "execute_result"
    }
   ],
   "source": [
    "budget_ex['ANNEE'].value_counts()"
   ]
  },
  {
   "cell_type": "code",
   "execution_count": 402,
   "metadata": {},
   "outputs": [
    {
     "data": {
      "text/html": [
       "<div>\n",
       "<style scoped>\n",
       "    .dataframe tbody tr th:only-of-type {\n",
       "        vertical-align: middle;\n",
       "    }\n",
       "\n",
       "    .dataframe tbody tr th {\n",
       "        vertical-align: top;\n",
       "    }\n",
       "\n",
       "    .dataframe thead th {\n",
       "        text-align: right;\n",
       "    }\n",
       "</style>\n",
       "<table border=\"1\" class=\"dataframe\">\n",
       "  <thead>\n",
       "    <tr style=\"text-align: right;\">\n",
       "      <th></th>\n",
       "      <th>COMPTES_N</th>\n",
       "      <th>INTITULEES_DES_COMPTES</th>\n",
       "      <th>CREDIT_OUVERT</th>\n",
       "      <th>ENGAGEMENT</th>\n",
       "      <th>DISPONIBLE_ENGAGEMENT</th>\n",
       "      <th>PAIEMENT</th>\n",
       "      <th>RESTE_A_PAYER</th>\n",
       "      <th>CHAPITRE</th>\n",
       "      <th>ANNEE</th>\n",
       "    </tr>\n",
       "  </thead>\n",
       "  <tbody>\n",
       "    <tr>\n",
       "      <th>1</th>\n",
       "      <td>NaN</td>\n",
       "      <td>NaN</td>\n",
       "      <td>NaN</td>\n",
       "      <td>150000.0</td>\n",
       "      <td>NaN</td>\n",
       "      <td>NaN</td>\n",
       "      <td>NaN</td>\n",
       "      <td>Achats de matières et de fournitures consommables</td>\n",
       "      <td>2017-12-31</td>\n",
       "    </tr>\n",
       "    <tr>\n",
       "      <th>5</th>\n",
       "      <td>NaN</td>\n",
       "      <td>NaN</td>\n",
       "      <td>NaN</td>\n",
       "      <td>77786.4</td>\n",
       "      <td>NaN</td>\n",
       "      <td>NaN</td>\n",
       "      <td>NaN</td>\n",
       "      <td>Achats de matières et de fournitures consommables</td>\n",
       "      <td>2017-12-31</td>\n",
       "    </tr>\n",
       "    <tr>\n",
       "      <th>8</th>\n",
       "      <td>NaN</td>\n",
       "      <td>NaN</td>\n",
       "      <td>NaN</td>\n",
       "      <td>42000.0</td>\n",
       "      <td>NaN</td>\n",
       "      <td>42000.0</td>\n",
       "      <td>NaN</td>\n",
       "      <td>Locations</td>\n",
       "      <td>2017-12-31</td>\n",
       "    </tr>\n",
       "    <tr>\n",
       "      <th>9</th>\n",
       "      <td>NaN</td>\n",
       "      <td>NaN</td>\n",
       "      <td>NaN</td>\n",
       "      <td>24000.0</td>\n",
       "      <td>NaN</td>\n",
       "      <td>24000.0</td>\n",
       "      <td>NaN</td>\n",
       "      <td>Locations</td>\n",
       "      <td>2017-12-31</td>\n",
       "    </tr>\n",
       "    <tr>\n",
       "      <th>10</th>\n",
       "      <td>NaN</td>\n",
       "      <td>NaN</td>\n",
       "      <td>NaN</td>\n",
       "      <td>36000.0</td>\n",
       "      <td>NaN</td>\n",
       "      <td>36000.0</td>\n",
       "      <td>NaN</td>\n",
       "      <td>Locations</td>\n",
       "      <td>2017-12-31</td>\n",
       "    </tr>\n",
       "    <tr>\n",
       "      <th>...</th>\n",
       "      <td>...</td>\n",
       "      <td>...</td>\n",
       "      <td>...</td>\n",
       "      <td>...</td>\n",
       "      <td>...</td>\n",
       "      <td>...</td>\n",
       "      <td>...</td>\n",
       "      <td>...</td>\n",
       "      <td>...</td>\n",
       "    </tr>\n",
       "    <tr>\n",
       "      <th>179</th>\n",
       "      <td>NaN</td>\n",
       "      <td>NaN</td>\n",
       "      <td>NaN</td>\n",
       "      <td>129000.0</td>\n",
       "      <td>NaN</td>\n",
       "      <td>129000.0</td>\n",
       "      <td>NaN</td>\n",
       "      <td>Publicité,publications et relations publiques</td>\n",
       "      <td>2019-12-31</td>\n",
       "    </tr>\n",
       "    <tr>\n",
       "      <th>180</th>\n",
       "      <td>NaN</td>\n",
       "      <td>NaN</td>\n",
       "      <td>NaN</td>\n",
       "      <td>55000.0</td>\n",
       "      <td>NaN</td>\n",
       "      <td>55000.0</td>\n",
       "      <td>NaN</td>\n",
       "      <td>Publicité,publications et relations publiques</td>\n",
       "      <td>2019-12-31</td>\n",
       "    </tr>\n",
       "    <tr>\n",
       "      <th>187</th>\n",
       "      <td>NaN</td>\n",
       "      <td>NaN</td>\n",
       "      <td>NaN</td>\n",
       "      <td>62748.0</td>\n",
       "      <td>NaN</td>\n",
       "      <td>0.0</td>\n",
       "      <td>NaN</td>\n",
       "      <td>Charges Sociales</td>\n",
       "      <td>2019-12-31</td>\n",
       "    </tr>\n",
       "    <tr>\n",
       "      <th>200</th>\n",
       "      <td>NaN</td>\n",
       "      <td>NaN</td>\n",
       "      <td>NaN</td>\n",
       "      <td>350000.0</td>\n",
       "      <td>NaN</td>\n",
       "      <td>NaN</td>\n",
       "      <td>NaN</td>\n",
       "      <td>NaN</td>\n",
       "      <td>2019-12-31</td>\n",
       "    </tr>\n",
       "    <tr>\n",
       "      <th>323</th>\n",
       "      <td>NaN</td>\n",
       "      <td>NaN</td>\n",
       "      <td>NaN</td>\n",
       "      <td>NaN</td>\n",
       "      <td>NaN</td>\n",
       "      <td>NaN</td>\n",
       "      <td>NaN</td>\n",
       "      <td>Entretien et réparation</td>\n",
       "      <td>2022-12-31</td>\n",
       "    </tr>\n",
       "  </tbody>\n",
       "</table>\n",
       "<p>89 rows × 9 columns</p>\n",
       "</div>"
      ],
      "text/plain": [
       "    COMPTES_N INTITULEES_DES_COMPTES  CREDIT_OUVERT  ENGAGEMENT  \\\n",
       "1         NaN                    NaN            NaN    150000.0   \n",
       "5         NaN                    NaN            NaN     77786.4   \n",
       "8         NaN                    NaN            NaN     42000.0   \n",
       "9         NaN                    NaN            NaN     24000.0   \n",
       "10        NaN                    NaN            NaN     36000.0   \n",
       "..        ...                    ...            ...         ...   \n",
       "179       NaN                    NaN            NaN    129000.0   \n",
       "180       NaN                    NaN            NaN     55000.0   \n",
       "187       NaN                    NaN            NaN     62748.0   \n",
       "200       NaN                    NaN            NaN    350000.0   \n",
       "323       NaN                    NaN            NaN         NaN   \n",
       "\n",
       "     DISPONIBLE_ENGAGEMENT  PAIEMENT  RESTE_A_PAYER  \\\n",
       "1                      NaN       NaN            NaN   \n",
       "5                      NaN       NaN            NaN   \n",
       "8                      NaN   42000.0            NaN   \n",
       "9                      NaN   24000.0            NaN   \n",
       "10                     NaN   36000.0            NaN   \n",
       "..                     ...       ...            ...   \n",
       "179                    NaN  129000.0            NaN   \n",
       "180                    NaN   55000.0            NaN   \n",
       "187                    NaN       0.0            NaN   \n",
       "200                    NaN       NaN            NaN   \n",
       "323                    NaN       NaN            NaN   \n",
       "\n",
       "                                              CHAPITRE       ANNEE  \n",
       "1    Achats de matières et de fournitures consommables  2017-12-31  \n",
       "5    Achats de matières et de fournitures consommables  2017-12-31  \n",
       "8                                            Locations  2017-12-31  \n",
       "9                                            Locations  2017-12-31  \n",
       "10                                           Locations  2017-12-31  \n",
       "..                                                 ...         ...  \n",
       "179      Publicité,publications et relations publiques  2019-12-31  \n",
       "180      Publicité,publications et relations publiques  2019-12-31  \n",
       "187                                   Charges Sociales  2019-12-31  \n",
       "200                                                NaN  2019-12-31  \n",
       "323                            Entretien et réparation  2022-12-31  \n",
       "\n",
       "[89 rows x 9 columns]"
      ]
     },
     "execution_count": 402,
     "metadata": {},
     "output_type": "execute_result"
    }
   ],
   "source": [
    "budget_ex[budget_ex['COMPTES_N'].isna()]"
   ]
  },
  {
   "cell_type": "code",
   "execution_count": 403,
   "metadata": {},
   "outputs": [],
   "source": [
    "budget_ex.dropna(how=\"any\",subset=['COMPTES_N','CHAPITRE'],inplace=True)"
   ]
  },
  {
   "cell_type": "code",
   "execution_count": 404,
   "metadata": {},
   "outputs": [
    {
     "data": {
      "text/html": [
       "<div>\n",
       "<style scoped>\n",
       "    .dataframe tbody tr th:only-of-type {\n",
       "        vertical-align: middle;\n",
       "    }\n",
       "\n",
       "    .dataframe tbody tr th {\n",
       "        vertical-align: top;\n",
       "    }\n",
       "\n",
       "    .dataframe thead th {\n",
       "        text-align: right;\n",
       "    }\n",
       "</style>\n",
       "<table border=\"1\" class=\"dataframe\">\n",
       "  <thead>\n",
       "    <tr style=\"text-align: right;\">\n",
       "      <th></th>\n",
       "      <th>COMPTES_N</th>\n",
       "      <th>INTITULEES_DES_COMPTES</th>\n",
       "      <th>CREDIT_OUVERT</th>\n",
       "      <th>ENGAGEMENT</th>\n",
       "      <th>DISPONIBLE_ENGAGEMENT</th>\n",
       "      <th>PAIEMENT</th>\n",
       "      <th>RESTE_A_PAYER</th>\n",
       "      <th>CHAPITRE</th>\n",
       "      <th>ANNEE</th>\n",
       "    </tr>\n",
       "  </thead>\n",
       "  <tbody>\n",
       "  </tbody>\n",
       "</table>\n",
       "</div>"
      ],
      "text/plain": [
       "Empty DataFrame\n",
       "Columns: [COMPTES_N, INTITULEES_DES_COMPTES, CREDIT_OUVERT, ENGAGEMENT, DISPONIBLE_ENGAGEMENT, PAIEMENT, RESTE_A_PAYER, CHAPITRE, ANNEE]\n",
       "Index: []"
      ]
     },
     "execution_count": 404,
     "metadata": {},
     "output_type": "execute_result"
    }
   ],
   "source": [
    "budget_ex[budget_ex['CHAPITRE'].isna()]"
   ]
  },
  {
   "cell_type": "code",
   "execution_count": 405,
   "metadata": {},
   "outputs": [
    {
     "data": {
      "text/plain": [
       "Series([], Name: ANNEE, dtype: int64)"
      ]
     },
     "execution_count": 405,
     "metadata": {},
     "output_type": "execute_result"
    }
   ],
   "source": [
    "budget_ex[budget_ex['CHAPITRE'].isna()]['ANNEE'].value_counts()"
   ]
  },
  {
   "cell_type": "code",
   "execution_count": 406,
   "metadata": {},
   "outputs": [],
   "source": [
    "# Drop NaN rows :\n",
    "budget_ex.dropna(how=\"all\",subset=['COMPTES_N','INTITULEES_DES_COMPTES','ENGAGEMENT','DISPONIBLE_ENGAGEMENT'],inplace=True)"
   ]
  },
  {
   "cell_type": "code",
   "execution_count": 407,
   "metadata": {},
   "outputs": [],
   "source": [
    "#  - Convert the column ANNEE data type to datetime :\n",
    "budget_ex['ANNEE'] = pd.to_datetime(budget_ex['ANNEE'])"
   ]
  },
  {
   "cell_type": "code",
   "execution_count": 408,
   "metadata": {},
   "outputs": [
    {
     "data": {
      "text/plain": [
       "COMPTES_N                         object\n",
       "INTITULEES_DES_COMPTES            object\n",
       "CREDIT_OUVERT                    float64\n",
       "ENGAGEMENT                       float64\n",
       "DISPONIBLE_ENGAGEMENT            float64\n",
       "PAIEMENT                         float64\n",
       "RESTE_A_PAYER                    float64\n",
       "CHAPITRE                          object\n",
       "ANNEE                     datetime64[ns]\n",
       "dtype: object"
      ]
     },
     "execution_count": 408,
     "metadata": {},
     "output_type": "execute_result"
    }
   ],
   "source": [
    "budget_ex.dtypes"
   ]
  },
  {
   "cell_type": "code",
   "execution_count": 409,
   "metadata": {},
   "outputs": [
    {
     "data": {
      "text/html": [
       "<div>\n",
       "<style scoped>\n",
       "    .dataframe tbody tr th:only-of-type {\n",
       "        vertical-align: middle;\n",
       "    }\n",
       "\n",
       "    .dataframe tbody tr th {\n",
       "        vertical-align: top;\n",
       "    }\n",
       "\n",
       "    .dataframe thead th {\n",
       "        text-align: right;\n",
       "    }\n",
       "</style>\n",
       "<table border=\"1\" class=\"dataframe\">\n",
       "  <thead>\n",
       "    <tr style=\"text-align: right;\">\n",
       "      <th></th>\n",
       "      <th>COMPTES_N</th>\n",
       "      <th>INTITULEES_DES_COMPTES</th>\n",
       "      <th>CREDIT_OUVERT</th>\n",
       "      <th>ENGAGEMENT</th>\n",
       "      <th>DISPONIBLE_ENGAGEMENT</th>\n",
       "      <th>PAIEMENT</th>\n",
       "      <th>RESTE_A_PAYER</th>\n",
       "      <th>CHAPITRE</th>\n",
       "      <th>ANNEE</th>\n",
       "    </tr>\n",
       "  </thead>\n",
       "  <tbody>\n",
       "    <tr>\n",
       "      <th>0</th>\n",
       "      <td>61223.0</td>\n",
       "      <td>Achat de combustibles</td>\n",
       "      <td>250000.0</td>\n",
       "      <td>100000.0</td>\n",
       "      <td>0.0</td>\n",
       "      <td>250000.0</td>\n",
       "      <td>0.0</td>\n",
       "      <td>Achats de matières et de fournitures consommables</td>\n",
       "      <td>2017-12-31</td>\n",
       "    </tr>\n",
       "    <tr>\n",
       "      <th>2</th>\n",
       "      <td>61227011.0</td>\n",
       "      <td>Achat de fournitures de bureau</td>\n",
       "      <td>122530.0</td>\n",
       "      <td>122529.7</td>\n",
       "      <td>0.3</td>\n",
       "      <td>0.0</td>\n",
       "      <td>122529.7</td>\n",
       "      <td>Achats de matières et de fournitures consommables</td>\n",
       "      <td>2017-12-31</td>\n",
       "    </tr>\n",
       "  </tbody>\n",
       "</table>\n",
       "</div>"
      ],
      "text/plain": [
       "    COMPTES_N          INTITULEES_DES_COMPTES  CREDIT_OUVERT  ENGAGEMENT  \\\n",
       "0     61223.0           Achat de combustibles       250000.0    100000.0   \n",
       "2  61227011.0  Achat de fournitures de bureau       122530.0    122529.7   \n",
       "\n",
       "   DISPONIBLE_ENGAGEMENT  PAIEMENT  RESTE_A_PAYER  \\\n",
       "0                    0.0  250000.0            0.0   \n",
       "2                    0.3       0.0       122529.7   \n",
       "\n",
       "                                            CHAPITRE      ANNEE  \n",
       "0  Achats de matières et de fournitures consommables 2017-12-31  \n",
       "2  Achats de matières et de fournitures consommables 2017-12-31  "
      ]
     },
     "execution_count": 409,
     "metadata": {},
     "output_type": "execute_result"
    }
   ],
   "source": [
    "budget_ex.head(2)"
   ]
  },
  {
   "cell_type": "code",
   "execution_count": 410,
   "metadata": {},
   "outputs": [
    {
     "name": "stderr",
     "output_type": "stream",
     "text": [
      "C:\\Users\\tioua\\AppData\\Local\\Temp\\ipykernel_9672\\3020339210.py:2: FutureWarning: The default value of regex will change from True to False in a future version.\n",
      "  budget_ex['COMPTES_N'] = budget_ex['COMPTES_N'].astype(str).str.replace('.0','')\n"
     ]
    }
   ],
   "source": [
    "budget_ex['COMPTES_N'] = budget_ex['COMPTES_N'].astype(str).str.replace('/','')\n",
    "budget_ex['COMPTES_N'] = budget_ex['COMPTES_N'].astype(str).str.replace('.0','')\n",
    "budget_ex['COMPTES_N'] = budget_ex['COMPTES_N'].astype(str).str.replace(' ','')"
   ]
  },
  {
   "cell_type": "code",
   "execution_count": 411,
   "metadata": {},
   "outputs": [],
   "source": [
    "budget_ex['COMPTES_N'] = budget_ex['COMPTES_N'].astype('Int64')"
   ]
  },
  {
   "cell_type": "code",
   "execution_count": 412,
   "metadata": {},
   "outputs": [],
   "source": [
    "budget_ex.fillna(0,inplace=True)"
   ]
  },
  {
   "cell_type": "code",
   "execution_count": 413,
   "metadata": {},
   "outputs": [
    {
     "data": {
      "text/html": [
       "<div>\n",
       "<style scoped>\n",
       "    .dataframe tbody tr th:only-of-type {\n",
       "        vertical-align: middle;\n",
       "    }\n",
       "\n",
       "    .dataframe tbody tr th {\n",
       "        vertical-align: top;\n",
       "    }\n",
       "\n",
       "    .dataframe thead th {\n",
       "        text-align: right;\n",
       "    }\n",
       "</style>\n",
       "<table border=\"1\" class=\"dataframe\">\n",
       "  <thead>\n",
       "    <tr style=\"text-align: right;\">\n",
       "      <th></th>\n",
       "      <th>COMPTES_N</th>\n",
       "      <th>INTITULEES_DES_COMPTES</th>\n",
       "      <th>CREDIT_OUVERT</th>\n",
       "      <th>ENGAGEMENT</th>\n",
       "      <th>DISPONIBLE_ENGAGEMENT</th>\n",
       "      <th>PAIEMENT</th>\n",
       "      <th>RESTE_A_PAYER</th>\n",
       "      <th>CHAPITRE</th>\n",
       "      <th>ANNEE</th>\n",
       "    </tr>\n",
       "  </thead>\n",
       "  <tbody>\n",
       "    <tr>\n",
       "      <th>0</th>\n",
       "      <td>61223</td>\n",
       "      <td>Achat de combustibles</td>\n",
       "      <td>250000.0</td>\n",
       "      <td>100000.00</td>\n",
       "      <td>0.00</td>\n",
       "      <td>250000.0</td>\n",
       "      <td>0.00</td>\n",
       "      <td>Achats de matières et de fournitures consommables</td>\n",
       "      <td>2017-12-31</td>\n",
       "    </tr>\n",
       "    <tr>\n",
       "      <th>2</th>\n",
       "      <td>612211</td>\n",
       "      <td>Achat de fournitures de bureau</td>\n",
       "      <td>122530.0</td>\n",
       "      <td>122529.70</td>\n",
       "      <td>0.30</td>\n",
       "      <td>0.0</td>\n",
       "      <td>122529.70</td>\n",
       "      <td>Achats de matières et de fournitures consommables</td>\n",
       "      <td>2017-12-31</td>\n",
       "    </tr>\n",
       "    <tr>\n",
       "      <th>3</th>\n",
       "      <td>612212</td>\n",
       "      <td>Fourniture pour matériel technique et informat...</td>\n",
       "      <td>8345.0</td>\n",
       "      <td>8344.44</td>\n",
       "      <td>0.56</td>\n",
       "      <td>0.0</td>\n",
       "      <td>8344.44</td>\n",
       "      <td>Achats de matières et de fournitures consommables</td>\n",
       "      <td>2017-12-31</td>\n",
       "    </tr>\n",
       "    <tr>\n",
       "      <th>4</th>\n",
       "      <td>612213</td>\n",
       "      <td>Fourniture de produits d'impression de reprodu...</td>\n",
       "      <td>129125.0</td>\n",
       "      <td>51042.90</td>\n",
       "      <td>295.70</td>\n",
       "      <td>0.0</td>\n",
       "      <td>128829.30</td>\n",
       "      <td>Achats de matières et de fournitures consommables</td>\n",
       "      <td>2017-12-31</td>\n",
       "    </tr>\n",
       "    <tr>\n",
       "      <th>6</th>\n",
       "      <td>61263</td>\n",
       "      <td>Prestations d'impression et reproduction photo...</td>\n",
       "      <td>120000.0</td>\n",
       "      <td>120000.00</td>\n",
       "      <td>0.00</td>\n",
       "      <td>0.0</td>\n",
       "      <td>120000.00</td>\n",
       "      <td>Prestations de services</td>\n",
       "      <td>2017-12-31</td>\n",
       "    </tr>\n",
       "  </tbody>\n",
       "</table>\n",
       "</div>"
      ],
      "text/plain": [
       "   COMPTES_N                             INTITULEES_DES_COMPTES  \\\n",
       "0      61223                              Achat de combustibles   \n",
       "2     612211                     Achat de fournitures de bureau   \n",
       "3     612212  Fourniture pour matériel technique et informat...   \n",
       "4     612213  Fourniture de produits d'impression de reprodu...   \n",
       "6      61263  Prestations d'impression et reproduction photo...   \n",
       "\n",
       "   CREDIT_OUVERT  ENGAGEMENT  DISPONIBLE_ENGAGEMENT  PAIEMENT  RESTE_A_PAYER  \\\n",
       "0       250000.0   100000.00                   0.00  250000.0           0.00   \n",
       "2       122530.0   122529.70                   0.30       0.0      122529.70   \n",
       "3         8345.0     8344.44                   0.56       0.0        8344.44   \n",
       "4       129125.0    51042.90                 295.70       0.0      128829.30   \n",
       "6       120000.0   120000.00                   0.00       0.0      120000.00   \n",
       "\n",
       "                                            CHAPITRE      ANNEE  \n",
       "0  Achats de matières et de fournitures consommables 2017-12-31  \n",
       "2  Achats de matières et de fournitures consommables 2017-12-31  \n",
       "3  Achats de matières et de fournitures consommables 2017-12-31  \n",
       "4  Achats de matières et de fournitures consommables 2017-12-31  \n",
       "6                            Prestations de services 2017-12-31  "
      ]
     },
     "execution_count": 413,
     "metadata": {},
     "output_type": "execute_result"
    }
   ],
   "source": [
    "budget_ex.head()"
   ]
  },
  {
   "cell_type": "code",
   "execution_count": 414,
   "metadata": {},
   "outputs": [],
   "source": [
    "# - Modify Egagement Column : \n",
    "budget_ex['ENGAGEMENT'] = (budget_ex['CREDIT_OUVERT']-budget_ex['DISPONIBLE_ENGAGEMENT'])"
   ]
  },
  {
   "cell_type": "code",
   "execution_count": 415,
   "metadata": {},
   "outputs": [
    {
     "data": {
      "text/html": [
       "<div>\n",
       "<style scoped>\n",
       "    .dataframe tbody tr th:only-of-type {\n",
       "        vertical-align: middle;\n",
       "    }\n",
       "\n",
       "    .dataframe tbody tr th {\n",
       "        vertical-align: top;\n",
       "    }\n",
       "\n",
       "    .dataframe thead th {\n",
       "        text-align: right;\n",
       "    }\n",
       "</style>\n",
       "<table border=\"1\" class=\"dataframe\">\n",
       "  <thead>\n",
       "    <tr style=\"text-align: right;\">\n",
       "      <th></th>\n",
       "      <th>COMPTES_N</th>\n",
       "      <th>INTITULEES_DES_COMPTES</th>\n",
       "      <th>CREDIT_OUVERT</th>\n",
       "      <th>ENGAGEMENT</th>\n",
       "      <th>DISPONIBLE_ENGAGEMENT</th>\n",
       "      <th>PAIEMENT</th>\n",
       "      <th>RESTE_A_PAYER</th>\n",
       "      <th>CHAPITRE</th>\n",
       "      <th>ANNEE</th>\n",
       "    </tr>\n",
       "  </thead>\n",
       "  <tbody>\n",
       "    <tr>\n",
       "      <th>0</th>\n",
       "      <td>61223</td>\n",
       "      <td>Achat de combustibles</td>\n",
       "      <td>250000.0</td>\n",
       "      <td>250000.00</td>\n",
       "      <td>0.00</td>\n",
       "      <td>250000.0</td>\n",
       "      <td>0.00</td>\n",
       "      <td>Achats de matières et de fournitures consommables</td>\n",
       "      <td>2017-12-31</td>\n",
       "    </tr>\n",
       "    <tr>\n",
       "      <th>2</th>\n",
       "      <td>612211</td>\n",
       "      <td>Achat de fournitures de bureau</td>\n",
       "      <td>122530.0</td>\n",
       "      <td>122529.70</td>\n",
       "      <td>0.30</td>\n",
       "      <td>0.0</td>\n",
       "      <td>122529.70</td>\n",
       "      <td>Achats de matières et de fournitures consommables</td>\n",
       "      <td>2017-12-31</td>\n",
       "    </tr>\n",
       "    <tr>\n",
       "      <th>3</th>\n",
       "      <td>612212</td>\n",
       "      <td>Fourniture pour matériel technique et informat...</td>\n",
       "      <td>8345.0</td>\n",
       "      <td>8344.44</td>\n",
       "      <td>0.56</td>\n",
       "      <td>0.0</td>\n",
       "      <td>8344.44</td>\n",
       "      <td>Achats de matières et de fournitures consommables</td>\n",
       "      <td>2017-12-31</td>\n",
       "    </tr>\n",
       "    <tr>\n",
       "      <th>4</th>\n",
       "      <td>612213</td>\n",
       "      <td>Fourniture de produits d'impression de reprodu...</td>\n",
       "      <td>129125.0</td>\n",
       "      <td>128829.30</td>\n",
       "      <td>295.70</td>\n",
       "      <td>0.0</td>\n",
       "      <td>128829.30</td>\n",
       "      <td>Achats de matières et de fournitures consommables</td>\n",
       "      <td>2017-12-31</td>\n",
       "    </tr>\n",
       "    <tr>\n",
       "      <th>6</th>\n",
       "      <td>61263</td>\n",
       "      <td>Prestations d'impression et reproduction photo...</td>\n",
       "      <td>120000.0</td>\n",
       "      <td>120000.00</td>\n",
       "      <td>0.00</td>\n",
       "      <td>0.0</td>\n",
       "      <td>120000.00</td>\n",
       "      <td>Prestations de services</td>\n",
       "      <td>2017-12-31</td>\n",
       "    </tr>\n",
       "  </tbody>\n",
       "</table>\n",
       "</div>"
      ],
      "text/plain": [
       "   COMPTES_N                             INTITULEES_DES_COMPTES  \\\n",
       "0      61223                              Achat de combustibles   \n",
       "2     612211                     Achat de fournitures de bureau   \n",
       "3     612212  Fourniture pour matériel technique et informat...   \n",
       "4     612213  Fourniture de produits d'impression de reprodu...   \n",
       "6      61263  Prestations d'impression et reproduction photo...   \n",
       "\n",
       "   CREDIT_OUVERT  ENGAGEMENT  DISPONIBLE_ENGAGEMENT  PAIEMENT  RESTE_A_PAYER  \\\n",
       "0       250000.0   250000.00                   0.00  250000.0           0.00   \n",
       "2       122530.0   122529.70                   0.30       0.0      122529.70   \n",
       "3         8345.0     8344.44                   0.56       0.0        8344.44   \n",
       "4       129125.0   128829.30                 295.70       0.0      128829.30   \n",
       "6       120000.0   120000.00                   0.00       0.0      120000.00   \n",
       "\n",
       "                                            CHAPITRE      ANNEE  \n",
       "0  Achats de matières et de fournitures consommables 2017-12-31  \n",
       "2  Achats de matières et de fournitures consommables 2017-12-31  \n",
       "3  Achats de matières et de fournitures consommables 2017-12-31  \n",
       "4  Achats de matières et de fournitures consommables 2017-12-31  \n",
       "6                            Prestations de services 2017-12-31  "
      ]
     },
     "execution_count": 415,
     "metadata": {},
     "output_type": "execute_result"
    }
   ],
   "source": [
    "budget_ex.head()"
   ]
  },
  {
   "cell_type": "code",
   "execution_count": 416,
   "metadata": {},
   "outputs": [],
   "source": [
    "# - Modify Paiement Column : \n",
    "budget_ex['PAIEMENT'] = (budget_ex['ENGAGEMENT']-budget_ex['RESTE_A_PAYER'])"
   ]
  },
  {
   "cell_type": "code",
   "execution_count": 417,
   "metadata": {},
   "outputs": [
    {
     "data": {
      "text/html": [
       "<div>\n",
       "<style scoped>\n",
       "    .dataframe tbody tr th:only-of-type {\n",
       "        vertical-align: middle;\n",
       "    }\n",
       "\n",
       "    .dataframe tbody tr th {\n",
       "        vertical-align: top;\n",
       "    }\n",
       "\n",
       "    .dataframe thead th {\n",
       "        text-align: right;\n",
       "    }\n",
       "</style>\n",
       "<table border=\"1\" class=\"dataframe\">\n",
       "  <thead>\n",
       "    <tr style=\"text-align: right;\">\n",
       "      <th></th>\n",
       "      <th>COMPTES_N</th>\n",
       "      <th>INTITULEES_DES_COMPTES</th>\n",
       "      <th>CREDIT_OUVERT</th>\n",
       "      <th>ENGAGEMENT</th>\n",
       "      <th>DISPONIBLE_ENGAGEMENT</th>\n",
       "      <th>PAIEMENT</th>\n",
       "      <th>RESTE_A_PAYER</th>\n",
       "      <th>CHAPITRE</th>\n",
       "      <th>ANNEE</th>\n",
       "    </tr>\n",
       "  </thead>\n",
       "  <tbody>\n",
       "    <tr>\n",
       "      <th>0</th>\n",
       "      <td>61223</td>\n",
       "      <td>Achat de combustibles</td>\n",
       "      <td>250000.0</td>\n",
       "      <td>250000.00</td>\n",
       "      <td>0.00</td>\n",
       "      <td>250000.0</td>\n",
       "      <td>0.00</td>\n",
       "      <td>Achats de matières et de fournitures consommables</td>\n",
       "      <td>2017-12-31</td>\n",
       "    </tr>\n",
       "    <tr>\n",
       "      <th>2</th>\n",
       "      <td>612211</td>\n",
       "      <td>Achat de fournitures de bureau</td>\n",
       "      <td>122530.0</td>\n",
       "      <td>122529.70</td>\n",
       "      <td>0.30</td>\n",
       "      <td>0.0</td>\n",
       "      <td>122529.70</td>\n",
       "      <td>Achats de matières et de fournitures consommables</td>\n",
       "      <td>2017-12-31</td>\n",
       "    </tr>\n",
       "    <tr>\n",
       "      <th>3</th>\n",
       "      <td>612212</td>\n",
       "      <td>Fourniture pour matériel technique et informat...</td>\n",
       "      <td>8345.0</td>\n",
       "      <td>8344.44</td>\n",
       "      <td>0.56</td>\n",
       "      <td>0.0</td>\n",
       "      <td>8344.44</td>\n",
       "      <td>Achats de matières et de fournitures consommables</td>\n",
       "      <td>2017-12-31</td>\n",
       "    </tr>\n",
       "    <tr>\n",
       "      <th>4</th>\n",
       "      <td>612213</td>\n",
       "      <td>Fourniture de produits d'impression de reprodu...</td>\n",
       "      <td>129125.0</td>\n",
       "      <td>128829.30</td>\n",
       "      <td>295.70</td>\n",
       "      <td>0.0</td>\n",
       "      <td>128829.30</td>\n",
       "      <td>Achats de matières et de fournitures consommables</td>\n",
       "      <td>2017-12-31</td>\n",
       "    </tr>\n",
       "    <tr>\n",
       "      <th>6</th>\n",
       "      <td>61263</td>\n",
       "      <td>Prestations d'impression et reproduction photo...</td>\n",
       "      <td>120000.0</td>\n",
       "      <td>120000.00</td>\n",
       "      <td>0.00</td>\n",
       "      <td>0.0</td>\n",
       "      <td>120000.00</td>\n",
       "      <td>Prestations de services</td>\n",
       "      <td>2017-12-31</td>\n",
       "    </tr>\n",
       "  </tbody>\n",
       "</table>\n",
       "</div>"
      ],
      "text/plain": [
       "   COMPTES_N                             INTITULEES_DES_COMPTES  \\\n",
       "0      61223                              Achat de combustibles   \n",
       "2     612211                     Achat de fournitures de bureau   \n",
       "3     612212  Fourniture pour matériel technique et informat...   \n",
       "4     612213  Fourniture de produits d'impression de reprodu...   \n",
       "6      61263  Prestations d'impression et reproduction photo...   \n",
       "\n",
       "   CREDIT_OUVERT  ENGAGEMENT  DISPONIBLE_ENGAGEMENT  PAIEMENT  RESTE_A_PAYER  \\\n",
       "0       250000.0   250000.00                   0.00  250000.0           0.00   \n",
       "2       122530.0   122529.70                   0.30       0.0      122529.70   \n",
       "3         8345.0     8344.44                   0.56       0.0        8344.44   \n",
       "4       129125.0   128829.30                 295.70       0.0      128829.30   \n",
       "6       120000.0   120000.00                   0.00       0.0      120000.00   \n",
       "\n",
       "                                            CHAPITRE      ANNEE  \n",
       "0  Achats de matières et de fournitures consommables 2017-12-31  \n",
       "2  Achats de matières et de fournitures consommables 2017-12-31  \n",
       "3  Achats de matières et de fournitures consommables 2017-12-31  \n",
       "4  Achats de matières et de fournitures consommables 2017-12-31  \n",
       "6                            Prestations de services 2017-12-31  "
      ]
     },
     "execution_count": 417,
     "metadata": {},
     "output_type": "execute_result"
    }
   ],
   "source": [
    "budget_ex.head()"
   ]
  },
  {
   "cell_type": "code",
   "execution_count": 418,
   "metadata": {},
   "outputs": [
    {
     "data": {
      "text/html": [
       "<div>\n",
       "<style scoped>\n",
       "    .dataframe tbody tr th:only-of-type {\n",
       "        vertical-align: middle;\n",
       "    }\n",
       "\n",
       "    .dataframe tbody tr th {\n",
       "        vertical-align: top;\n",
       "    }\n",
       "\n",
       "    .dataframe thead th {\n",
       "        text-align: right;\n",
       "    }\n",
       "</style>\n",
       "<table border=\"1\" class=\"dataframe\">\n",
       "  <thead>\n",
       "    <tr style=\"text-align: right;\">\n",
       "      <th></th>\n",
       "      <th>COMPTES_N</th>\n",
       "      <th>INTITULEES_DES_COMPTES</th>\n",
       "      <th>CREDIT_OUVERT</th>\n",
       "      <th>ENGAGEMENT</th>\n",
       "      <th>DISPONIBLE_ENGAGEMENT</th>\n",
       "      <th>PAIEMENT</th>\n",
       "      <th>RESTE_A_PAYER</th>\n",
       "      <th>CHAPITRE</th>\n",
       "      <th>ANNEE</th>\n",
       "    </tr>\n",
       "  </thead>\n",
       "  <tbody>\n",
       "    <tr>\n",
       "      <th>337</th>\n",
       "      <td>61611</td>\n",
       "      <td>Dépenses liées aux impots et taxes directs</td>\n",
       "      <td>240000.0</td>\n",
       "      <td>237134.3</td>\n",
       "      <td>2865.7</td>\n",
       "      <td>237134.3</td>\n",
       "      <td>0.0</td>\n",
       "      <td>Impots et taxes</td>\n",
       "      <td>2022-12-31</td>\n",
       "    </tr>\n",
       "    <tr>\n",
       "      <th>338</th>\n",
       "      <td>61673</td>\n",
       "      <td>Taxe spéciale annuelle sur les véhicules autom...</td>\n",
       "      <td>13150.0</td>\n",
       "      <td>13150.0</td>\n",
       "      <td>0.0</td>\n",
       "      <td>13150.0</td>\n",
       "      <td>0.0</td>\n",
       "      <td>Impots et taxes</td>\n",
       "      <td>2022-12-31</td>\n",
       "    </tr>\n",
       "    <tr>\n",
       "      <th>339</th>\n",
       "      <td>61441</td>\n",
       "      <td>Annonces,Abonnements,insertions,accés base de ...</td>\n",
       "      <td>29500.0</td>\n",
       "      <td>23400.0</td>\n",
       "      <td>6100.0</td>\n",
       "      <td>4800.0</td>\n",
       "      <td>18600.0</td>\n",
       "      <td>Publicité,publications et relations publiques</td>\n",
       "      <td>2022-12-31</td>\n",
       "    </tr>\n",
       "    <tr>\n",
       "      <th>340</th>\n",
       "      <td>61444</td>\n",
       "      <td>Publicité et communication</td>\n",
       "      <td>70500.0</td>\n",
       "      <td>70008.0</td>\n",
       "      <td>492.0</td>\n",
       "      <td>70008.0</td>\n",
       "      <td>0.0</td>\n",
       "      <td>Publicité,publications et relations publiques</td>\n",
       "      <td>2022-12-31</td>\n",
       "    </tr>\n",
       "    <tr>\n",
       "      <th>341</th>\n",
       "      <td>61448</td>\n",
       "      <td>Infogérance,siteweb,assistance et numérisation</td>\n",
       "      <td>50000.0</td>\n",
       "      <td>50000.0</td>\n",
       "      <td>0.0</td>\n",
       "      <td>0.0</td>\n",
       "      <td>50000.0</td>\n",
       "      <td>Publicité,publications et relations publiques</td>\n",
       "      <td>2022-12-31</td>\n",
       "    </tr>\n",
       "  </tbody>\n",
       "</table>\n",
       "</div>"
      ],
      "text/plain": [
       "     COMPTES_N                             INTITULEES_DES_COMPTES  \\\n",
       "337      61611         Dépenses liées aux impots et taxes directs   \n",
       "338      61673  Taxe spéciale annuelle sur les véhicules autom...   \n",
       "339      61441  Annonces,Abonnements,insertions,accés base de ...   \n",
       "340      61444                         Publicité et communication   \n",
       "341      61448     Infogérance,siteweb,assistance et numérisation   \n",
       "\n",
       "     CREDIT_OUVERT  ENGAGEMENT  DISPONIBLE_ENGAGEMENT  PAIEMENT  \\\n",
       "337       240000.0    237134.3                 2865.7  237134.3   \n",
       "338        13150.0     13150.0                    0.0   13150.0   \n",
       "339        29500.0     23400.0                 6100.0    4800.0   \n",
       "340        70500.0     70008.0                  492.0   70008.0   \n",
       "341        50000.0     50000.0                    0.0       0.0   \n",
       "\n",
       "     RESTE_A_PAYER                                       CHAPITRE      ANNEE  \n",
       "337            0.0                                Impots et taxes 2022-12-31  \n",
       "338            0.0                                Impots et taxes 2022-12-31  \n",
       "339        18600.0  Publicité,publications et relations publiques 2022-12-31  \n",
       "340            0.0  Publicité,publications et relations publiques 2022-12-31  \n",
       "341        50000.0  Publicité,publications et relations publiques 2022-12-31  "
      ]
     },
     "execution_count": 418,
     "metadata": {},
     "output_type": "execute_result"
    }
   ],
   "source": [
    "budget_ex.tail()"
   ]
  },
  {
   "cell_type": "code",
   "execution_count": 419,
   "metadata": {},
   "outputs": [],
   "source": [
    "budget_ex.drop_duplicates(inplace=True)"
   ]
  },
  {
   "cell_type": "code",
   "execution_count": 420,
   "metadata": {},
   "outputs": [
    {
     "data": {
      "text/plain": [
       "COMPTES_N  INTITULEES_DES_COMPTES  CREDIT_OUVERT  ENGAGEMENT  DISPONIBLE_ENGAGEMENT  PAIEMENT  RESTE_A_PAYER  CHAPITRE  ANNEE\n",
       "False      False                   False          False       False                  False     False          False     False    251\n",
       "dtype: int64"
      ]
     },
     "execution_count": 420,
     "metadata": {},
     "output_type": "execute_result"
    }
   ],
   "source": [
    "budget_ex.isna().value_counts()"
   ]
  },
  {
   "cell_type": "code",
   "execution_count": 421,
   "metadata": {},
   "outputs": [
    {
     "data": {
      "text/html": [
       "<div>\n",
       "<style scoped>\n",
       "    .dataframe tbody tr th:only-of-type {\n",
       "        vertical-align: middle;\n",
       "    }\n",
       "\n",
       "    .dataframe tbody tr th {\n",
       "        vertical-align: top;\n",
       "    }\n",
       "\n",
       "    .dataframe thead th {\n",
       "        text-align: right;\n",
       "    }\n",
       "</style>\n",
       "<table border=\"1\" class=\"dataframe\">\n",
       "  <thead>\n",
       "    <tr style=\"text-align: right;\">\n",
       "      <th></th>\n",
       "      <th>COMPTES_N</th>\n",
       "      <th>INTITULEES_DES_COMPTES</th>\n",
       "      <th>CREDIT_OUVERT</th>\n",
       "      <th>ENGAGEMENT</th>\n",
       "      <th>DISPONIBLE_ENGAGEMENT</th>\n",
       "      <th>PAIEMENT</th>\n",
       "      <th>RESTE_A_PAYER</th>\n",
       "      <th>CHAPITRE</th>\n",
       "      <th>ANNEE</th>\n",
       "    </tr>\n",
       "  </thead>\n",
       "  <tbody>\n",
       "  </tbody>\n",
       "</table>\n",
       "</div>"
      ],
      "text/plain": [
       "Empty DataFrame\n",
       "Columns: [COMPTES_N, INTITULEES_DES_COMPTES, CREDIT_OUVERT, ENGAGEMENT, DISPONIBLE_ENGAGEMENT, PAIEMENT, RESTE_A_PAYER, CHAPITRE, ANNEE]\n",
       "Index: []"
      ]
     },
     "execution_count": 421,
     "metadata": {},
     "output_type": "execute_result"
    }
   ],
   "source": [
    "budget_ex[budget_ex['ENGAGEMENT'].isna()]"
   ]
  },
  {
   "cell_type": "code",
   "execution_count": 422,
   "metadata": {},
   "outputs": [
    {
     "data": {
      "text/html": [
       "<div>\n",
       "<style scoped>\n",
       "    .dataframe tbody tr th:only-of-type {\n",
       "        vertical-align: middle;\n",
       "    }\n",
       "\n",
       "    .dataframe tbody tr th {\n",
       "        vertical-align: top;\n",
       "    }\n",
       "\n",
       "    .dataframe thead th {\n",
       "        text-align: right;\n",
       "    }\n",
       "</style>\n",
       "<table border=\"1\" class=\"dataframe\">\n",
       "  <thead>\n",
       "    <tr style=\"text-align: right;\">\n",
       "      <th></th>\n",
       "      <th>COMPTES_N</th>\n",
       "      <th>INTITULEES_DES_COMPTES</th>\n",
       "      <th>CREDIT_OUVERT</th>\n",
       "      <th>ENGAGEMENT</th>\n",
       "      <th>DISPONIBLE_ENGAGEMENT</th>\n",
       "      <th>PAIEMENT</th>\n",
       "      <th>RESTE_A_PAYER</th>\n",
       "      <th>CHAPITRE</th>\n",
       "      <th>ANNEE</th>\n",
       "    </tr>\n",
       "  </thead>\n",
       "  <tbody>\n",
       "  </tbody>\n",
       "</table>\n",
       "</div>"
      ],
      "text/plain": [
       "Empty DataFrame\n",
       "Columns: [COMPTES_N, INTITULEES_DES_COMPTES, CREDIT_OUVERT, ENGAGEMENT, DISPONIBLE_ENGAGEMENT, PAIEMENT, RESTE_A_PAYER, CHAPITRE, ANNEE]\n",
       "Index: []"
      ]
     },
     "execution_count": 422,
     "metadata": {},
     "output_type": "execute_result"
    }
   ],
   "source": [
    "budget_ex[budget_ex['PAIEMENT'].isna()]"
   ]
  },
  {
   "cell_type": "code",
   "execution_count": 423,
   "metadata": {},
   "outputs": [
    {
     "data": {
      "text/html": [
       "<div>\n",
       "<style scoped>\n",
       "    .dataframe tbody tr th:only-of-type {\n",
       "        vertical-align: middle;\n",
       "    }\n",
       "\n",
       "    .dataframe tbody tr th {\n",
       "        vertical-align: top;\n",
       "    }\n",
       "\n",
       "    .dataframe thead th {\n",
       "        text-align: right;\n",
       "    }\n",
       "</style>\n",
       "<table border=\"1\" class=\"dataframe\">\n",
       "  <thead>\n",
       "    <tr style=\"text-align: right;\">\n",
       "      <th></th>\n",
       "      <th>COMPTES_N</th>\n",
       "      <th>INTITULEES_DES_COMPTES</th>\n",
       "      <th>CREDIT_OUVERT</th>\n",
       "      <th>ENGAGEMENT</th>\n",
       "      <th>DISPONIBLE_ENGAGEMENT</th>\n",
       "      <th>PAIEMENT</th>\n",
       "      <th>RESTE_A_PAYER</th>\n",
       "      <th>CHAPITRE</th>\n",
       "      <th>ANNEE</th>\n",
       "    </tr>\n",
       "  </thead>\n",
       "  <tbody>\n",
       "  </tbody>\n",
       "</table>\n",
       "</div>"
      ],
      "text/plain": [
       "Empty DataFrame\n",
       "Columns: [COMPTES_N, INTITULEES_DES_COMPTES, CREDIT_OUVERT, ENGAGEMENT, DISPONIBLE_ENGAGEMENT, PAIEMENT, RESTE_A_PAYER, CHAPITRE, ANNEE]\n",
       "Index: []"
      ]
     },
     "execution_count": 423,
     "metadata": {},
     "output_type": "execute_result"
    }
   ],
   "source": [
    "budget_ex[budget_ex['CHAPITRE'].isna()]"
   ]
  },
  {
   "cell_type": "code",
   "execution_count": 424,
   "metadata": {},
   "outputs": [
    {
     "data": {
      "text/html": [
       "<div>\n",
       "<style scoped>\n",
       "    .dataframe tbody tr th:only-of-type {\n",
       "        vertical-align: middle;\n",
       "    }\n",
       "\n",
       "    .dataframe tbody tr th {\n",
       "        vertical-align: top;\n",
       "    }\n",
       "\n",
       "    .dataframe thead th {\n",
       "        text-align: right;\n",
       "    }\n",
       "</style>\n",
       "<table border=\"1\" class=\"dataframe\">\n",
       "  <thead>\n",
       "    <tr style=\"text-align: right;\">\n",
       "      <th></th>\n",
       "      <th>COMPTES_N</th>\n",
       "      <th>CREDIT_OUVERT</th>\n",
       "      <th>ENGAGEMENT</th>\n",
       "      <th>DISPONIBLE_ENGAGEMENT</th>\n",
       "      <th>PAIEMENT</th>\n",
       "      <th>RESTE_A_PAYER</th>\n",
       "    </tr>\n",
       "  </thead>\n",
       "  <tbody>\n",
       "    <tr>\n",
       "      <th>count</th>\n",
       "      <td>251.0</td>\n",
       "      <td>2.510000e+02</td>\n",
       "      <td>2.510000e+02</td>\n",
       "      <td>2.510000e+02</td>\n",
       "      <td>2.510000e+02</td>\n",
       "      <td>251.000000</td>\n",
       "    </tr>\n",
       "    <tr>\n",
       "      <th>mean</th>\n",
       "      <td>49719828.486056</td>\n",
       "      <td>3.053524e+05</td>\n",
       "      <td>2.768284e+05</td>\n",
       "      <td>2.852395e+04</td>\n",
       "      <td>2.566086e+05</td>\n",
       "      <td>20219.817809</td>\n",
       "    </tr>\n",
       "    <tr>\n",
       "      <th>std</th>\n",
       "      <td>549355887.100787</td>\n",
       "      <td>9.136848e+05</td>\n",
       "      <td>8.262792e+05</td>\n",
       "      <td>1.260300e+05</td>\n",
       "      <td>8.180609e+05</td>\n",
       "      <td>46166.086601</td>\n",
       "    </tr>\n",
       "    <tr>\n",
       "      <th>min</th>\n",
       "      <td>6176.0</td>\n",
       "      <td>0.000000e+00</td>\n",
       "      <td>0.000000e+00</td>\n",
       "      <td>0.000000e+00</td>\n",
       "      <td>0.000000e+00</td>\n",
       "      <td>0.000000</td>\n",
       "    </tr>\n",
       "    <tr>\n",
       "      <th>25%</th>\n",
       "      <td>61354.5</td>\n",
       "      <td>2.500000e+04</td>\n",
       "      <td>1.999874e+04</td>\n",
       "      <td>0.000000e+00</td>\n",
       "      <td>3.000000e+02</td>\n",
       "      <td>0.000000</td>\n",
       "    </tr>\n",
       "    <tr>\n",
       "      <th>50%</th>\n",
       "      <td>61448.0</td>\n",
       "      <td>8.000000e+04</td>\n",
       "      <td>7.738189e+04</td>\n",
       "      <td>1.645000e+01</td>\n",
       "      <td>4.992000e+04</td>\n",
       "      <td>0.000000</td>\n",
       "    </tr>\n",
       "    <tr>\n",
       "      <th>75%</th>\n",
       "      <td>61768.0</td>\n",
       "      <td>2.200000e+05</td>\n",
       "      <td>2.098413e+05</td>\n",
       "      <td>4.282030e+03</td>\n",
       "      <td>2.049206e+05</td>\n",
       "      <td>10000.000000</td>\n",
       "    </tr>\n",
       "    <tr>\n",
       "      <th>max</th>\n",
       "      <td>6167161672.0</td>\n",
       "      <td>8.010000e+06</td>\n",
       "      <td>7.566096e+06</td>\n",
       "      <td>1.175614e+06</td>\n",
       "      <td>7.566096e+06</td>\n",
       "      <td>249948.000000</td>\n",
       "    </tr>\n",
       "  </tbody>\n",
       "</table>\n",
       "</div>"
      ],
      "text/plain": [
       "              COMPTES_N  CREDIT_OUVERT    ENGAGEMENT  DISPONIBLE_ENGAGEMENT  \\\n",
       "count             251.0   2.510000e+02  2.510000e+02           2.510000e+02   \n",
       "mean    49719828.486056   3.053524e+05  2.768284e+05           2.852395e+04   \n",
       "std    549355887.100787   9.136848e+05  8.262792e+05           1.260300e+05   \n",
       "min              6176.0   0.000000e+00  0.000000e+00           0.000000e+00   \n",
       "25%             61354.5   2.500000e+04  1.999874e+04           0.000000e+00   \n",
       "50%             61448.0   8.000000e+04  7.738189e+04           1.645000e+01   \n",
       "75%             61768.0   2.200000e+05  2.098413e+05           4.282030e+03   \n",
       "max        6167161672.0   8.010000e+06  7.566096e+06           1.175614e+06   \n",
       "\n",
       "           PAIEMENT  RESTE_A_PAYER  \n",
       "count  2.510000e+02     251.000000  \n",
       "mean   2.566086e+05   20219.817809  \n",
       "std    8.180609e+05   46166.086601  \n",
       "min    0.000000e+00       0.000000  \n",
       "25%    3.000000e+02       0.000000  \n",
       "50%    4.992000e+04       0.000000  \n",
       "75%    2.049206e+05   10000.000000  \n",
       "max    7.566096e+06  249948.000000  "
      ]
     },
     "execution_count": 424,
     "metadata": {},
     "output_type": "execute_result"
    }
   ],
   "source": [
    "budget_ex.describe()"
   ]
  },
  {
   "cell_type": "code",
   "execution_count": 425,
   "metadata": {},
   "outputs": [
    {
     "data": {
      "text/plain": [
       "COMPTES_N                          Int64\n",
       "INTITULEES_DES_COMPTES            object\n",
       "CREDIT_OUVERT                    float64\n",
       "ENGAGEMENT                       float64\n",
       "DISPONIBLE_ENGAGEMENT            float64\n",
       "PAIEMENT                         float64\n",
       "RESTE_A_PAYER                    float64\n",
       "CHAPITRE                          object\n",
       "ANNEE                     datetime64[ns]\n",
       "dtype: object"
      ]
     },
     "execution_count": 425,
     "metadata": {},
     "output_type": "execute_result"
    }
   ],
   "source": [
    "budget_ex.dtypes"
   ]
  },
  {
   "cell_type": "code",
   "execution_count": 426,
   "metadata": {},
   "outputs": [],
   "source": [
    "filt = (budget_ex['CREDIT_OUVERT']==0) #| (budget_ex['ENGAGEMENT']==0)"
   ]
  },
  {
   "cell_type": "code",
   "execution_count": 427,
   "metadata": {},
   "outputs": [],
   "source": [
    "drp = list(budget_ex.loc[filt,'COMPTES_N'].index)"
   ]
  },
  {
   "cell_type": "code",
   "execution_count": 428,
   "metadata": {},
   "outputs": [
    {
     "data": {
      "text/plain": [
       "[86, 89, 212, 221, 229, 236, 240, 276, 286, 287, 303, 308, 319]"
      ]
     },
     "execution_count": 428,
     "metadata": {},
     "output_type": "execute_result"
    }
   ],
   "source": [
    "drp"
   ]
  },
  {
   "cell_type": "code",
   "execution_count": 429,
   "metadata": {},
   "outputs": [],
   "source": [
    "budget_ex.drop(index=drp,inplace=True)"
   ]
  },
  {
   "cell_type": "markdown",
   "metadata": {},
   "source": [
    "Verifcation Data / Data Validation :  --------"
   ]
  },
  {
   "cell_type": "code",
   "execution_count": 430,
   "metadata": {},
   "outputs": [
    {
     "data": {
      "text/plain": [
       "COMPTES_N  INTITULEES_DES_COMPTES  CREDIT_OUVERT  ENGAGEMENT  DISPONIBLE_ENGAGEMENT  PAIEMENT  RESTE_A_PAYER  CHAPITRE  ANNEE\n",
       "False      False                   False          False       False                  False     False          False     False    238\n",
       "dtype: int64"
      ]
     },
     "execution_count": 430,
     "metadata": {},
     "output_type": "execute_result"
    }
   ],
   "source": [
    "budget_ex.isna().value_counts()"
   ]
  },
  {
   "cell_type": "code",
   "execution_count": 431,
   "metadata": {},
   "outputs": [
    {
     "data": {
      "text/plain": [
       "(238, 9)"
      ]
     },
     "execution_count": 431,
     "metadata": {},
     "output_type": "execute_result"
    }
   ],
   "source": [
    "budget_ex.shape"
   ]
  },
  {
   "cell_type": "code",
   "execution_count": 432,
   "metadata": {},
   "outputs": [
    {
     "data": {
      "text/plain": [
       "False    238\n",
       "dtype: int64"
      ]
     },
     "execution_count": 432,
     "metadata": {},
     "output_type": "execute_result"
    }
   ],
   "source": [
    "budget_ex.duplicated().value_counts()"
   ]
  },
  {
   "cell_type": "code",
   "execution_count": 433,
   "metadata": {},
   "outputs": [
    {
     "name": "stdout",
     "output_type": "stream",
     "text": [
      "False    238\n",
      "Name: COMPTES_N, dtype: Int64\n",
      "False    238\n",
      "Name: CREDIT_OUVERT, dtype: int64\n",
      "False    238\n",
      "Name: ENGAGEMENT, dtype: int64\n",
      "False    238\n",
      "Name: DISPONIBLE_ENGAGEMENT, dtype: int64\n",
      "False    238\n",
      "Name: PAIEMENT, dtype: int64\n",
      "False    238\n",
      "Name: RESTE_A_PAYER, dtype: int64\n"
     ]
    }
   ],
   "source": [
    "#Verify if there is negative values :\n",
    "for k,v in dict(budget_ex.dtypes).items():  \n",
    "    try : \n",
    "        if v!='object':\n",
    "            print((budget_ex[k] < 0).value_counts())\n",
    "    except:\n",
    "        pass"
   ]
  },
  {
   "cell_type": "code",
   "execution_count": 434,
   "metadata": {},
   "outputs": [
    {
     "data": {
      "text/html": [
       "<div>\n",
       "<style scoped>\n",
       "    .dataframe tbody tr th:only-of-type {\n",
       "        vertical-align: middle;\n",
       "    }\n",
       "\n",
       "    .dataframe tbody tr th {\n",
       "        vertical-align: top;\n",
       "    }\n",
       "\n",
       "    .dataframe thead th {\n",
       "        text-align: right;\n",
       "    }\n",
       "</style>\n",
       "<table border=\"1\" class=\"dataframe\">\n",
       "  <thead>\n",
       "    <tr style=\"text-align: right;\">\n",
       "      <th></th>\n",
       "      <th>COMPTES_N</th>\n",
       "      <th>CREDIT_OUVERT</th>\n",
       "      <th>ENGAGEMENT</th>\n",
       "      <th>DISPONIBLE_ENGAGEMENT</th>\n",
       "      <th>PAIEMENT</th>\n",
       "      <th>RESTE_A_PAYER</th>\n",
       "    </tr>\n",
       "  </thead>\n",
       "  <tbody>\n",
       "    <tr>\n",
       "      <th>count</th>\n",
       "      <td>238.0</td>\n",
       "      <td>2.380000e+02</td>\n",
       "      <td>2.380000e+02</td>\n",
       "      <td>2.380000e+02</td>\n",
       "      <td>2.380000e+02</td>\n",
       "      <td>238.000000</td>\n",
       "    </tr>\n",
       "    <tr>\n",
       "      <th>mean</th>\n",
       "      <td>52399742.756303</td>\n",
       "      <td>3.220313e+05</td>\n",
       "      <td>2.919493e+05</td>\n",
       "      <td>3.008198e+04</td>\n",
       "      <td>2.706251e+05</td>\n",
       "      <td>21324.261639</td>\n",
       "    </tr>\n",
       "    <tr>\n",
       "      <th>std</th>\n",
       "      <td>564097938.275509</td>\n",
       "      <td>9.355308e+05</td>\n",
       "      <td>8.460224e+05</td>\n",
       "      <td>1.292584e+05</td>\n",
       "      <td>8.379278e+05</td>\n",
       "      <td>47165.282730</td>\n",
       "    </tr>\n",
       "    <tr>\n",
       "      <th>min</th>\n",
       "      <td>6176.0</td>\n",
       "      <td>1.000000e+03</td>\n",
       "      <td>0.000000e+00</td>\n",
       "      <td>0.000000e+00</td>\n",
       "      <td>0.000000e+00</td>\n",
       "      <td>0.000000</td>\n",
       "    </tr>\n",
       "    <tr>\n",
       "      <th>25%</th>\n",
       "      <td>61354.0</td>\n",
       "      <td>4.000000e+04</td>\n",
       "      <td>2.699331e+04</td>\n",
       "      <td>0.000000e+00</td>\n",
       "      <td>9.964740e+03</td>\n",
       "      <td>0.000000</td>\n",
       "    </tr>\n",
       "    <tr>\n",
       "      <th>50%</th>\n",
       "      <td>61448.0</td>\n",
       "      <td>8.000000e+04</td>\n",
       "      <td>7.999600e+04</td>\n",
       "      <td>2.092000e+01</td>\n",
       "      <td>5.000000e+04</td>\n",
       "      <td>0.000000</td>\n",
       "    </tr>\n",
       "    <tr>\n",
       "      <th>75%</th>\n",
       "      <td>61768.0</td>\n",
       "      <td>2.400000e+05</td>\n",
       "      <td>2.200000e+05</td>\n",
       "      <td>5.025000e+03</td>\n",
       "      <td>2.101178e+05</td>\n",
       "      <td>19590.000000</td>\n",
       "    </tr>\n",
       "    <tr>\n",
       "      <th>max</th>\n",
       "      <td>6167161672.0</td>\n",
       "      <td>8.010000e+06</td>\n",
       "      <td>7.566096e+06</td>\n",
       "      <td>1.175614e+06</td>\n",
       "      <td>7.566096e+06</td>\n",
       "      <td>249948.000000</td>\n",
       "    </tr>\n",
       "  </tbody>\n",
       "</table>\n",
       "</div>"
      ],
      "text/plain": [
       "              COMPTES_N  CREDIT_OUVERT    ENGAGEMENT  DISPONIBLE_ENGAGEMENT  \\\n",
       "count             238.0   2.380000e+02  2.380000e+02           2.380000e+02   \n",
       "mean    52399742.756303   3.220313e+05  2.919493e+05           3.008198e+04   \n",
       "std    564097938.275509   9.355308e+05  8.460224e+05           1.292584e+05   \n",
       "min              6176.0   1.000000e+03  0.000000e+00           0.000000e+00   \n",
       "25%             61354.0   4.000000e+04  2.699331e+04           0.000000e+00   \n",
       "50%             61448.0   8.000000e+04  7.999600e+04           2.092000e+01   \n",
       "75%             61768.0   2.400000e+05  2.200000e+05           5.025000e+03   \n",
       "max        6167161672.0   8.010000e+06  7.566096e+06           1.175614e+06   \n",
       "\n",
       "           PAIEMENT  RESTE_A_PAYER  \n",
       "count  2.380000e+02     238.000000  \n",
       "mean   2.706251e+05   21324.261639  \n",
       "std    8.379278e+05   47165.282730  \n",
       "min    0.000000e+00       0.000000  \n",
       "25%    9.964740e+03       0.000000  \n",
       "50%    5.000000e+04       0.000000  \n",
       "75%    2.101178e+05   19590.000000  \n",
       "max    7.566096e+06  249948.000000  "
      ]
     },
     "execution_count": 434,
     "metadata": {},
     "output_type": "execute_result"
    }
   ],
   "source": [
    "# Statistique descriptive : \n",
    "budget_ex.describe()"
   ]
  },
  {
   "cell_type": "code",
   "execution_count": 435,
   "metadata": {},
   "outputs": [
    {
     "data": {
      "text/plain": [
       "False    238\n",
       "dtype: int64"
      ]
     },
     "execution_count": 435,
     "metadata": {},
     "output_type": "execute_result"
    }
   ],
   "source": [
    "#Range checking\n",
    "(budget_ex['ENGAGEMENT']>budget_ex['CREDIT_OUVERT']).value_counts()"
   ]
  },
  {
   "cell_type": "code",
   "execution_count": 436,
   "metadata": {},
   "outputs": [
    {
     "data": {
      "text/plain": [
       "array(['2017-12-31T00:00:00.000000000', '2018-12-31T00:00:00.000000000',\n",
       "       '2019-12-31T00:00:00.000000000', '2020-12-31T00:00:00.000000000',\n",
       "       '2021-12-31T00:00:00.000000000', '2022-12-31T00:00:00.000000000'],\n",
       "      dtype='datetime64[ns]')"
      ]
     },
     "execution_count": 436,
     "metadata": {},
     "output_type": "execute_result"
    }
   ],
   "source": [
    "#format checking  :\n",
    "budget_ex['ANNEE'].unique()"
   ]
  },
  {
   "cell_type": "code",
   "execution_count": 437,
   "metadata": {},
   "outputs": [
    {
     "data": {
      "text/html": [
       "<div>\n",
       "<style scoped>\n",
       "    .dataframe tbody tr th:only-of-type {\n",
       "        vertical-align: middle;\n",
       "    }\n",
       "\n",
       "    .dataframe tbody tr th {\n",
       "        vertical-align: top;\n",
       "    }\n",
       "\n",
       "    .dataframe thead th {\n",
       "        text-align: right;\n",
       "    }\n",
       "</style>\n",
       "<table border=\"1\" class=\"dataframe\">\n",
       "  <thead>\n",
       "    <tr style=\"text-align: right;\">\n",
       "      <th></th>\n",
       "      <th>COMPTES_N</th>\n",
       "      <th>INTITULEES_DES_COMPTES</th>\n",
       "      <th>CREDIT_OUVERT</th>\n",
       "      <th>ENGAGEMENT</th>\n",
       "      <th>DISPONIBLE_ENGAGEMENT</th>\n",
       "      <th>PAIEMENT</th>\n",
       "      <th>RESTE_A_PAYER</th>\n",
       "      <th>CHAPITRE</th>\n",
       "      <th>ANNEE</th>\n",
       "    </tr>\n",
       "  </thead>\n",
       "  <tbody>\n",
       "  </tbody>\n",
       "</table>\n",
       "</div>"
      ],
      "text/plain": [
       "Empty DataFrame\n",
       "Columns: [COMPTES_N, INTITULEES_DES_COMPTES, CREDIT_OUVERT, ENGAGEMENT, DISPONIBLE_ENGAGEMENT, PAIEMENT, RESTE_A_PAYER, CHAPITRE, ANNEE]\n",
       "Index: []"
      ]
     },
     "execution_count": 437,
     "metadata": {},
     "output_type": "execute_result"
    }
   ],
   "source": [
    "# check creadit_ouvert equal = 0\n",
    "budget_ex[budget_ex['CREDIT_OUVERT']==0]"
   ]
  },
  {
   "cell_type": "code",
   "execution_count": 438,
   "metadata": {},
   "outputs": [
    {
     "name": "stderr",
     "output_type": "stream",
     "text": [
      "C:\\Users\\tioua\\AppData\\Local\\Temp\\ipykernel_9672\\337083904.py:1: FutureWarning: Indexing with multiple keys (implicitly converted to a tuple of keys) will be deprecated, use a list instead.\n",
      "  budget_ex[budget_ex['ANNEE'].dt.year==2017].groupby(by=['INTITULEES_DES_COMPTES'])['PAIEMENT','RESTE_A_PAYER'].sum().sort_values(by=['PAIEMENT','RESTE_A_PAYER'],ascending=False)\n"
     ]
    },
    {
     "data": {
      "text/html": [
       "<div>\n",
       "<style scoped>\n",
       "    .dataframe tbody tr th:only-of-type {\n",
       "        vertical-align: middle;\n",
       "    }\n",
       "\n",
       "    .dataframe tbody tr th {\n",
       "        vertical-align: top;\n",
       "    }\n",
       "\n",
       "    .dataframe thead th {\n",
       "        text-align: right;\n",
       "    }\n",
       "</style>\n",
       "<table border=\"1\" class=\"dataframe\">\n",
       "  <thead>\n",
       "    <tr style=\"text-align: right;\">\n",
       "      <th></th>\n",
       "      <th>PAIEMENT</th>\n",
       "      <th>RESTE_A_PAYER</th>\n",
       "    </tr>\n",
       "    <tr>\n",
       "      <th>INTITULEES_DES_COMPTES</th>\n",
       "      <th></th>\n",
       "      <th></th>\n",
       "    </tr>\n",
       "  </thead>\n",
       "  <tbody>\n",
       "    <tr>\n",
       "      <th>Location de bâtiments administratifs et charges locatives</th>\n",
       "      <td>600000.00</td>\n",
       "      <td>0.00</td>\n",
       "    </tr>\n",
       "    <tr>\n",
       "      <th>Voyages et déplacements</th>\n",
       "      <td>319960.00</td>\n",
       "      <td>190020.00</td>\n",
       "    </tr>\n",
       "    <tr>\n",
       "      <th>Achat de combustibles</th>\n",
       "      <td>250000.00</td>\n",
       "      <td>0.00</td>\n",
       "    </tr>\n",
       "    <tr>\n",
       "      <th>Rémunération du personnel extérieur ( accueil,gardiennage et sécurité )</th>\n",
       "      <td>222421.23</td>\n",
       "      <td>22506.91</td>\n",
       "    </tr>\n",
       "    <tr>\n",
       "      <th>Frais de téléphone et fax</th>\n",
       "      <td>165000.00</td>\n",
       "      <td>55000.00</td>\n",
       "    </tr>\n",
       "    <tr>\n",
       "      <th>Entretien et réparation de matériel de transport</th>\n",
       "      <td>145000.00</td>\n",
       "      <td>0.00</td>\n",
       "    </tr>\n",
       "    <tr>\n",
       "      <th>Rémunération du personnel extérieur ( Nettoyage )</th>\n",
       "      <td>77162.81</td>\n",
       "      <td>0.00</td>\n",
       "    </tr>\n",
       "    <tr>\n",
       "      <th>Assurances matériel de transport</th>\n",
       "      <td>23458.52</td>\n",
       "      <td>0.00</td>\n",
       "    </tr>\n",
       "    <tr>\n",
       "      <th>Péage d'autoroute</th>\n",
       "      <td>20000.00</td>\n",
       "      <td>0.00</td>\n",
       "    </tr>\n",
       "    <tr>\n",
       "      <th>Assurances multirisques ( vol, incendie, responsabilité civile …)</th>\n",
       "      <td>16877.10</td>\n",
       "      <td>0.00</td>\n",
       "    </tr>\n",
       "    <tr>\n",
       "      <th>Maintenance</th>\n",
       "      <td>11700.00</td>\n",
       "      <td>38300.00</td>\n",
       "    </tr>\n",
       "    <tr>\n",
       "      <th>Taxes sur les véhicules</th>\n",
       "      <td>11050.00</td>\n",
       "      <td>0.00</td>\n",
       "    </tr>\n",
       "    <tr>\n",
       "      <th>Formation professionnelle</th>\n",
       "      <td>0.00</td>\n",
       "      <td>200000.00</td>\n",
       "    </tr>\n",
       "    <tr>\n",
       "      <th>Réceptions et hebergements</th>\n",
       "      <td>0.00</td>\n",
       "      <td>159996.64</td>\n",
       "    </tr>\n",
       "    <tr>\n",
       "      <th>Honoraires ( Avocats, Commissariat aux comptes, experts et Consultants)</th>\n",
       "      <td>0.00</td>\n",
       "      <td>150000.00</td>\n",
       "    </tr>\n",
       "    <tr>\n",
       "      <th>Fourniture de produits d'impression de reproduction et de photographie</th>\n",
       "      <td>0.00</td>\n",
       "      <td>128829.30</td>\n",
       "    </tr>\n",
       "    <tr>\n",
       "      <th>Achat de fournitures de bureau</th>\n",
       "      <td>0.00</td>\n",
       "      <td>122529.70</td>\n",
       "    </tr>\n",
       "    <tr>\n",
       "      <th>Prestations d'impression et reproduction photographique</th>\n",
       "      <td>0.00</td>\n",
       "      <td>120000.00</td>\n",
       "    </tr>\n",
       "    <tr>\n",
       "      <th>Entretien et réparation de matériel informatique et technique</th>\n",
       "      <td>0.00</td>\n",
       "      <td>80000.00</td>\n",
       "    </tr>\n",
       "    <tr>\n",
       "      <th>Séminaires,participations aux manifestations scientifiques et techniques</th>\n",
       "      <td>0.00</td>\n",
       "      <td>80000.00</td>\n",
       "    </tr>\n",
       "    <tr>\n",
       "      <th>Publicité et communication</th>\n",
       "      <td>0.00</td>\n",
       "      <td>64100.00</td>\n",
       "    </tr>\n",
       "    <tr>\n",
       "      <th>Entretien et réparation de biens immobiliers</th>\n",
       "      <td>0.00</td>\n",
       "      <td>59988.00</td>\n",
       "    </tr>\n",
       "    <tr>\n",
       "      <th>Annonces et insertions</th>\n",
       "      <td>0.00</td>\n",
       "      <td>55833.00</td>\n",
       "    </tr>\n",
       "    <tr>\n",
       "      <th>Assurrance Accidents de travail</th>\n",
       "      <td>0.00</td>\n",
       "      <td>40632.29</td>\n",
       "    </tr>\n",
       "    <tr>\n",
       "      <th>Documentation générale</th>\n",
       "      <td>0.00</td>\n",
       "      <td>30000.00</td>\n",
       "    </tr>\n",
       "    <tr>\n",
       "      <th>Documentation technique</th>\n",
       "      <td>0.00</td>\n",
       "      <td>30000.00</td>\n",
       "    </tr>\n",
       "    <tr>\n",
       "      <th>Convention médicale - Produits pharmaceutiques</th>\n",
       "      <td>0.00</td>\n",
       "      <td>20000.00</td>\n",
       "    </tr>\n",
       "    <tr>\n",
       "      <th>Habillement de travail des agents</th>\n",
       "      <td>0.00</td>\n",
       "      <td>10000.00</td>\n",
       "    </tr>\n",
       "    <tr>\n",
       "      <th>Transport de matériels</th>\n",
       "      <td>0.00</td>\n",
       "      <td>9996.00</td>\n",
       "    </tr>\n",
       "    <tr>\n",
       "      <th>Fourniture pour matériel technique et informatique</th>\n",
       "      <td>0.00</td>\n",
       "      <td>8344.44</td>\n",
       "    </tr>\n",
       "  </tbody>\n",
       "</table>\n",
       "</div>"
      ],
      "text/plain": [
       "                                                     PAIEMENT  RESTE_A_PAYER\n",
       "INTITULEES_DES_COMPTES                                                      \n",
       "Location de bâtiments administratifs et charges...  600000.00           0.00\n",
       "Voyages et déplacements                             319960.00      190020.00\n",
       "Achat de combustibles                               250000.00           0.00\n",
       "Rémunération du personnel extérieur ( accueil,g...  222421.23       22506.91\n",
       "Frais de téléphone et fax                           165000.00       55000.00\n",
       "Entretien et réparation de matériel de transport    145000.00           0.00\n",
       "Rémunération du personnel extérieur ( Nettoyage )    77162.81           0.00\n",
       "Assurances matériel de transport                     23458.52           0.00\n",
       "Péage d'autoroute                                    20000.00           0.00\n",
       "Assurances multirisques ( vol, incendie, respon...   16877.10           0.00\n",
       "Maintenance                                          11700.00       38300.00\n",
       "Taxes sur les véhicules                              11050.00           0.00\n",
       "Formation professionnelle                                0.00      200000.00\n",
       "Réceptions et hebergements                               0.00      159996.64\n",
       "Honoraires ( Avocats, Commissariat aux comptes,...       0.00      150000.00\n",
       "Fourniture de produits d'impression de reproduc...       0.00      128829.30\n",
       "Achat de fournitures de bureau                           0.00      122529.70\n",
       "Prestations d'impression et reproduction photog...       0.00      120000.00\n",
       "Entretien et réparation de matériel informatiqu...       0.00       80000.00\n",
       "Séminaires,participations aux manifestations sc...       0.00       80000.00\n",
       "Publicité et communication                               0.00       64100.00\n",
       "Entretien et réparation de biens immobiliers             0.00       59988.00\n",
       "Annonces et insertions                                   0.00       55833.00\n",
       "Assurrance Accidents de travail                          0.00       40632.29\n",
       "Documentation générale                                   0.00       30000.00\n",
       "Documentation technique                                  0.00       30000.00\n",
       "Convention médicale - Produits pharmaceutiques           0.00       20000.00\n",
       "Habillement de travail des agents                        0.00       10000.00\n",
       "Transport de matériels                                   0.00        9996.00\n",
       "Fourniture pour matériel technique et informatique       0.00        8344.44"
      ]
     },
     "execution_count": 438,
     "metadata": {},
     "output_type": "execute_result"
    }
   ],
   "source": [
    "budget_ex[budget_ex['ANNEE'].dt.year==2017].groupby(by=['INTITULEES_DES_COMPTES'])['PAIEMENT','RESTE_A_PAYER'].sum().sort_values(by=['PAIEMENT','RESTE_A_PAYER'],ascending=False)"
   ]
  },
  {
   "cell_type": "code",
   "execution_count": 439,
   "metadata": {},
   "outputs": [
    {
     "data": {
      "text/html": [
       "<div>\n",
       "<style scoped>\n",
       "    .dataframe tbody tr th:only-of-type {\n",
       "        vertical-align: middle;\n",
       "    }\n",
       "\n",
       "    .dataframe tbody tr th {\n",
       "        vertical-align: top;\n",
       "    }\n",
       "\n",
       "    .dataframe thead th {\n",
       "        text-align: right;\n",
       "    }\n",
       "</style>\n",
       "<table border=\"1\" class=\"dataframe\">\n",
       "  <thead>\n",
       "    <tr style=\"text-align: right;\">\n",
       "      <th></th>\n",
       "      <th>ENGAGEMENT</th>\n",
       "    </tr>\n",
       "    <tr>\n",
       "      <th>INTITULEES_DES_COMPTES</th>\n",
       "      <th></th>\n",
       "    </tr>\n",
       "  </thead>\n",
       "  <tbody>\n",
       "    <tr>\n",
       "      <th>Location de bâtiments administratifs et charges locatives</th>\n",
       "      <td>600000.00</td>\n",
       "    </tr>\n",
       "    <tr>\n",
       "      <th>Voyages et déplacements</th>\n",
       "      <td>509980.00</td>\n",
       "    </tr>\n",
       "    <tr>\n",
       "      <th>Achat de combustibles</th>\n",
       "      <td>250000.00</td>\n",
       "    </tr>\n",
       "    <tr>\n",
       "      <th>Rémunération du personnel extérieur ( accueil,gardiennage et sécurité )</th>\n",
       "      <td>244928.14</td>\n",
       "    </tr>\n",
       "    <tr>\n",
       "      <th>Frais de téléphone et fax</th>\n",
       "      <td>220000.00</td>\n",
       "    </tr>\n",
       "    <tr>\n",
       "      <th>Formation professionnelle</th>\n",
       "      <td>200000.00</td>\n",
       "    </tr>\n",
       "    <tr>\n",
       "      <th>Réceptions et hebergements</th>\n",
       "      <td>159996.64</td>\n",
       "    </tr>\n",
       "    <tr>\n",
       "      <th>Honoraires ( Avocats, Commissariat aux comptes, experts et Consultants)</th>\n",
       "      <td>150000.00</td>\n",
       "    </tr>\n",
       "    <tr>\n",
       "      <th>Entretien et réparation de matériel de transport</th>\n",
       "      <td>145000.00</td>\n",
       "    </tr>\n",
       "    <tr>\n",
       "      <th>Fourniture de produits d'impression de reproduction et de photographie</th>\n",
       "      <td>128829.30</td>\n",
       "    </tr>\n",
       "    <tr>\n",
       "      <th>Achat de fournitures de bureau</th>\n",
       "      <td>122529.70</td>\n",
       "    </tr>\n",
       "    <tr>\n",
       "      <th>Prestations d'impression et reproduction photographique</th>\n",
       "      <td>120000.00</td>\n",
       "    </tr>\n",
       "    <tr>\n",
       "      <th>Séminaires,participations aux manifestations scientifiques et techniques</th>\n",
       "      <td>80000.00</td>\n",
       "    </tr>\n",
       "    <tr>\n",
       "      <th>Entretien et réparation de matériel informatique et technique</th>\n",
       "      <td>80000.00</td>\n",
       "    </tr>\n",
       "    <tr>\n",
       "      <th>Rémunération du personnel extérieur ( Nettoyage )</th>\n",
       "      <td>77162.81</td>\n",
       "    </tr>\n",
       "    <tr>\n",
       "      <th>Publicité et communication</th>\n",
       "      <td>64100.00</td>\n",
       "    </tr>\n",
       "    <tr>\n",
       "      <th>Entretien et réparation de biens immobiliers</th>\n",
       "      <td>59988.00</td>\n",
       "    </tr>\n",
       "    <tr>\n",
       "      <th>Annonces et insertions</th>\n",
       "      <td>55833.00</td>\n",
       "    </tr>\n",
       "    <tr>\n",
       "      <th>Maintenance</th>\n",
       "      <td>50000.00</td>\n",
       "    </tr>\n",
       "    <tr>\n",
       "      <th>Assurrance Accidents de travail</th>\n",
       "      <td>40632.29</td>\n",
       "    </tr>\n",
       "    <tr>\n",
       "      <th>Documentation générale</th>\n",
       "      <td>30000.00</td>\n",
       "    </tr>\n",
       "    <tr>\n",
       "      <th>Documentation technique</th>\n",
       "      <td>30000.00</td>\n",
       "    </tr>\n",
       "    <tr>\n",
       "      <th>Assurances matériel de transport</th>\n",
       "      <td>23458.52</td>\n",
       "    </tr>\n",
       "    <tr>\n",
       "      <th>Péage d'autoroute</th>\n",
       "      <td>20000.00</td>\n",
       "    </tr>\n",
       "    <tr>\n",
       "      <th>Convention médicale - Produits pharmaceutiques</th>\n",
       "      <td>20000.00</td>\n",
       "    </tr>\n",
       "    <tr>\n",
       "      <th>Assurances multirisques ( vol, incendie, responsabilité civile …)</th>\n",
       "      <td>16877.10</td>\n",
       "    </tr>\n",
       "    <tr>\n",
       "      <th>Taxes sur les véhicules</th>\n",
       "      <td>11050.00</td>\n",
       "    </tr>\n",
       "    <tr>\n",
       "      <th>Habillement de travail des agents</th>\n",
       "      <td>10000.00</td>\n",
       "    </tr>\n",
       "    <tr>\n",
       "      <th>Transport de matériels</th>\n",
       "      <td>9996.00</td>\n",
       "    </tr>\n",
       "    <tr>\n",
       "      <th>Fourniture pour matériel technique et informatique</th>\n",
       "      <td>8344.44</td>\n",
       "    </tr>\n",
       "  </tbody>\n",
       "</table>\n",
       "</div>"
      ],
      "text/plain": [
       "                                                    ENGAGEMENT\n",
       "INTITULEES_DES_COMPTES                                        \n",
       "Location de bâtiments administratifs et charges...   600000.00\n",
       "Voyages et déplacements                              509980.00\n",
       "Achat de combustibles                                250000.00\n",
       "Rémunération du personnel extérieur ( accueil,g...   244928.14\n",
       "Frais de téléphone et fax                            220000.00\n",
       "Formation professionnelle                            200000.00\n",
       "Réceptions et hebergements                           159996.64\n",
       "Honoraires ( Avocats, Commissariat aux comptes,...   150000.00\n",
       "Entretien et réparation de matériel de transport     145000.00\n",
       "Fourniture de produits d'impression de reproduc...   128829.30\n",
       "Achat de fournitures de bureau                       122529.70\n",
       "Prestations d'impression et reproduction photog...   120000.00\n",
       "Séminaires,participations aux manifestations sc...    80000.00\n",
       "Entretien et réparation de matériel informatiqu...    80000.00\n",
       "Rémunération du personnel extérieur ( Nettoyage )     77162.81\n",
       "Publicité et communication                            64100.00\n",
       "Entretien et réparation de biens immobiliers          59988.00\n",
       "Annonces et insertions                                55833.00\n",
       "Maintenance                                           50000.00\n",
       "Assurrance Accidents de travail                       40632.29\n",
       "Documentation générale                                30000.00\n",
       "Documentation technique                               30000.00\n",
       "Assurances matériel de transport                      23458.52\n",
       "Péage d'autoroute                                     20000.00\n",
       "Convention médicale - Produits pharmaceutiques        20000.00\n",
       "Assurances multirisques ( vol, incendie, respon...    16877.10\n",
       "Taxes sur les véhicules                               11050.00\n",
       "Habillement de travail des agents                     10000.00\n",
       "Transport de matériels                                 9996.00\n",
       "Fourniture pour matériel technique et informatique     8344.44"
      ]
     },
     "execution_count": 439,
     "metadata": {},
     "output_type": "execute_result"
    }
   ],
   "source": [
    "pd.DataFrame(budget_ex[budget_ex['ANNEE'].dt.year==2017].groupby(by=['INTITULEES_DES_COMPTES'])['ENGAGEMENT'].sum().sort_values(ascending=False))"
   ]
  },
  {
   "cell_type": "code",
   "execution_count": 440,
   "metadata": {},
   "outputs": [
    {
     "data": {
      "text/plain": [
       "2019-12-31    48\n",
       "2021-12-31    46\n",
       "2022-12-31    41\n",
       "2020-12-31    40\n",
       "2018-12-31    33\n",
       "2017-12-31    30\n",
       "Name: ANNEE, dtype: int64"
      ]
     },
     "execution_count": 440,
     "metadata": {},
     "output_type": "execute_result"
    }
   ],
   "source": [
    "budget_ex['ANNEE'].value_counts()"
   ]
  },
  {
   "cell_type": "markdown",
   "metadata": {},
   "source": [
    "-------------------------------------  Load Budget Exploitation vers  SQL Server : ---------------------------------------"
   ]
  },
  {
   "cell_type": "code",
   "execution_count": 442,
   "metadata": {},
   "outputs": [
    {
     "data": {
      "text/html": [
       "<div>\n",
       "<style scoped>\n",
       "    .dataframe tbody tr th:only-of-type {\n",
       "        vertical-align: middle;\n",
       "    }\n",
       "\n",
       "    .dataframe tbody tr th {\n",
       "        vertical-align: top;\n",
       "    }\n",
       "\n",
       "    .dataframe thead th {\n",
       "        text-align: right;\n",
       "    }\n",
       "</style>\n",
       "<table border=\"1\" class=\"dataframe\">\n",
       "  <thead>\n",
       "    <tr style=\"text-align: right;\">\n",
       "      <th></th>\n",
       "      <th>COMPTES_N</th>\n",
       "      <th>INTITULEES_DES_COMPTES</th>\n",
       "      <th>CREDIT_OUVERT</th>\n",
       "      <th>ENGAGEMENT</th>\n",
       "      <th>DISPONIBLE_ENGAGEMENT</th>\n",
       "      <th>PAIEMENT</th>\n",
       "      <th>RESTE_A_PAYER</th>\n",
       "      <th>CHAPITRE</th>\n",
       "      <th>ANNEE</th>\n",
       "    </tr>\n",
       "  </thead>\n",
       "  <tbody>\n",
       "    <tr>\n",
       "      <th>0</th>\n",
       "      <td>61223</td>\n",
       "      <td>Achat de combustibles</td>\n",
       "      <td>250000.0</td>\n",
       "      <td>250000.00</td>\n",
       "      <td>0.00</td>\n",
       "      <td>250000.0</td>\n",
       "      <td>0.00</td>\n",
       "      <td>Achats de matières et de fournitures consommables</td>\n",
       "      <td>2017-12-31</td>\n",
       "    </tr>\n",
       "    <tr>\n",
       "      <th>2</th>\n",
       "      <td>612211</td>\n",
       "      <td>Achat de fournitures de bureau</td>\n",
       "      <td>122530.0</td>\n",
       "      <td>122529.70</td>\n",
       "      <td>0.30</td>\n",
       "      <td>0.0</td>\n",
       "      <td>122529.70</td>\n",
       "      <td>Achats de matières et de fournitures consommables</td>\n",
       "      <td>2017-12-31</td>\n",
       "    </tr>\n",
       "    <tr>\n",
       "      <th>3</th>\n",
       "      <td>612212</td>\n",
       "      <td>Fourniture pour matériel technique et informat...</td>\n",
       "      <td>8345.0</td>\n",
       "      <td>8344.44</td>\n",
       "      <td>0.56</td>\n",
       "      <td>0.0</td>\n",
       "      <td>8344.44</td>\n",
       "      <td>Achats de matières et de fournitures consommables</td>\n",
       "      <td>2017-12-31</td>\n",
       "    </tr>\n",
       "    <tr>\n",
       "      <th>4</th>\n",
       "      <td>612213</td>\n",
       "      <td>Fourniture de produits d'impression de reprodu...</td>\n",
       "      <td>129125.0</td>\n",
       "      <td>128829.30</td>\n",
       "      <td>295.70</td>\n",
       "      <td>0.0</td>\n",
       "      <td>128829.30</td>\n",
       "      <td>Achats de matières et de fournitures consommables</td>\n",
       "      <td>2017-12-31</td>\n",
       "    </tr>\n",
       "    <tr>\n",
       "      <th>6</th>\n",
       "      <td>61263</td>\n",
       "      <td>Prestations d'impression et reproduction photo...</td>\n",
       "      <td>120000.0</td>\n",
       "      <td>120000.00</td>\n",
       "      <td>0.00</td>\n",
       "      <td>0.0</td>\n",
       "      <td>120000.00</td>\n",
       "      <td>Prestations de services</td>\n",
       "      <td>2017-12-31</td>\n",
       "    </tr>\n",
       "  </tbody>\n",
       "</table>\n",
       "</div>"
      ],
      "text/plain": [
       "   COMPTES_N                             INTITULEES_DES_COMPTES  \\\n",
       "0      61223                              Achat de combustibles   \n",
       "2     612211                     Achat de fournitures de bureau   \n",
       "3     612212  Fourniture pour matériel technique et informat...   \n",
       "4     612213  Fourniture de produits d'impression de reprodu...   \n",
       "6      61263  Prestations d'impression et reproduction photo...   \n",
       "\n",
       "   CREDIT_OUVERT  ENGAGEMENT  DISPONIBLE_ENGAGEMENT  PAIEMENT  RESTE_A_PAYER  \\\n",
       "0       250000.0   250000.00                   0.00  250000.0           0.00   \n",
       "2       122530.0   122529.70                   0.30       0.0      122529.70   \n",
       "3         8345.0     8344.44                   0.56       0.0        8344.44   \n",
       "4       129125.0   128829.30                 295.70       0.0      128829.30   \n",
       "6       120000.0   120000.00                   0.00       0.0      120000.00   \n",
       "\n",
       "                                            CHAPITRE      ANNEE  \n",
       "0  Achats de matières et de fournitures consommables 2017-12-31  \n",
       "2  Achats de matières et de fournitures consommables 2017-12-31  \n",
       "3  Achats de matières et de fournitures consommables 2017-12-31  \n",
       "4  Achats de matières et de fournitures consommables 2017-12-31  \n",
       "6                            Prestations de services 2017-12-31  "
      ]
     },
     "execution_count": 442,
     "metadata": {},
     "output_type": "execute_result"
    }
   ],
   "source": [
    "budget_ex.head()"
   ]
  },
  {
   "cell_type": "code",
   "execution_count": 443,
   "metadata": {},
   "outputs": [],
   "source": [
    "import sqlalchemy"
   ]
  },
  {
   "cell_type": "code",
   "execution_count": 444,
   "metadata": {},
   "outputs": [],
   "source": [
    "server_name = 'DESKTOP-LORG5OV'\n",
    "database_name = 'Agence_Urbaine'\n",
    "driver = 'SQL+Server'\n",
    "conn_str = f'mssql://{server_name}/{database_name}?driver={driver}'\n",
    "engine = sqlalchemy.create_engine(conn_str)"
   ]
  },
  {
   "cell_type": "code",
   "execution_count": 445,
   "metadata": {},
   "outputs": [
    {
     "data": {
      "text/plain": [
       "-1"
      ]
     },
     "execution_count": 445,
     "metadata": {},
     "output_type": "execute_result"
    }
   ],
   "source": [
    "budget_ex.to_sql('Budget_Exploitation', engine, if_exists='replace', index=False)"
   ]
  },
  {
   "cell_type": "code",
   "execution_count": 446,
   "metadata": {},
   "outputs": [],
   "source": [
    "x = list(dict(budget_ex.groupby(by=['ANNEE'])['CREDIT_OUVERT'].sum()).keys())"
   ]
  },
  {
   "cell_type": "code",
   "execution_count": 447,
   "metadata": {},
   "outputs": [
    {
     "data": {
      "text/plain": [
       "[Timestamp('2017-12-31 00:00:00'),\n",
       " Timestamp('2018-12-31 00:00:00'),\n",
       " Timestamp('2019-12-31 00:00:00'),\n",
       " Timestamp('2020-12-31 00:00:00'),\n",
       " Timestamp('2021-12-31 00:00:00'),\n",
       " Timestamp('2022-12-31 00:00:00')]"
      ]
     },
     "execution_count": 447,
     "metadata": {},
     "output_type": "execute_result"
    }
   ],
   "source": [
    "x"
   ]
  },
  {
   "cell_type": "code",
   "execution_count": 448,
   "metadata": {},
   "outputs": [],
   "source": [
    "y = list(dict(budget_ex.groupby(by=['ANNEE'])['CREDIT_OUVERT'].sum()).values())"
   ]
  },
  {
   "cell_type": "code",
   "execution_count": 449,
   "metadata": {},
   "outputs": [
    {
     "data": {
      "text/plain": [
       "[3735535.0, 7185535.0, 15904535.0, 14332000.0, 18019295.49, 17466550.0]"
      ]
     },
     "execution_count": 449,
     "metadata": {},
     "output_type": "execute_result"
    }
   ],
   "source": [
    "y"
   ]
  },
  {
   "cell_type": "code",
   "execution_count": 450,
   "metadata": {},
   "outputs": [],
   "source": [
    "import matplotlib.pyplot as plt"
   ]
  },
  {
   "cell_type": "code",
   "execution_count": 451,
   "metadata": {},
   "outputs": [
    {
     "data": {
      "image/png": "[encoded data removed]",
      "text/plain": [
       "<Figure size 1500x500 with 1 Axes>"
      ]
     },
     "metadata": {},
     "output_type": "display_data"
    }
   ],
   "source": [
    "plt.figure(figsize=(15,5))\n",
    "plt.plot(x,y)\n",
    "plt.show()"
   ]
  },
  {
   "cell_type": "markdown",
   "metadata": {},
   "source": [
    "#---------------------------------------------------------------------------------------------------------------------------------------------------\n"
   ]
  },
  {
   "cell_type": "markdown",
   "metadata": {},
   "source": [
    "-------------------------------------  Extract Budget Invistissement : ---------------------------------------"
   ]
  },
  {
   "cell_type": "code",
   "execution_count": 65,
   "metadata": {},
   "outputs": [
    {
     "name": "stdout",
     "output_type": "stream",
     "text": [
      "Investissement_2017.xlsx\n",
      "Investissement_2018.xlsx\n",
      "Investissement_2019.xlsx\n",
      "Investissement_2020.xlsx\n",
      "Investissement_2021.xlsx\n",
      "Investissement_2022.xlsx\n"
     ]
    }
   ],
   "source": [
    "files_list = os.listdir('Budget_Investissement')\n",
    "budget_inves  = pd.DataFrame({})\n",
    "for file in files_list :\n",
    "    print(file) \n",
    "    year = file[file.find(\"2\"):file.find(\".\")]\n",
    "    df = pd.read_excel('Budget_Investissement/'+file)\n",
    "    if year in ['2017','2018','2019']:\n",
    "        df.columns=['N° de compte','Intitulé','Credit Ouvert','ENGAGEMENTS','DISPONIBLE','PAIEMENT','RESTE A PAYER','Chapitre']\n",
    "        df = df.reindex(columns=['N° de compte','Intitulé','Credit Ouvert','ENGAGEMENTS','PAIEMENT','DISPONIBLE','RESTE A PAYER','Chapitre'])\n",
    "    df['Annee'] = year+'-12-31'\n",
    "    budget_inves = pd.concat([budget_inves,df])"
   ]
  },
  {
   "cell_type": "code",
   "execution_count": 66,
   "metadata": {},
   "outputs": [
    {
     "data": {
      "text/html": [
       "<div>\n",
       "<style scoped>\n",
       "    .dataframe tbody tr th:only-of-type {\n",
       "        vertical-align: middle;\n",
       "    }\n",
       "\n",
       "    .dataframe tbody tr th {\n",
       "        vertical-align: top;\n",
       "    }\n",
       "\n",
       "    .dataframe thead th {\n",
       "        text-align: right;\n",
       "    }\n",
       "</style>\n",
       "<table border=\"1\" class=\"dataframe\">\n",
       "  <thead>\n",
       "    <tr style=\"text-align: right;\">\n",
       "      <th></th>\n",
       "      <th>N° de compte</th>\n",
       "      <th>Intitulé</th>\n",
       "      <th>Credit Ouvert</th>\n",
       "      <th>ENGAGEMENTS</th>\n",
       "      <th>PAIEMENT</th>\n",
       "      <th>DISPONIBLE</th>\n",
       "      <th>RESTE A PAYER</th>\n",
       "      <th>Chapitre</th>\n",
       "      <th>Annee</th>\n",
       "    </tr>\n",
       "  </thead>\n",
       "  <tbody>\n",
       "    <tr>\n",
       "      <th>0</th>\n",
       "      <td>NaN</td>\n",
       "      <td>NaN</td>\n",
       "      <td>NaN</td>\n",
       "      <td>NaN</td>\n",
       "      <td>NaN</td>\n",
       "      <td>NaN</td>\n",
       "      <td>NaN</td>\n",
       "      <td>NaN</td>\n",
       "      <td>2017-12-31</td>\n",
       "    </tr>\n",
       "    <tr>\n",
       "      <th>1</th>\n",
       "      <td>22101.0</td>\n",
       "      <td>Études d'urbanisme et actions localisées</td>\n",
       "      <td>600000.0</td>\n",
       "      <td>249600.0</td>\n",
       "      <td>0.0</td>\n",
       "      <td>350400.0</td>\n",
       "      <td>249600.0</td>\n",
       "      <td>Charges à répartir sur plusieurs exercices</td>\n",
       "      <td>2017-12-31</td>\n",
       "    </tr>\n",
       "    <tr>\n",
       "      <th>2</th>\n",
       "      <td>221023.0</td>\n",
       "      <td>Documents Topographiques</td>\n",
       "      <td>250000.0</td>\n",
       "      <td>248400.0</td>\n",
       "      <td>0.0</td>\n",
       "      <td>1600.0</td>\n",
       "      <td>248400.0</td>\n",
       "      <td>Charges à répartir sur plusieurs exercices</td>\n",
       "      <td>2017-12-31</td>\n",
       "    </tr>\n",
       "    <tr>\n",
       "      <th>3</th>\n",
       "      <td>221030.0</td>\n",
       "      <td>Plans d'Aménagement et de Développement</td>\n",
       "      <td>250000.0</td>\n",
       "      <td>210000.0</td>\n",
       "      <td>0.0</td>\n",
       "      <td>40000.0</td>\n",
       "      <td>210000.0</td>\n",
       "      <td>Charges à répartir sur plusieurs exercices</td>\n",
       "      <td>2017-12-31</td>\n",
       "    </tr>\n",
       "    <tr>\n",
       "      <th>4</th>\n",
       "      <td>22108.0</td>\n",
       "      <td>Etudes générales et programmation</td>\n",
       "      <td>1150000.0</td>\n",
       "      <td>420000.0</td>\n",
       "      <td>0.0</td>\n",
       "      <td>730000.0</td>\n",
       "      <td>420000.0</td>\n",
       "      <td>Charges à répartir sur plusieurs exercices</td>\n",
       "      <td>2017-12-31</td>\n",
       "    </tr>\n",
       "  </tbody>\n",
       "</table>\n",
       "</div>"
      ],
      "text/plain": [
       "   N° de compte                                  Intitulé  Credit Ouvert  \\\n",
       "0           NaN                                       NaN            NaN   \n",
       "1       22101.0  Études d'urbanisme et actions localisées       600000.0   \n",
       "2      221023.0                  Documents Topographiques       250000.0   \n",
       "3      221030.0   Plans d'Aménagement et de Développement       250000.0   \n",
       "4       22108.0         Etudes générales et programmation      1150000.0   \n",
       "\n",
       "   ENGAGEMENTS  PAIEMENT  DISPONIBLE  RESTE A PAYER  \\\n",
       "0          NaN       NaN         NaN            NaN   \n",
       "1     249600.0       0.0    350400.0       249600.0   \n",
       "2     248400.0       0.0      1600.0       248400.0   \n",
       "3     210000.0       0.0     40000.0       210000.0   \n",
       "4     420000.0       0.0    730000.0       420000.0   \n",
       "\n",
       "                                     Chapitre       Annee  \n",
       "0                                         NaN  2017-12-31  \n",
       "1  Charges à répartir sur plusieurs exercices  2017-12-31  \n",
       "2  Charges à répartir sur plusieurs exercices  2017-12-31  \n",
       "3  Charges à répartir sur plusieurs exercices  2017-12-31  \n",
       "4  Charges à répartir sur plusieurs exercices  2017-12-31  "
      ]
     },
     "execution_count": 66,
     "metadata": {},
     "output_type": "execute_result"
    }
   ],
   "source": [
    "budget_inves.head()"
   ]
  },
  {
   "cell_type": "code",
   "execution_count": 67,
   "metadata": {},
   "outputs": [
    {
     "data": {
      "text/html": [
       "<div>\n",
       "<style scoped>\n",
       "    .dataframe tbody tr th:only-of-type {\n",
       "        vertical-align: middle;\n",
       "    }\n",
       "\n",
       "    .dataframe tbody tr th {\n",
       "        vertical-align: top;\n",
       "    }\n",
       "\n",
       "    .dataframe thead th {\n",
       "        text-align: right;\n",
       "    }\n",
       "</style>\n",
       "<table border=\"1\" class=\"dataframe\">\n",
       "  <thead>\n",
       "    <tr style=\"text-align: right;\">\n",
       "      <th></th>\n",
       "      <th>N° de compte</th>\n",
       "      <th>Intitulé</th>\n",
       "      <th>Credit Ouvert</th>\n",
       "      <th>ENGAGEMENTS</th>\n",
       "      <th>PAIEMENT</th>\n",
       "      <th>DISPONIBLE</th>\n",
       "      <th>RESTE A PAYER</th>\n",
       "      <th>Chapitre</th>\n",
       "      <th>Annee</th>\n",
       "    </tr>\n",
       "  </thead>\n",
       "  <tbody>\n",
       "    <tr>\n",
       "      <th>5</th>\n",
       "      <td>23402.0</td>\n",
       "      <td>Achat de véhicules utilitaires</td>\n",
       "      <td>440000.0</td>\n",
       "      <td>437670.0</td>\n",
       "      <td>0.0</td>\n",
       "      <td>2330.0</td>\n",
       "      <td>437670.0</td>\n",
       "      <td>Matériels de transport</td>\n",
       "      <td>2022-12-31</td>\n",
       "    </tr>\n",
       "    <tr>\n",
       "      <th>6</th>\n",
       "      <td>2351.0</td>\n",
       "      <td>Achat de mobilier de bureau</td>\n",
       "      <td>150000.0</td>\n",
       "      <td>150000.0</td>\n",
       "      <td>NaN</td>\n",
       "      <td>0.0</td>\n",
       "      <td>150000.0</td>\n",
       "      <td>Autres immobilisations corporelles</td>\n",
       "      <td>2022-12-31</td>\n",
       "    </tr>\n",
       "    <tr>\n",
       "      <th>7</th>\n",
       "      <td>22201.0</td>\n",
       "      <td>Achat de logiciels et développement de solutio...</td>\n",
       "      <td>190000.0</td>\n",
       "      <td>186700.0</td>\n",
       "      <td>0.0</td>\n",
       "      <td>3300.0</td>\n",
       "      <td>186700.0</td>\n",
       "      <td>Brevets, marques,droits et valeurs similaires</td>\n",
       "      <td>2022-12-31</td>\n",
       "    </tr>\n",
       "    <tr>\n",
       "      <th>8</th>\n",
       "      <td>2331.0</td>\n",
       "      <td>Installations techniques</td>\n",
       "      <td>100000.0</td>\n",
       "      <td>99600.0</td>\n",
       "      <td>0.0</td>\n",
       "      <td>400.0</td>\n",
       "      <td>99600.0</td>\n",
       "      <td>Matériel technique et informatique</td>\n",
       "      <td>2022-12-31</td>\n",
       "    </tr>\n",
       "    <tr>\n",
       "      <th>9</th>\n",
       "      <td>2355.0</td>\n",
       "      <td>Achat de matériel informatique</td>\n",
       "      <td>250000.0</td>\n",
       "      <td>248000.0</td>\n",
       "      <td>NaN</td>\n",
       "      <td>2000.0</td>\n",
       "      <td>248000.0</td>\n",
       "      <td>Matériel technique et informatique</td>\n",
       "      <td>2022-12-31</td>\n",
       "    </tr>\n",
       "  </tbody>\n",
       "</table>\n",
       "</div>"
      ],
      "text/plain": [
       "   N° de compte                                           Intitulé  \\\n",
       "5       23402.0                     Achat de véhicules utilitaires   \n",
       "6        2351.0                        Achat de mobilier de bureau   \n",
       "7       22201.0  Achat de logiciels et développement de solutio...   \n",
       "8        2331.0                           Installations techniques   \n",
       "9        2355.0                     Achat de matériel informatique   \n",
       "\n",
       "   Credit Ouvert  ENGAGEMENTS  PAIEMENT  DISPONIBLE  RESTE A PAYER  \\\n",
       "5       440000.0     437670.0       0.0      2330.0       437670.0   \n",
       "6       150000.0     150000.0       NaN         0.0       150000.0   \n",
       "7       190000.0     186700.0       0.0      3300.0       186700.0   \n",
       "8       100000.0      99600.0       0.0       400.0        99600.0   \n",
       "9       250000.0     248000.0       NaN      2000.0       248000.0   \n",
       "\n",
       "                                        Chapitre       Annee  \n",
       "5                         Matériels de transport  2022-12-31  \n",
       "6             Autres immobilisations corporelles  2022-12-31  \n",
       "7  Brevets, marques,droits et valeurs similaires  2022-12-31  \n",
       "8             Matériel technique et informatique  2022-12-31  \n",
       "9             Matériel technique et informatique  2022-12-31  "
      ]
     },
     "execution_count": 67,
     "metadata": {},
     "output_type": "execute_result"
    }
   ],
   "source": [
    "budget_inves.tail()"
   ]
  },
  {
   "cell_type": "markdown",
   "metadata": {},
   "source": [
    "----------------------------------------------------  Transform Budget Invistissement : ---------------------------------------"
   ]
  },
  {
   "cell_type": "code",
   "execution_count": 68,
   "metadata": {},
   "outputs": [
    {
     "name": "stdout",
     "output_type": "stream",
     "text": [
      "<class 'pandas.core.frame.DataFrame'>\n",
      "Int64Index: 85 entries, 0 to 9\n",
      "Data columns (total 9 columns):\n",
      " #   Column         Non-Null Count  Dtype  \n",
      "---  ------         --------------  -----  \n",
      " 0   N° de compte   57 non-null     float64\n",
      " 1   Intitulé       57 non-null     object \n",
      " 2   Credit Ouvert  57 non-null     float64\n",
      " 3   ENGAGEMENTS    78 non-null     float64\n",
      " 4   PAIEMENT       61 non-null     float64\n",
      " 5   DISPONIBLE     57 non-null     float64\n",
      " 6   RESTE A PAYER  57 non-null     float64\n",
      " 7   Chapitre       76 non-null     object \n",
      " 8   Annee          85 non-null     object \n",
      "dtypes: float64(6), object(3)\n",
      "memory usage: 6.6+ KB\n"
     ]
    }
   ],
   "source": [
    "budget_inves.info()"
   ]
  },
  {
   "cell_type": "code",
   "execution_count": 69,
   "metadata": {},
   "outputs": [],
   "source": [
    "budget_inves.columns = [h.upper() for h in budget_inves.columns]"
   ]
  },
  {
   "cell_type": "code",
   "execution_count": 70,
   "metadata": {},
   "outputs": [],
   "source": [
    "budget_inves.columns = budget_inves.columns.str.replace(' ','_')"
   ]
  },
  {
   "cell_type": "code",
   "execution_count": 71,
   "metadata": {},
   "outputs": [],
   "source": [
    "budget_inves.rename(columns={'N°_DE_COMPTE':'N_COMPTE','INTITULÉ':'INTITULE'},inplace=True)"
   ]
  },
  {
   "cell_type": "code",
   "execution_count": 72,
   "metadata": {},
   "outputs": [
    {
     "data": {
      "text/plain": [
       "Index(['N_COMPTE', 'INTITULE', 'CREDIT_OUVERT', 'ENGAGEMENTS', 'PAIEMENT',\n",
       "       'DISPONIBLE', 'RESTE_A_PAYER', 'CHAPITRE', 'ANNEE'],\n",
       "      dtype='object')"
      ]
     },
     "execution_count": 72,
     "metadata": {},
     "output_type": "execute_result"
    }
   ],
   "source": [
    "budget_inves.columns"
   ]
  },
  {
   "cell_type": "code",
   "execution_count": 73,
   "metadata": {},
   "outputs": [
    {
     "data": {
      "text/plain": [
       "(85, 9)"
      ]
     },
     "execution_count": 73,
     "metadata": {},
     "output_type": "execute_result"
    }
   ],
   "source": [
    "budget_inves.shape"
   ]
  },
  {
   "cell_type": "code",
   "execution_count": 75,
   "metadata": {},
   "outputs": [],
   "source": [
    "budget_inves.dropna(how='any',subset=['N_COMPTE','INTITULE','CREDIT_OUVERT','CHAPITRE'],inplace=True)"
   ]
  },
  {
   "cell_type": "code",
   "execution_count": 76,
   "metadata": {},
   "outputs": [
    {
     "data": {
      "text/html": [
       "<div>\n",
       "<style scoped>\n",
       "    .dataframe tbody tr th:only-of-type {\n",
       "        vertical-align: middle;\n",
       "    }\n",
       "\n",
       "    .dataframe tbody tr th {\n",
       "        vertical-align: top;\n",
       "    }\n",
       "\n",
       "    .dataframe thead th {\n",
       "        text-align: right;\n",
       "    }\n",
       "</style>\n",
       "<table border=\"1\" class=\"dataframe\">\n",
       "  <thead>\n",
       "    <tr style=\"text-align: right;\">\n",
       "      <th></th>\n",
       "      <th>N_COMPTE</th>\n",
       "      <th>INTITULE</th>\n",
       "      <th>CREDIT_OUVERT</th>\n",
       "      <th>ENGAGEMENTS</th>\n",
       "      <th>PAIEMENT</th>\n",
       "      <th>DISPONIBLE</th>\n",
       "      <th>RESTE_A_PAYER</th>\n",
       "      <th>CHAPITRE</th>\n",
       "      <th>ANNEE</th>\n",
       "    </tr>\n",
       "  </thead>\n",
       "  <tbody>\n",
       "  </tbody>\n",
       "</table>\n",
       "</div>"
      ],
      "text/plain": [
       "Empty DataFrame\n",
       "Columns: [N_COMPTE, INTITULE, CREDIT_OUVERT, ENGAGEMENTS, PAIEMENT, DISPONIBLE, RESTE_A_PAYER, CHAPITRE, ANNEE]\n",
       "Index: []"
      ]
     },
     "execution_count": 76,
     "metadata": {},
     "output_type": "execute_result"
    }
   ],
   "source": [
    "budget_inves[budget_inves['N_COMPTE'].isna()]"
   ]
  },
  {
   "cell_type": "code",
   "execution_count": 77,
   "metadata": {},
   "outputs": [
    {
     "data": {
      "text/html": [
       "<div>\n",
       "<style scoped>\n",
       "    .dataframe tbody tr th:only-of-type {\n",
       "        vertical-align: middle;\n",
       "    }\n",
       "\n",
       "    .dataframe tbody tr th {\n",
       "        vertical-align: top;\n",
       "    }\n",
       "\n",
       "    .dataframe thead th {\n",
       "        text-align: right;\n",
       "    }\n",
       "</style>\n",
       "<table border=\"1\" class=\"dataframe\">\n",
       "  <thead>\n",
       "    <tr style=\"text-align: right;\">\n",
       "      <th></th>\n",
       "      <th>N_COMPTE</th>\n",
       "      <th>INTITULE</th>\n",
       "      <th>CREDIT_OUVERT</th>\n",
       "      <th>ENGAGEMENTS</th>\n",
       "      <th>PAIEMENT</th>\n",
       "      <th>DISPONIBLE</th>\n",
       "      <th>RESTE_A_PAYER</th>\n",
       "      <th>CHAPITRE</th>\n",
       "      <th>ANNEE</th>\n",
       "    </tr>\n",
       "  </thead>\n",
       "  <tbody>\n",
       "    <tr>\n",
       "      <th>6</th>\n",
       "      <td>2351.0</td>\n",
       "      <td>Achat de mobilier de bureau</td>\n",
       "      <td>150000.0</td>\n",
       "      <td>150000.0</td>\n",
       "      <td>NaN</td>\n",
       "      <td>0.0</td>\n",
       "      <td>150000.0</td>\n",
       "      <td>Autres immobilisations corporelles</td>\n",
       "      <td>2022-12-31</td>\n",
       "    </tr>\n",
       "    <tr>\n",
       "      <th>9</th>\n",
       "      <td>2355.0</td>\n",
       "      <td>Achat de matériel informatique</td>\n",
       "      <td>250000.0</td>\n",
       "      <td>248000.0</td>\n",
       "      <td>NaN</td>\n",
       "      <td>2000.0</td>\n",
       "      <td>248000.0</td>\n",
       "      <td>Matériel technique et informatique</td>\n",
       "      <td>2022-12-31</td>\n",
       "    </tr>\n",
       "  </tbody>\n",
       "</table>\n",
       "</div>"
      ],
      "text/plain": [
       "   N_COMPTE                        INTITULE  CREDIT_OUVERT  ENGAGEMENTS  \\\n",
       "6    2351.0     Achat de mobilier de bureau       150000.0     150000.0   \n",
       "9    2355.0  Achat de matériel informatique       250000.0     248000.0   \n",
       "\n",
       "   PAIEMENT  DISPONIBLE  RESTE_A_PAYER                            CHAPITRE  \\\n",
       "6       NaN         0.0       150000.0  Autres immobilisations corporelles   \n",
       "9       NaN      2000.0       248000.0  Matériel technique et informatique   \n",
       "\n",
       "        ANNEE  \n",
       "6  2022-12-31  \n",
       "9  2022-12-31  "
      ]
     },
     "execution_count": 77,
     "metadata": {},
     "output_type": "execute_result"
    }
   ],
   "source": [
    "budget_inves[budget_inves['PAIEMENT'].isna()]"
   ]
  },
  {
   "cell_type": "code",
   "execution_count": 78,
   "metadata": {},
   "outputs": [],
   "source": [
    "budget_inves.fillna(0,inplace=True)"
   ]
  },
  {
   "cell_type": "code",
   "execution_count": 79,
   "metadata": {},
   "outputs": [
    {
     "data": {
      "text/plain": [
       "N_COMPTE  INTITULE  CREDIT_OUVERT  ENGAGEMENTS  PAIEMENT  DISPONIBLE  RESTE_A_PAYER  CHAPITRE  ANNEE\n",
       "False     False     False          False        False     False       False          False     False    57\n",
       "dtype: int64"
      ]
     },
     "execution_count": 79,
     "metadata": {},
     "output_type": "execute_result"
    }
   ],
   "source": [
    "budget_inves.isna().value_counts()"
   ]
  },
  {
   "cell_type": "code",
   "execution_count": 80,
   "metadata": {},
   "outputs": [
    {
     "data": {
      "text/html": [
       "<div>\n",
       "<style scoped>\n",
       "    .dataframe tbody tr th:only-of-type {\n",
       "        vertical-align: middle;\n",
       "    }\n",
       "\n",
       "    .dataframe tbody tr th {\n",
       "        vertical-align: top;\n",
       "    }\n",
       "\n",
       "    .dataframe thead th {\n",
       "        text-align: right;\n",
       "    }\n",
       "</style>\n",
       "<table border=\"1\" class=\"dataframe\">\n",
       "  <thead>\n",
       "    <tr style=\"text-align: right;\">\n",
       "      <th></th>\n",
       "      <th>N_COMPTE</th>\n",
       "      <th>INTITULE</th>\n",
       "      <th>CREDIT_OUVERT</th>\n",
       "      <th>ENGAGEMENTS</th>\n",
       "      <th>PAIEMENT</th>\n",
       "      <th>DISPONIBLE</th>\n",
       "      <th>RESTE_A_PAYER</th>\n",
       "      <th>CHAPITRE</th>\n",
       "      <th>ANNEE</th>\n",
       "    </tr>\n",
       "  </thead>\n",
       "  <tbody>\n",
       "    <tr>\n",
       "      <th>5</th>\n",
       "      <td>23402.0</td>\n",
       "      <td>Achat de véhicules utilitaires</td>\n",
       "      <td>440000.0</td>\n",
       "      <td>437670.0</td>\n",
       "      <td>0.0</td>\n",
       "      <td>2330.0</td>\n",
       "      <td>437670.0</td>\n",
       "      <td>Matériels de transport</td>\n",
       "      <td>2022-12-31</td>\n",
       "    </tr>\n",
       "    <tr>\n",
       "      <th>6</th>\n",
       "      <td>2351.0</td>\n",
       "      <td>Achat de mobilier de bureau</td>\n",
       "      <td>150000.0</td>\n",
       "      <td>150000.0</td>\n",
       "      <td>0.0</td>\n",
       "      <td>0.0</td>\n",
       "      <td>150000.0</td>\n",
       "      <td>Autres immobilisations corporelles</td>\n",
       "      <td>2022-12-31</td>\n",
       "    </tr>\n",
       "    <tr>\n",
       "      <th>7</th>\n",
       "      <td>22201.0</td>\n",
       "      <td>Achat de logiciels et développement de solutio...</td>\n",
       "      <td>190000.0</td>\n",
       "      <td>186700.0</td>\n",
       "      <td>0.0</td>\n",
       "      <td>3300.0</td>\n",
       "      <td>186700.0</td>\n",
       "      <td>Brevets, marques,droits et valeurs similaires</td>\n",
       "      <td>2022-12-31</td>\n",
       "    </tr>\n",
       "    <tr>\n",
       "      <th>8</th>\n",
       "      <td>2331.0</td>\n",
       "      <td>Installations techniques</td>\n",
       "      <td>100000.0</td>\n",
       "      <td>99600.0</td>\n",
       "      <td>0.0</td>\n",
       "      <td>400.0</td>\n",
       "      <td>99600.0</td>\n",
       "      <td>Matériel technique et informatique</td>\n",
       "      <td>2022-12-31</td>\n",
       "    </tr>\n",
       "    <tr>\n",
       "      <th>9</th>\n",
       "      <td>2355.0</td>\n",
       "      <td>Achat de matériel informatique</td>\n",
       "      <td>250000.0</td>\n",
       "      <td>248000.0</td>\n",
       "      <td>0.0</td>\n",
       "      <td>2000.0</td>\n",
       "      <td>248000.0</td>\n",
       "      <td>Matériel technique et informatique</td>\n",
       "      <td>2022-12-31</td>\n",
       "    </tr>\n",
       "  </tbody>\n",
       "</table>\n",
       "</div>"
      ],
      "text/plain": [
       "   N_COMPTE                                           INTITULE  CREDIT_OUVERT  \\\n",
       "5   23402.0                     Achat de véhicules utilitaires       440000.0   \n",
       "6    2351.0                        Achat de mobilier de bureau       150000.0   \n",
       "7   22201.0  Achat de logiciels et développement de solutio...       190000.0   \n",
       "8    2331.0                           Installations techniques       100000.0   \n",
       "9    2355.0                     Achat de matériel informatique       250000.0   \n",
       "\n",
       "   ENGAGEMENTS  PAIEMENT  DISPONIBLE  RESTE_A_PAYER  \\\n",
       "5     437670.0       0.0      2330.0       437670.0   \n",
       "6     150000.0       0.0         0.0       150000.0   \n",
       "7     186700.0       0.0      3300.0       186700.0   \n",
       "8      99600.0       0.0       400.0        99600.0   \n",
       "9     248000.0       0.0      2000.0       248000.0   \n",
       "\n",
       "                                        CHAPITRE       ANNEE  \n",
       "5                         Matériels de transport  2022-12-31  \n",
       "6             Autres immobilisations corporelles  2022-12-31  \n",
       "7  Brevets, marques,droits et valeurs similaires  2022-12-31  \n",
       "8             Matériel technique et informatique  2022-12-31  \n",
       "9             Matériel technique et informatique  2022-12-31  "
      ]
     },
     "execution_count": 80,
     "metadata": {},
     "output_type": "execute_result"
    }
   ],
   "source": [
    "budget_inves.tail()"
   ]
  },
  {
   "cell_type": "code",
   "execution_count": 81,
   "metadata": {},
   "outputs": [],
   "source": [
    "# -Modify Data Type of each columns : \n",
    "budget_inves['N_COMPTE'] = budget_inves['N_COMPTE'].astype(int)"
   ]
  },
  {
   "cell_type": "code",
   "execution_count": 82,
   "metadata": {},
   "outputs": [],
   "source": [
    "budget_inves['ANNEE'] = pd.to_datetime(budget_inves['ANNEE'])"
   ]
  },
  {
   "cell_type": "code",
   "execution_count": 83,
   "metadata": {},
   "outputs": [
    {
     "data": {
      "text/plain": [
       "N_COMPTE                  int32\n",
       "INTITULE                 object\n",
       "CREDIT_OUVERT           float64\n",
       "ENGAGEMENTS             float64\n",
       "PAIEMENT                float64\n",
       "DISPONIBLE              float64\n",
       "RESTE_A_PAYER           float64\n",
       "CHAPITRE                 object\n",
       "ANNEE            datetime64[ns]\n",
       "dtype: object"
      ]
     },
     "execution_count": 83,
     "metadata": {},
     "output_type": "execute_result"
    }
   ],
   "source": [
    "budget_inves.dtypes"
   ]
  },
  {
   "cell_type": "code",
   "execution_count": 84,
   "metadata": {},
   "outputs": [],
   "source": [
    "# Modify Columns Values  : \n",
    "budget_inves['ENGAGEMENTS'] = budget_inves['CREDIT_OUVERT']-budget_inves['DISPONIBLE']"
   ]
  },
  {
   "cell_type": "code",
   "execution_count": 85,
   "metadata": {},
   "outputs": [],
   "source": [
    "budget_inves['PAIEMENT'] = budget_inves['ENGAGEMENTS']-budget_inves['RESTE_A_PAYER']"
   ]
  },
  {
   "cell_type": "code",
   "execution_count": 86,
   "metadata": {},
   "outputs": [
    {
     "data": {
      "text/html": [
       "<div>\n",
       "<style scoped>\n",
       "    .dataframe tbody tr th:only-of-type {\n",
       "        vertical-align: middle;\n",
       "    }\n",
       "\n",
       "    .dataframe tbody tr th {\n",
       "        vertical-align: top;\n",
       "    }\n",
       "\n",
       "    .dataframe thead th {\n",
       "        text-align: right;\n",
       "    }\n",
       "</style>\n",
       "<table border=\"1\" class=\"dataframe\">\n",
       "  <thead>\n",
       "    <tr style=\"text-align: right;\">\n",
       "      <th></th>\n",
       "      <th>N_COMPTE</th>\n",
       "      <th>INTITULE</th>\n",
       "      <th>CREDIT_OUVERT</th>\n",
       "      <th>ENGAGEMENTS</th>\n",
       "      <th>PAIEMENT</th>\n",
       "      <th>DISPONIBLE</th>\n",
       "      <th>RESTE_A_PAYER</th>\n",
       "      <th>CHAPITRE</th>\n",
       "      <th>ANNEE</th>\n",
       "    </tr>\n",
       "  </thead>\n",
       "  <tbody>\n",
       "    <tr>\n",
       "      <th>1</th>\n",
       "      <td>22101</td>\n",
       "      <td>Études d'urbanisme et actions localisées</td>\n",
       "      <td>600000.0</td>\n",
       "      <td>249600.0</td>\n",
       "      <td>0.0</td>\n",
       "      <td>350400.0</td>\n",
       "      <td>249600.0</td>\n",
       "      <td>Charges à répartir sur plusieurs exercices</td>\n",
       "      <td>2017-12-31</td>\n",
       "    </tr>\n",
       "    <tr>\n",
       "      <th>2</th>\n",
       "      <td>221023</td>\n",
       "      <td>Documents Topographiques</td>\n",
       "      <td>250000.0</td>\n",
       "      <td>248400.0</td>\n",
       "      <td>0.0</td>\n",
       "      <td>1600.0</td>\n",
       "      <td>248400.0</td>\n",
       "      <td>Charges à répartir sur plusieurs exercices</td>\n",
       "      <td>2017-12-31</td>\n",
       "    </tr>\n",
       "    <tr>\n",
       "      <th>3</th>\n",
       "      <td>221030</td>\n",
       "      <td>Plans d'Aménagement et de Développement</td>\n",
       "      <td>250000.0</td>\n",
       "      <td>210000.0</td>\n",
       "      <td>0.0</td>\n",
       "      <td>40000.0</td>\n",
       "      <td>210000.0</td>\n",
       "      <td>Charges à répartir sur plusieurs exercices</td>\n",
       "      <td>2017-12-31</td>\n",
       "    </tr>\n",
       "    <tr>\n",
       "      <th>4</th>\n",
       "      <td>22108</td>\n",
       "      <td>Etudes générales et programmation</td>\n",
       "      <td>1150000.0</td>\n",
       "      <td>420000.0</td>\n",
       "      <td>0.0</td>\n",
       "      <td>730000.0</td>\n",
       "      <td>420000.0</td>\n",
       "      <td>Charges à répartir sur plusieurs exercices</td>\n",
       "      <td>2017-12-31</td>\n",
       "    </tr>\n",
       "    <tr>\n",
       "      <th>5</th>\n",
       "      <td>22201</td>\n",
       "      <td>Achat de logiciels</td>\n",
       "      <td>100000.0</td>\n",
       "      <td>100000.0</td>\n",
       "      <td>0.0</td>\n",
       "      <td>0.0</td>\n",
       "      <td>100000.0</td>\n",
       "      <td>Matériel technique et informatique</td>\n",
       "      <td>2017-12-31</td>\n",
       "    </tr>\n",
       "  </tbody>\n",
       "</table>\n",
       "</div>"
      ],
      "text/plain": [
       "   N_COMPTE                                  INTITULE  CREDIT_OUVERT  \\\n",
       "1     22101  Études d'urbanisme et actions localisées       600000.0   \n",
       "2    221023                  Documents Topographiques       250000.0   \n",
       "3    221030   Plans d'Aménagement et de Développement       250000.0   \n",
       "4     22108         Etudes générales et programmation      1150000.0   \n",
       "5     22201                        Achat de logiciels       100000.0   \n",
       "\n",
       "   ENGAGEMENTS  PAIEMENT  DISPONIBLE  RESTE_A_PAYER  \\\n",
       "1     249600.0       0.0    350400.0       249600.0   \n",
       "2     248400.0       0.0      1600.0       248400.0   \n",
       "3     210000.0       0.0     40000.0       210000.0   \n",
       "4     420000.0       0.0    730000.0       420000.0   \n",
       "5     100000.0       0.0         0.0       100000.0   \n",
       "\n",
       "                                     CHAPITRE      ANNEE  \n",
       "1  Charges à répartir sur plusieurs exercices 2017-12-31  \n",
       "2  Charges à répartir sur plusieurs exercices 2017-12-31  \n",
       "3  Charges à répartir sur plusieurs exercices 2017-12-31  \n",
       "4  Charges à répartir sur plusieurs exercices 2017-12-31  \n",
       "5          Matériel technique et informatique 2017-12-31  "
      ]
     },
     "execution_count": 86,
     "metadata": {},
     "output_type": "execute_result"
    }
   ],
   "source": [
    "budget_inves.head()"
   ]
  },
  {
   "cell_type": "code",
   "execution_count": 87,
   "metadata": {},
   "outputs": [
    {
     "data": {
      "text/html": [
       "<div>\n",
       "<style scoped>\n",
       "    .dataframe tbody tr th:only-of-type {\n",
       "        vertical-align: middle;\n",
       "    }\n",
       "\n",
       "    .dataframe tbody tr th {\n",
       "        vertical-align: top;\n",
       "    }\n",
       "\n",
       "    .dataframe thead th {\n",
       "        text-align: right;\n",
       "    }\n",
       "</style>\n",
       "<table border=\"1\" class=\"dataframe\">\n",
       "  <thead>\n",
       "    <tr style=\"text-align: right;\">\n",
       "      <th></th>\n",
       "      <th>N_COMPTE</th>\n",
       "      <th>INTITULE</th>\n",
       "      <th>CREDIT_OUVERT</th>\n",
       "      <th>ENGAGEMENTS</th>\n",
       "      <th>PAIEMENT</th>\n",
       "      <th>DISPONIBLE</th>\n",
       "      <th>RESTE_A_PAYER</th>\n",
       "      <th>CHAPITRE</th>\n",
       "      <th>ANNEE</th>\n",
       "    </tr>\n",
       "  </thead>\n",
       "  <tbody>\n",
       "    <tr>\n",
       "      <th>5</th>\n",
       "      <td>23402</td>\n",
       "      <td>Achat de véhicules utilitaires</td>\n",
       "      <td>440000.0</td>\n",
       "      <td>437670.0</td>\n",
       "      <td>0.0</td>\n",
       "      <td>2330.0</td>\n",
       "      <td>437670.0</td>\n",
       "      <td>Matériels de transport</td>\n",
       "      <td>2022-12-31</td>\n",
       "    </tr>\n",
       "    <tr>\n",
       "      <th>6</th>\n",
       "      <td>2351</td>\n",
       "      <td>Achat de mobilier de bureau</td>\n",
       "      <td>150000.0</td>\n",
       "      <td>150000.0</td>\n",
       "      <td>0.0</td>\n",
       "      <td>0.0</td>\n",
       "      <td>150000.0</td>\n",
       "      <td>Autres immobilisations corporelles</td>\n",
       "      <td>2022-12-31</td>\n",
       "    </tr>\n",
       "    <tr>\n",
       "      <th>7</th>\n",
       "      <td>22201</td>\n",
       "      <td>Achat de logiciels et développement de solutio...</td>\n",
       "      <td>190000.0</td>\n",
       "      <td>186700.0</td>\n",
       "      <td>0.0</td>\n",
       "      <td>3300.0</td>\n",
       "      <td>186700.0</td>\n",
       "      <td>Brevets, marques,droits et valeurs similaires</td>\n",
       "      <td>2022-12-31</td>\n",
       "    </tr>\n",
       "    <tr>\n",
       "      <th>8</th>\n",
       "      <td>2331</td>\n",
       "      <td>Installations techniques</td>\n",
       "      <td>100000.0</td>\n",
       "      <td>99600.0</td>\n",
       "      <td>0.0</td>\n",
       "      <td>400.0</td>\n",
       "      <td>99600.0</td>\n",
       "      <td>Matériel technique et informatique</td>\n",
       "      <td>2022-12-31</td>\n",
       "    </tr>\n",
       "    <tr>\n",
       "      <th>9</th>\n",
       "      <td>2355</td>\n",
       "      <td>Achat de matériel informatique</td>\n",
       "      <td>250000.0</td>\n",
       "      <td>248000.0</td>\n",
       "      <td>0.0</td>\n",
       "      <td>2000.0</td>\n",
       "      <td>248000.0</td>\n",
       "      <td>Matériel technique et informatique</td>\n",
       "      <td>2022-12-31</td>\n",
       "    </tr>\n",
       "  </tbody>\n",
       "</table>\n",
       "</div>"
      ],
      "text/plain": [
       "   N_COMPTE                                           INTITULE  CREDIT_OUVERT  \\\n",
       "5     23402                     Achat de véhicules utilitaires       440000.0   \n",
       "6      2351                        Achat de mobilier de bureau       150000.0   \n",
       "7     22201  Achat de logiciels et développement de solutio...       190000.0   \n",
       "8      2331                           Installations techniques       100000.0   \n",
       "9      2355                     Achat de matériel informatique       250000.0   \n",
       "\n",
       "   ENGAGEMENTS  PAIEMENT  DISPONIBLE  RESTE_A_PAYER  \\\n",
       "5     437670.0       0.0      2330.0       437670.0   \n",
       "6     150000.0       0.0         0.0       150000.0   \n",
       "7     186700.0       0.0      3300.0       186700.0   \n",
       "8      99600.0       0.0       400.0        99600.0   \n",
       "9     248000.0       0.0      2000.0       248000.0   \n",
       "\n",
       "                                        CHAPITRE      ANNEE  \n",
       "5                         Matériels de transport 2022-12-31  \n",
       "6             Autres immobilisations corporelles 2022-12-31  \n",
       "7  Brevets, marques,droits et valeurs similaires 2022-12-31  \n",
       "8             Matériel technique et informatique 2022-12-31  \n",
       "9             Matériel technique et informatique 2022-12-31  "
      ]
     },
     "execution_count": 87,
     "metadata": {},
     "output_type": "execute_result"
    }
   ],
   "source": [
    "budget_inves.tail()"
   ]
  },
  {
   "cell_type": "code",
   "execution_count": 88,
   "metadata": {},
   "outputs": [
    {
     "name": "stdout",
     "output_type": "stream",
     "text": [
      "False    57\n",
      "Name: N_COMPTE, dtype: int64\n",
      "False    57\n",
      "Name: CREDIT_OUVERT, dtype: int64\n",
      "False    57\n",
      "Name: ENGAGEMENTS, dtype: int64\n",
      "False    57\n",
      "Name: PAIEMENT, dtype: int64\n",
      "False    57\n",
      "Name: DISPONIBLE, dtype: int64\n",
      "False    57\n",
      "Name: RESTE_A_PAYER, dtype: int64\n"
     ]
    }
   ],
   "source": [
    "#Data Verification & Data Validation : \n",
    "for k,v in dict(budget_inves.dtypes).items():\n",
    "    try:\n",
    "        if v!='object':\n",
    "            print((budget_inves[k] < 0).value_counts())\n",
    "    except:\n",
    "        pass"
   ]
  },
  {
   "cell_type": "code",
   "execution_count": 89,
   "metadata": {},
   "outputs": [
    {
     "data": {
      "text/plain": [
       "False    57\n",
       "dtype: int64"
      ]
     },
     "execution_count": 89,
     "metadata": {},
     "output_type": "execute_result"
    }
   ],
   "source": [
    "(budget_inves['CREDIT_OUVERT'] < budget_inves['ENGAGEMENTS']).value_counts()"
   ]
  },
  {
   "cell_type": "code",
   "execution_count": 90,
   "metadata": {},
   "outputs": [
    {
     "data": {
      "text/html": [
       "<div>\n",
       "<style scoped>\n",
       "    .dataframe tbody tr th:only-of-type {\n",
       "        vertical-align: middle;\n",
       "    }\n",
       "\n",
       "    .dataframe tbody tr th {\n",
       "        vertical-align: top;\n",
       "    }\n",
       "\n",
       "    .dataframe thead th {\n",
       "        text-align: right;\n",
       "    }\n",
       "</style>\n",
       "<table border=\"1\" class=\"dataframe\">\n",
       "  <thead>\n",
       "    <tr style=\"text-align: right;\">\n",
       "      <th></th>\n",
       "      <th>N_COMPTE</th>\n",
       "      <th>CREDIT_OUVERT</th>\n",
       "      <th>ENGAGEMENTS</th>\n",
       "      <th>PAIEMENT</th>\n",
       "      <th>DISPONIBLE</th>\n",
       "      <th>RESTE_A_PAYER</th>\n",
       "    </tr>\n",
       "  </thead>\n",
       "  <tbody>\n",
       "    <tr>\n",
       "      <th>count</th>\n",
       "      <td>5.700000e+01</td>\n",
       "      <td>5.700000e+01</td>\n",
       "      <td>57.000000</td>\n",
       "      <td>57.000000</td>\n",
       "      <td>5.700000e+01</td>\n",
       "      <td>57.000000</td>\n",
       "    </tr>\n",
       "    <tr>\n",
       "      <th>mean</th>\n",
       "      <td>4.844605e+05</td>\n",
       "      <td>3.783333e+05</td>\n",
       "      <td>244345.662456</td>\n",
       "      <td>40762.595789</td>\n",
       "      <td>1.339877e+05</td>\n",
       "      <td>203583.066667</td>\n",
       "    </tr>\n",
       "    <tr>\n",
       "      <th>std</th>\n",
       "      <td>8.728091e+05</td>\n",
       "      <td>4.144869e+05</td>\n",
       "      <td>190235.431759</td>\n",
       "      <td>66398.890952</td>\n",
       "      <td>3.336399e+05</td>\n",
       "      <td>203145.137312</td>\n",
       "    </tr>\n",
       "    <tr>\n",
       "      <th>min</th>\n",
       "      <td>2.327000e+03</td>\n",
       "      <td>1.000000e+05</td>\n",
       "      <td>0.000000</td>\n",
       "      <td>0.000000</td>\n",
       "      <td>0.000000e+00</td>\n",
       "      <td>0.000000</td>\n",
       "    </tr>\n",
       "    <tr>\n",
       "      <th>25%</th>\n",
       "      <td>2.355000e+03</td>\n",
       "      <td>1.500000e+05</td>\n",
       "      <td>99999.600000</td>\n",
       "      <td>0.000000</td>\n",
       "      <td>7.040000e+00</td>\n",
       "      <td>3669.600000</td>\n",
       "    </tr>\n",
       "    <tr>\n",
       "      <th>50%</th>\n",
       "      <td>2.220100e+04</td>\n",
       "      <td>2.500000e+05</td>\n",
       "      <td>199980.000000</td>\n",
       "      <td>0.000000</td>\n",
       "      <td>7.680000e+02</td>\n",
       "      <td>150000.000000</td>\n",
       "    </tr>\n",
       "    <tr>\n",
       "      <th>75%</th>\n",
       "      <td>2.210300e+05</td>\n",
       "      <td>4.400000e+05</td>\n",
       "      <td>249600.000000</td>\n",
       "      <td>99756.000000</td>\n",
       "      <td>1.400000e+04</td>\n",
       "      <td>249600.000000</td>\n",
       "    </tr>\n",
       "    <tr>\n",
       "      <th>max</th>\n",
       "      <td>2.285101e+06</td>\n",
       "      <td>2.300000e+06</td>\n",
       "      <td>810000.000000</td>\n",
       "      <td>246000.000000</td>\n",
       "      <td>1.700000e+06</td>\n",
       "      <td>810000.000000</td>\n",
       "    </tr>\n",
       "  </tbody>\n",
       "</table>\n",
       "</div>"
      ],
      "text/plain": [
       "           N_COMPTE  CREDIT_OUVERT    ENGAGEMENTS       PAIEMENT  \\\n",
       "count  5.700000e+01   5.700000e+01      57.000000      57.000000   \n",
       "mean   4.844605e+05   3.783333e+05  244345.662456   40762.595789   \n",
       "std    8.728091e+05   4.144869e+05  190235.431759   66398.890952   \n",
       "min    2.327000e+03   1.000000e+05       0.000000       0.000000   \n",
       "25%    2.355000e+03   1.500000e+05   99999.600000       0.000000   \n",
       "50%    2.220100e+04   2.500000e+05  199980.000000       0.000000   \n",
       "75%    2.210300e+05   4.400000e+05  249600.000000   99756.000000   \n",
       "max    2.285101e+06   2.300000e+06  810000.000000  246000.000000   \n",
       "\n",
       "         DISPONIBLE  RESTE_A_PAYER  \n",
       "count  5.700000e+01      57.000000  \n",
       "mean   1.339877e+05  203583.066667  \n",
       "std    3.336399e+05  203145.137312  \n",
       "min    0.000000e+00       0.000000  \n",
       "25%    7.040000e+00    3669.600000  \n",
       "50%    7.680000e+02  150000.000000  \n",
       "75%    1.400000e+04  249600.000000  \n",
       "max    1.700000e+06  810000.000000  "
      ]
     },
     "execution_count": 90,
     "metadata": {},
     "output_type": "execute_result"
    }
   ],
   "source": [
    "budget_inves.describe()"
   ]
  },
  {
   "cell_type": "code",
   "execution_count": 91,
   "metadata": {},
   "outputs": [
    {
     "name": "stderr",
     "output_type": "stream",
     "text": [
      "C:\\Users\\tioua\\AppData\\Local\\Temp\\ipykernel_3064\\1532383538.py:1: FutureWarning: Indexing with multiple keys (implicitly converted to a tuple of keys) will be deprecated, use a list instead.\n",
      "  budget_inves.groupby(by=['ANNEE'])['CREDIT_OUVERT','ENGAGEMENTS','PAIEMENT','DISPONIBLE','RESTE_A_PAYER'].sum()\n"
     ]
    },
    {
     "data": {
      "text/html": [
       "<div>\n",
       "<style scoped>\n",
       "    .dataframe tbody tr th:only-of-type {\n",
       "        vertical-align: middle;\n",
       "    }\n",
       "\n",
       "    .dataframe tbody tr th {\n",
       "        vertical-align: top;\n",
       "    }\n",
       "\n",
       "    .dataframe thead th {\n",
       "        text-align: right;\n",
       "    }\n",
       "</style>\n",
       "<table border=\"1\" class=\"dataframe\">\n",
       "  <thead>\n",
       "    <tr style=\"text-align: right;\">\n",
       "      <th></th>\n",
       "      <th>CREDIT_OUVERT</th>\n",
       "      <th>ENGAGEMENTS</th>\n",
       "      <th>PAIEMENT</th>\n",
       "      <th>DISPONIBLE</th>\n",
       "      <th>RESTE_A_PAYER</th>\n",
       "    </tr>\n",
       "    <tr>\n",
       "      <th>ANNEE</th>\n",
       "      <th></th>\n",
       "      <th></th>\n",
       "      <th></th>\n",
       "      <th></th>\n",
       "      <th></th>\n",
       "    </tr>\n",
       "  </thead>\n",
       "  <tbody>\n",
       "    <tr>\n",
       "      <th>2017-12-31</th>\n",
       "      <td>3050000.0</td>\n",
       "      <td>1927951.60</td>\n",
       "      <td>0.00</td>\n",
       "      <td>1122048.40</td>\n",
       "      <td>1927951.6</td>\n",
       "    </tr>\n",
       "    <tr>\n",
       "      <th>2018-12-31</th>\n",
       "      <td>5000000.0</td>\n",
       "      <td>2512974.96</td>\n",
       "      <td>878145.36</td>\n",
       "      <td>2487025.04</td>\n",
       "      <td>1634829.6</td>\n",
       "    </tr>\n",
       "    <tr>\n",
       "      <th>2019-12-31</th>\n",
       "      <td>7350000.0</td>\n",
       "      <td>3358883.60</td>\n",
       "      <td>589190.00</td>\n",
       "      <td>3991116.40</td>\n",
       "      <td>2769693.6</td>\n",
       "    </tr>\n",
       "    <tr>\n",
       "      <th>2020-12-31</th>\n",
       "      <td>2475000.0</td>\n",
       "      <td>2468179.00</td>\n",
       "      <td>606139.00</td>\n",
       "      <td>6821.00</td>\n",
       "      <td>1862040.0</td>\n",
       "    </tr>\n",
       "    <tr>\n",
       "      <th>2021-12-31</th>\n",
       "      <td>750000.0</td>\n",
       "      <td>746343.60</td>\n",
       "      <td>249993.60</td>\n",
       "      <td>3656.40</td>\n",
       "      <td>496350.0</td>\n",
       "    </tr>\n",
       "    <tr>\n",
       "      <th>2022-12-31</th>\n",
       "      <td>2940000.0</td>\n",
       "      <td>2913370.00</td>\n",
       "      <td>0.00</td>\n",
       "      <td>26630.00</td>\n",
       "      <td>2913370.0</td>\n",
       "    </tr>\n",
       "  </tbody>\n",
       "</table>\n",
       "</div>"
      ],
      "text/plain": [
       "            CREDIT_OUVERT  ENGAGEMENTS   PAIEMENT  DISPONIBLE  RESTE_A_PAYER\n",
       "ANNEE                                                                       \n",
       "2017-12-31      3050000.0   1927951.60       0.00  1122048.40      1927951.6\n",
       "2018-12-31      5000000.0   2512974.96  878145.36  2487025.04      1634829.6\n",
       "2019-12-31      7350000.0   3358883.60  589190.00  3991116.40      2769693.6\n",
       "2020-12-31      2475000.0   2468179.00  606139.00     6821.00      1862040.0\n",
       "2021-12-31       750000.0    746343.60  249993.60     3656.40       496350.0\n",
       "2022-12-31      2940000.0   2913370.00       0.00    26630.00      2913370.0"
      ]
     },
     "execution_count": 91,
     "metadata": {},
     "output_type": "execute_result"
    }
   ],
   "source": [
    "budget_inves.groupby(by=['ANNEE'])['CREDIT_OUVERT','ENGAGEMENTS','PAIEMENT','DISPONIBLE','RESTE_A_PAYER'].sum()"
   ]
  },
  {
   "cell_type": "markdown",
   "metadata": {},
   "source": [
    "------------------------------------------- Load Budget Investissment vers SQL Server ---------------------------------------------"
   ]
  },
  {
   "cell_type": "code",
   "execution_count": 298,
   "metadata": {},
   "outputs": [
    {
     "data": {
      "text/html": [
       "<div>\n",
       "<style scoped>\n",
       "    .dataframe tbody tr th:only-of-type {\n",
       "        vertical-align: middle;\n",
       "    }\n",
       "\n",
       "    .dataframe tbody tr th {\n",
       "        vertical-align: top;\n",
       "    }\n",
       "\n",
       "    .dataframe thead th {\n",
       "        text-align: right;\n",
       "    }\n",
       "</style>\n",
       "<table border=\"1\" class=\"dataframe\">\n",
       "  <thead>\n",
       "    <tr style=\"text-align: right;\">\n",
       "      <th></th>\n",
       "      <th>N_COMPTE</th>\n",
       "      <th>INTITULE</th>\n",
       "      <th>CREDIT_OUVERT</th>\n",
       "      <th>ENGAGEMENTS</th>\n",
       "      <th>PAIEMENT</th>\n",
       "      <th>DISPONIBLE</th>\n",
       "      <th>RESTE_A_PAYER</th>\n",
       "      <th>CHAPITRE</th>\n",
       "      <th>ANNEE</th>\n",
       "    </tr>\n",
       "  </thead>\n",
       "  <tbody>\n",
       "    <tr>\n",
       "      <th>1</th>\n",
       "      <td>22101</td>\n",
       "      <td>Études d'urbanisme et actions localisées</td>\n",
       "      <td>600000.0</td>\n",
       "      <td>249600.0</td>\n",
       "      <td>0.0</td>\n",
       "      <td>350400.0</td>\n",
       "      <td>249600.0</td>\n",
       "      <td>Charges à répartir sur plusieurs exercices</td>\n",
       "      <td>2017-12-31</td>\n",
       "    </tr>\n",
       "    <tr>\n",
       "      <th>2</th>\n",
       "      <td>221023</td>\n",
       "      <td>Documents Topographiques</td>\n",
       "      <td>250000.0</td>\n",
       "      <td>248400.0</td>\n",
       "      <td>0.0</td>\n",
       "      <td>1600.0</td>\n",
       "      <td>248400.0</td>\n",
       "      <td>Charges à répartir sur plusieurs exercices</td>\n",
       "      <td>2017-12-31</td>\n",
       "    </tr>\n",
       "    <tr>\n",
       "      <th>3</th>\n",
       "      <td>221030</td>\n",
       "      <td>Plans d'Aménagement et de Développement</td>\n",
       "      <td>250000.0</td>\n",
       "      <td>210000.0</td>\n",
       "      <td>0.0</td>\n",
       "      <td>40000.0</td>\n",
       "      <td>210000.0</td>\n",
       "      <td>Charges à répartir sur plusieurs exercices</td>\n",
       "      <td>2017-12-31</td>\n",
       "    </tr>\n",
       "    <tr>\n",
       "      <th>4</th>\n",
       "      <td>22108</td>\n",
       "      <td>Etudes générales et programmation</td>\n",
       "      <td>1150000.0</td>\n",
       "      <td>420000.0</td>\n",
       "      <td>0.0</td>\n",
       "      <td>730000.0</td>\n",
       "      <td>420000.0</td>\n",
       "      <td>Charges à répartir sur plusieurs exercices</td>\n",
       "      <td>2017-12-31</td>\n",
       "    </tr>\n",
       "    <tr>\n",
       "      <th>5</th>\n",
       "      <td>22201</td>\n",
       "      <td>Achat de logiciels</td>\n",
       "      <td>100000.0</td>\n",
       "      <td>100000.0</td>\n",
       "      <td>0.0</td>\n",
       "      <td>0.0</td>\n",
       "      <td>100000.0</td>\n",
       "      <td>Matériel technique et informatique</td>\n",
       "      <td>2017-12-31</td>\n",
       "    </tr>\n",
       "  </tbody>\n",
       "</table>\n",
       "</div>"
      ],
      "text/plain": [
       "   N_COMPTE                                  INTITULE  CREDIT_OUVERT  \\\n",
       "1     22101  Études d'urbanisme et actions localisées       600000.0   \n",
       "2    221023                  Documents Topographiques       250000.0   \n",
       "3    221030   Plans d'Aménagement et de Développement       250000.0   \n",
       "4     22108         Etudes générales et programmation      1150000.0   \n",
       "5     22201                        Achat de logiciels       100000.0   \n",
       "\n",
       "   ENGAGEMENTS  PAIEMENT  DISPONIBLE  RESTE_A_PAYER  \\\n",
       "1     249600.0       0.0    350400.0       249600.0   \n",
       "2     248400.0       0.0      1600.0       248400.0   \n",
       "3     210000.0       0.0     40000.0       210000.0   \n",
       "4     420000.0       0.0    730000.0       420000.0   \n",
       "5     100000.0       0.0         0.0       100000.0   \n",
       "\n",
       "                                     CHAPITRE      ANNEE  \n",
       "1  Charges à répartir sur plusieurs exercices 2017-12-31  \n",
       "2  Charges à répartir sur plusieurs exercices 2017-12-31  \n",
       "3  Charges à répartir sur plusieurs exercices 2017-12-31  \n",
       "4  Charges à répartir sur plusieurs exercices 2017-12-31  \n",
       "5          Matériel technique et informatique 2017-12-31  "
      ]
     },
     "execution_count": 298,
     "metadata": {},
     "output_type": "execute_result"
    }
   ],
   "source": [
    "budget_inves.head()"
   ]
  },
  {
   "cell_type": "code",
   "execution_count": 299,
   "metadata": {},
   "outputs": [],
   "source": [
    "server_name = 'DESKTOP-LORG5OV'\n",
    "database_name = 'Agence_Urbaine'\n",
    "driver = 'SQL+Server'\n",
    "conn_str = f'mssql://{server_name}/{database_name}?driver={driver}'\n",
    "engine = sqlalchemy.create_engine(conn_str)"
   ]
  },
  {
   "cell_type": "code",
   "execution_count": 300,
   "metadata": {},
   "outputs": [
    {
     "data": {
      "text/plain": [
       "-1"
      ]
     },
     "execution_count": 300,
     "metadata": {},
     "output_type": "execute_result"
    }
   ],
   "source": [
    "budget_inves.to_sql('Budget_Invstissment', engine, if_exists='replace', index=False)"
   ]
  },
  {
   "cell_type": "code",
   "execution_count": 93,
   "metadata": {},
   "outputs": [
    {
     "data": {
      "text/plain": [
       "Index(['COMPTES_N', 'INTITULEES_DES_COMPTES', 'CREDIT_OUVERT', 'ENGAGEMENT',\n",
       "       'DISPONIBLE_ENGAGEMENT', 'PAIEMENT', 'RESTE_A_PAYER', 'CHAPITRE',\n",
       "       'ANNEE'],\n",
       "      dtype='object')"
      ]
     },
     "execution_count": 93,
     "metadata": {},
     "output_type": "execute_result"
    }
   ],
   "source": [
    "budget_ex.columns"
   ]
  },
  {
   "cell_type": "code",
   "execution_count": 92,
   "metadata": {},
   "outputs": [
    {
     "data": {
      "text/plain": [
       "Index(['N_COMPTE', 'INTITULE', 'CREDIT_OUVERT', 'ENGAGEMENTS', 'PAIEMENT',\n",
       "       'DISPONIBLE', 'RESTE_A_PAYER', 'CHAPITRE', 'ANNEE'],\n",
       "      dtype='object')"
      ]
     },
     "execution_count": 92,
     "metadata": {},
     "output_type": "execute_result"
    }
   ],
   "source": [
    "budget_inves.columns"
   ]
  },
  {
   "cell_type": "code",
   "execution_count": 107,
   "metadata": {},
   "outputs": [],
   "source": [
    "ex = dict(budget_ex.groupby(by=['ANNEE'])['CREDIT_OUVERT'].sum())"
   ]
  },
  {
   "cell_type": "code",
   "execution_count": 108,
   "metadata": {},
   "outputs": [
    {
     "data": {
      "text/plain": [
       "{Timestamp('2017-12-31 00:00:00'): 3735535.0,\n",
       " Timestamp('2018-12-31 00:00:00'): 7185535.0,\n",
       " Timestamp('2019-12-31 00:00:00'): 15904535.0,\n",
       " Timestamp('2020-12-31 00:00:00'): 14332000.0,\n",
       " Timestamp('2021-12-31 00:00:00'): 18019295.49,\n",
       " Timestamp('2022-12-31 00:00:00'): 17466550.0}"
      ]
     },
     "execution_count": 108,
     "metadata": {},
     "output_type": "execute_result"
    }
   ],
   "source": [
    "ex"
   ]
  },
  {
   "cell_type": "code",
   "execution_count": 110,
   "metadata": {},
   "outputs": [],
   "source": [
    "inv = dict(budget_inves.groupby(by=['ANNEE'])['CREDIT_OUVERT'].sum())"
   ]
  },
  {
   "cell_type": "code",
   "execution_count": 111,
   "metadata": {},
   "outputs": [
    {
     "data": {
      "text/plain": [
       "{Timestamp('2017-12-31 00:00:00'): 3050000.0,\n",
       " Timestamp('2018-12-31 00:00:00'): 5000000.0,\n",
       " Timestamp('2019-12-31 00:00:00'): 7350000.0,\n",
       " Timestamp('2020-12-31 00:00:00'): 2475000.0,\n",
       " Timestamp('2021-12-31 00:00:00'): 750000.0,\n",
       " Timestamp('2022-12-31 00:00:00'): 2940000.0}"
      ]
     },
     "execution_count": 111,
     "metadata": {},
     "output_type": "execute_result"
    }
   ],
   "source": [
    "inv"
   ]
  },
  {
   "cell_type": "code",
   "execution_count": 112,
   "metadata": {},
   "outputs": [
    {
     "data": {
      "text/plain": [
       "[<matplotlib.lines.Line2D at 0x1808e7ab9d0>]"
      ]
     },
     "execution_count": 112,
     "metadata": {},
     "output_type": "execute_result"
    },
    {
     "data": {
      "image/png": "[encoded data removed]",
      "text/plain": [
       "<Figure size 640x480 with 1 Axes>"
      ]
     },
     "metadata": {},
     "output_type": "display_data"
    }
   ],
   "source": [
    "plt.plot(list(ex.keys()),list(ex.values()))\n",
    "plt.plot(list(inv.keys()),list(inv.values()))"
   ]
  },
  {
   "cell_type": "code",
   "execution_count": null,
   "metadata": {},
   "outputs": [],
   "source": []
  }
 ],
 "metadata": {
  "kernelspec": {
   "display_name": "Python 3 (ipykernel)",
   "language": "python",
   "name": "python3"
  },
  "language_info": {
   "codemirror_mode": {
    "name": "ipython",
    "version": 3
   },
   "file_extension": ".py",
   "mimetype": "text/x-python",
   "name": "python",
   "nbconvert_exporter": "python",
   "pygments_lexer": "ipython3",
   "version": "3.9.13"
  }
 },
 "nbformat": 4,
 "nbformat_minor": 2
}
