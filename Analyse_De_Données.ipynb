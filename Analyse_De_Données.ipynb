{
 "cells": [
  {
   "cell_type": "code",
   "execution_count": 1,
   "metadata": {},
   "outputs": [],
   "source": [
    "import pandas as pd\n",
    "import pyodbc\n",
    "import matplotlib.pyplot as plt\n",
    "import statsmodels.api as sm"
   ]
  },
  {
   "cell_type": "code",
   "execution_count": 2,
   "metadata": {},
   "outputs": [],
   "source": [
    "plt.style.use('seaborn-whitegrid')"
   ]
  },
  {
   "cell_type": "code",
   "execution_count": 3,
   "metadata": {},
   "outputs": [],
   "source": [
    "server = 'DESKTOP-LORG5OV'\n",
    "database = 'Agence_Urbaine'\n",
    "username = ''\n",
    "password = ''\n",
    "driver = '{SQL Server}' \n",
    "cnxn = pyodbc.connect(f\"DRIVER={driver};SERVER={server};DATABASE={database};UID={username};PWD={password}\")"
   ]
  },
  {
   "cell_type": "code",
   "execution_count": 4,
   "metadata": {},
   "outputs": [
    {
     "name": "stderr",
     "output_type": "stream",
     "text": [
      "C:\\ProgramData\\Anaconda3\\lib\\site-packages\\pandas\\io\\sql.py:762: UserWarning: pandas only support SQLAlchemy connectable(engine/connection) ordatabase string URI or sqlite3 DBAPI2 connectionother DBAPI2 objects are not tested, please consider using SQLAlchemy\n",
      "  warnings.warn(\n"
     ]
    }
   ],
   "source": [
    "budget_inv = pd.read_sql('select ANNEE,sum(ENGAGEMENTS) as INVESTISSEMENT from Budget_Investissement group by ANNEE',cnxn)"
   ]
  },
  {
   "cell_type": "code",
   "execution_count": 5,
   "metadata": {},
   "outputs": [
    {
     "data": {
      "text/html": [
       "<div>\n",
       "<style scoped>\n",
       "    .dataframe tbody tr th:only-of-type {\n",
       "        vertical-align: middle;\n",
       "    }\n",
       "\n",
       "    .dataframe tbody tr th {\n",
       "        vertical-align: top;\n",
       "    }\n",
       "\n",
       "    .dataframe thead th {\n",
       "        text-align: right;\n",
       "    }\n",
       "</style>\n",
       "<table border=\"1\" class=\"dataframe\">\n",
       "  <thead>\n",
       "    <tr style=\"text-align: right;\">\n",
       "      <th></th>\n",
       "      <th>ANNEE</th>\n",
       "      <th>INVESTISSEMENT</th>\n",
       "    </tr>\n",
       "  </thead>\n",
       "  <tbody>\n",
       "    <tr>\n",
       "      <th>0</th>\n",
       "      <td>2017-12-31</td>\n",
       "      <td>1927951.60</td>\n",
       "    </tr>\n",
       "    <tr>\n",
       "      <th>1</th>\n",
       "      <td>2018-12-31</td>\n",
       "      <td>2512974.96</td>\n",
       "    </tr>\n",
       "    <tr>\n",
       "      <th>2</th>\n",
       "      <td>2019-12-31</td>\n",
       "      <td>3358883.60</td>\n",
       "    </tr>\n",
       "    <tr>\n",
       "      <th>3</th>\n",
       "      <td>2020-12-31</td>\n",
       "      <td>2468179.00</td>\n",
       "    </tr>\n",
       "    <tr>\n",
       "      <th>4</th>\n",
       "      <td>2021-12-31</td>\n",
       "      <td>746343.60</td>\n",
       "    </tr>\n",
       "    <tr>\n",
       "      <th>5</th>\n",
       "      <td>2022-12-31</td>\n",
       "      <td>2913370.00</td>\n",
       "    </tr>\n",
       "  </tbody>\n",
       "</table>\n",
       "</div>"
      ],
      "text/plain": [
       "       ANNEE  INVESTISSEMENT\n",
       "0 2017-12-31      1927951.60\n",
       "1 2018-12-31      2512974.96\n",
       "2 2019-12-31      3358883.60\n",
       "3 2020-12-31      2468179.00\n",
       "4 2021-12-31       746343.60\n",
       "5 2022-12-31      2913370.00"
      ]
     },
     "execution_count": 5,
     "metadata": {},
     "output_type": "execute_result"
    }
   ],
   "source": [
    "budget_inv"
   ]
  },
  {
   "cell_type": "markdown",
   "metadata": {},
   "source": [
    " #Analysis Le Performance de l'Inverstissement "
   ]
  },
  {
   "cell_type": "code",
   "execution_count": 6,
   "metadata": {},
   "outputs": [],
   "source": [
    "# TCAM  =  (Valeur Finale/Valeur Intiale)^(1/Nbr Annee)-1"
   ]
  },
  {
   "cell_type": "code",
   "execution_count": 7,
   "metadata": {},
   "outputs": [
    {
     "data": {
      "text/plain": [
       "5    2913370.0\n",
       "Name: INVESTISSEMENT, dtype: float64"
      ]
     },
     "execution_count": 7,
     "metadata": {},
     "output_type": "execute_result"
    }
   ],
   "source": [
    "budget_inv.tail(1)['INVESTISSEMENT']"
   ]
  },
  {
   "cell_type": "code",
   "execution_count": 8,
   "metadata": {},
   "outputs": [
    {
     "data": {
      "text/plain": [
       "0    1927951.6\n",
       "Name: INVESTISSEMENT, dtype: float64"
      ]
     },
     "execution_count": 8,
     "metadata": {},
     "output_type": "execute_result"
    }
   ],
   "source": [
    "budget_inv.head(1)['INVESTISSEMENT']"
   ]
  },
  {
   "cell_type": "code",
   "execution_count": 9,
   "metadata": {},
   "outputs": [],
   "source": [
    "TCAM_Global = (pow((2913370.0/1927951.60),(1/5))-1)*100"
   ]
  },
  {
   "cell_type": "code",
   "execution_count": 10,
   "metadata": {},
   "outputs": [
    {
     "data": {
      "text/plain": [
       "8.607521614860136"
      ]
     },
     "execution_count": 10,
     "metadata": {},
     "output_type": "execute_result"
    }
   ],
   "source": [
    "TCAM_Global"
   ]
  },
  {
   "cell_type": "code",
   "execution_count": 11,
   "metadata": {},
   "outputs": [
    {
     "data": {
      "text/plain": [
       "\"\\nLe TCAM global sur la période de 2017 à 2022 est de 8,60%, \\nce qui indique que l'investissement a enregistré une croissance\\nmoyenne annuelle de 8,60% au cours de cette période.\\n\""
      ]
     },
     "execution_count": 11,
     "metadata": {},
     "output_type": "execute_result"
    }
   ],
   "source": [
    "#Commenter : \n",
    "'''\n",
    "Le TCAM global sur la période de 2017 à 2022 est de 8,60%, \n",
    "ce qui indique que l'investissement a enregistré une croissance\n",
    "moyenne annuelle de 8,60% au cours de cette période.\n",
    "'''"
   ]
  },
  {
   "cell_type": "code",
   "execution_count": 12,
   "metadata": {},
   "outputs": [],
   "source": [
    "TCAM_2019_2021 = (pow((746343.60/3358883.60),(1/2))-1)*100"
   ]
  },
  {
   "cell_type": "code",
   "execution_count": 13,
   "metadata": {},
   "outputs": [
    {
     "data": {
      "text/plain": [
       "-52.86191561056175"
      ]
     },
     "execution_count": 13,
     "metadata": {},
     "output_type": "execute_result"
    }
   ],
   "source": [
    "TCAM_2019_2021"
   ]
  },
  {
   "cell_type": "code",
   "execution_count": 14,
   "metadata": {},
   "outputs": [
    {
     "data": {
      "text/plain": [
       "\" \\nLe TCAM pour la période de 2019 à 2021 est de -52.86%, \\nce qui indique que l'investissement a enregistré\\nune baisse moyenne annuelle de 52.86%% au cours de cette période.\\n\""
      ]
     },
     "execution_count": 14,
     "metadata": {},
     "output_type": "execute_result"
    }
   ],
   "source": [
    "#Commenter : \n",
    "''' \n",
    "Le TCAM pour la période de 2019 à 2021 est de -52.86%, \n",
    "ce qui indique que l'investissement a enregistré\n",
    "une baisse moyenne annuelle de 52.86%% au cours de cette période.\n",
    "'''"
   ]
  },
  {
   "cell_type": "markdown",
   "metadata": {},
   "source": [
    "----------Analyse des Séries Chronologique : "
   ]
  },
  {
   "cell_type": "code",
   "execution_count": 15,
   "metadata": {},
   "outputs": [
    {
     "data": {
      "text/html": [
       "<div>\n",
       "<style scoped>\n",
       "    .dataframe tbody tr th:only-of-type {\n",
       "        vertical-align: middle;\n",
       "    }\n",
       "\n",
       "    .dataframe tbody tr th {\n",
       "        vertical-align: top;\n",
       "    }\n",
       "\n",
       "    .dataframe thead th {\n",
       "        text-align: right;\n",
       "    }\n",
       "</style>\n",
       "<table border=\"1\" class=\"dataframe\">\n",
       "  <thead>\n",
       "    <tr style=\"text-align: right;\">\n",
       "      <th></th>\n",
       "      <th>ANNEE</th>\n",
       "      <th>INVESTISSEMENT</th>\n",
       "    </tr>\n",
       "  </thead>\n",
       "  <tbody>\n",
       "    <tr>\n",
       "      <th>0</th>\n",
       "      <td>2017-12-31</td>\n",
       "      <td>1927951.60</td>\n",
       "    </tr>\n",
       "    <tr>\n",
       "      <th>1</th>\n",
       "      <td>2018-12-31</td>\n",
       "      <td>2512974.96</td>\n",
       "    </tr>\n",
       "    <tr>\n",
       "      <th>2</th>\n",
       "      <td>2019-12-31</td>\n",
       "      <td>3358883.60</td>\n",
       "    </tr>\n",
       "    <tr>\n",
       "      <th>3</th>\n",
       "      <td>2020-12-31</td>\n",
       "      <td>2468179.00</td>\n",
       "    </tr>\n",
       "    <tr>\n",
       "      <th>4</th>\n",
       "      <td>2021-12-31</td>\n",
       "      <td>746343.60</td>\n",
       "    </tr>\n",
       "    <tr>\n",
       "      <th>5</th>\n",
       "      <td>2022-12-31</td>\n",
       "      <td>2913370.00</td>\n",
       "    </tr>\n",
       "  </tbody>\n",
       "</table>\n",
       "</div>"
      ],
      "text/plain": [
       "       ANNEE  INVESTISSEMENT\n",
       "0 2017-12-31      1927951.60\n",
       "1 2018-12-31      2512974.96\n",
       "2 2019-12-31      3358883.60\n",
       "3 2020-12-31      2468179.00\n",
       "4 2021-12-31       746343.60\n",
       "5 2022-12-31      2913370.00"
      ]
     },
     "execution_count": 15,
     "metadata": {},
     "output_type": "execute_result"
    }
   ],
   "source": [
    "budget_inv"
   ]
  },
  {
   "cell_type": "code",
   "execution_count": 16,
   "metadata": {},
   "outputs": [
    {
     "data": {
      "image/png": "[encoded data removed]",
      "text/plain": [
       "<Figure size 1500x500 with 1 Axes>"
      ]
     },
     "metadata": {},
     "output_type": "display_data"
    }
   ],
   "source": [
    "plt.figure(figsize=(15,5))\n",
    "plt.plot(budget_inv['ANNEE'],budget_inv['INVESTISSEMENT'])\n",
    "max_inv = budget_inv['INVESTISSEMENT'].max()\n",
    "min_inv = budget_inv['INVESTISSEMENT'].min()\n",
    "plt.axhline(max_inv, color='red', linestyle='--', label=f'Max: {max_inv:.2f}')\n",
    "plt.axhline(min_inv, color='green', linestyle='--', label=f'Min: {min_inv:.2f}')\n",
    "plt.legend()\n",
    "plt.show()"
   ]
  },
  {
   "cell_type": "code",
   "execution_count": 17,
   "metadata": {},
   "outputs": [
    {
     "data": {
      "text/plain": [
       "ANNEE             datetime64[ns]\n",
       "INVESTISSEMENT           float64\n",
       "dtype: object"
      ]
     },
     "execution_count": 17,
     "metadata": {},
     "output_type": "execute_result"
    }
   ],
   "source": [
    "budget_inv.dtypes"
   ]
  },
  {
   "cell_type": "code",
   "execution_count": 18,
   "metadata": {},
   "outputs": [],
   "source": [
    "budget_inv.set_index('ANNEE',inplace=True)"
   ]
  },
  {
   "cell_type": "code",
   "execution_count": 19,
   "metadata": {},
   "outputs": [
    {
     "data": {
      "text/html": [
       "<div>\n",
       "<style scoped>\n",
       "    .dataframe tbody tr th:only-of-type {\n",
       "        vertical-align: middle;\n",
       "    }\n",
       "\n",
       "    .dataframe tbody tr th {\n",
       "        vertical-align: top;\n",
       "    }\n",
       "\n",
       "    .dataframe thead th {\n",
       "        text-align: right;\n",
       "    }\n",
       "</style>\n",
       "<table border=\"1\" class=\"dataframe\">\n",
       "  <thead>\n",
       "    <tr style=\"text-align: right;\">\n",
       "      <th></th>\n",
       "      <th>INVESTISSEMENT</th>\n",
       "    </tr>\n",
       "    <tr>\n",
       "      <th>ANNEE</th>\n",
       "      <th></th>\n",
       "    </tr>\n",
       "  </thead>\n",
       "  <tbody>\n",
       "    <tr>\n",
       "      <th>2017-12-31</th>\n",
       "      <td>1927951.60</td>\n",
       "    </tr>\n",
       "    <tr>\n",
       "      <th>2018-12-31</th>\n",
       "      <td>2512974.96</td>\n",
       "    </tr>\n",
       "    <tr>\n",
       "      <th>2019-12-31</th>\n",
       "      <td>3358883.60</td>\n",
       "    </tr>\n",
       "    <tr>\n",
       "      <th>2020-12-31</th>\n",
       "      <td>2468179.00</td>\n",
       "    </tr>\n",
       "    <tr>\n",
       "      <th>2021-12-31</th>\n",
       "      <td>746343.60</td>\n",
       "    </tr>\n",
       "    <tr>\n",
       "      <th>2022-12-31</th>\n",
       "      <td>2913370.00</td>\n",
       "    </tr>\n",
       "  </tbody>\n",
       "</table>\n",
       "</div>"
      ],
      "text/plain": [
       "            INVESTISSEMENT\n",
       "ANNEE                     \n",
       "2017-12-31      1927951.60\n",
       "2018-12-31      2512974.96\n",
       "2019-12-31      3358883.60\n",
       "2020-12-31      2468179.00\n",
       "2021-12-31       746343.60\n",
       "2022-12-31      2913370.00"
      ]
     },
     "execution_count": 19,
     "metadata": {},
     "output_type": "execute_result"
    }
   ],
   "source": [
    "budget_inv"
   ]
  },
  {
   "cell_type": "code",
   "execution_count": 20,
   "metadata": {},
   "outputs": [],
   "source": [
    "from statsmodels.tsa.seasonal import seasonal_decompose"
   ]
  },
  {
   "cell_type": "code",
   "execution_count": 21,
   "metadata": {},
   "outputs": [
    {
     "data": {
      "image/png": "[encoded data removed]",
      "text/plain": [
       "<Figure size 1500x500 with 4 Axes>"
      ]
     },
     "metadata": {},
     "output_type": "display_data"
    }
   ],
   "source": [
    "#Modele Additive : \n",
    "Decomposition = seasonal_decompose(budget_inv,model='multiplicative')\n",
    "fig = Decomposition.plot()\n",
    "fig.set_size_inches(15, 5)\n",
    "plt.show()"
   ]
  },
  {
   "cell_type": "markdown",
   "metadata": {},
   "source": [
    "#Resultat : "
   ]
  },
  {
   "cell_type": "code",
   "execution_count": 22,
   "metadata": {},
   "outputs": [
    {
     "data": {
      "text/plain": [
       "\" \\n     Graphique 1 (Trend): la décomposition de série chronologique ressemble au graphique des données brutes, \\n                    cela peut indiquer qu'il n'y a pas de tendance claire dans vos données. En d'autres termes,\\n                    les valeurs de votre série chronologique semblent être distribuées de manière aléatoire autour d'une moyenne constante,\\n                    sans qu'il y ait une tendance nette à la hausse ou à la baisse au fil du temps. (+) ou que la période d'observation soit trop courte.\\n\\n        'Hypothese  ' : Si la série chronologique semble être distribuée de manière aléatoire autour d'une moyenne constante,\\n                        cela peut indiquer que votre série ne présente pas de tendance ou de saisonnalité significative. \\n                        Cela peut également signifier qu'il y a une variation aléatoire importante dans votre série chronologique.\\n\\n     Graphique 2 (Seasonal): De même, si la composante saisonnière est constante, cela signifie qu'il n'y a pas de variation saisonnière régulière dans vos données. \\n                             Cela peut être dû au fait que les fluctuations saisonnières sont faibles ou inexistantes dans votre série chronologique.\\n\\n     Chraphique 3 (Resid): Le graphique des résidus montre une variation aléatoire importante, \\n                           ce qui suggère qu'il y a une grande incertitude ou des facteurs imprévus qui influencent votre série chronologique.\\n\""
      ]
     },
     "execution_count": 22,
     "metadata": {},
     "output_type": "execute_result"
    }
   ],
   "source": [
    "''' \n",
    "     Graphique 1 (Trend): la décomposition de série chronologique ressemble au graphique des données brutes, \n",
    "                    cela peut indiquer qu'il n'y a pas de tendance claire dans vos données. En d'autres termes,\n",
    "                    les valeurs de votre série chronologique semblent être distribuées de manière aléatoire autour d'une moyenne constante,\n",
    "                    sans qu'il y ait une tendance nette à la hausse ou à la baisse au fil du temps. (+) ou que la période d'observation soit trop courte.\n",
    "\n",
    "        'Hypothese  ' : Si la série chronologique semble être distribuée de manière aléatoire autour d'une moyenne constante,\n",
    "                        cela peut indiquer que votre série ne présente pas de tendance ou de saisonnalité significative. \n",
    "                        Cela peut également signifier qu'il y a une variation aléatoire importante dans votre série chronologique.\n",
    "\n",
    "     Graphique 2 (Seasonal): De même, si la composante saisonnière est constante, cela signifie qu'il n'y a pas de variation saisonnière régulière dans vos données. \n",
    "                             Cela peut être dû au fait que les fluctuations saisonnières sont faibles ou inexistantes dans votre série chronologique.\n",
    "\n",
    "     Chraphique 3 (Resid): Le graphique des résidus montre une variation aléatoire importante, \n",
    "                           ce qui suggère qu'il y a une grande incertitude ou des facteurs imprévus qui influencent votre série chronologique.\n",
    "'''\n",
    "\n",
    "# Donc il exists des facteurs qui influencent sur l'investissement"
   ]
  },
  {
   "cell_type": "markdown",
   "metadata": {},
   "source": [
    "-------Analyse de Regression Linéaire : "
   ]
  },
  {
   "cell_type": "markdown",
   "metadata": {},
   "source": [
    "Hypothese 1 : \"Budget Exploitation impact sur l'investissement\""
   ]
  },
  {
   "cell_type": "code",
   "execution_count": 23,
   "metadata": {},
   "outputs": [
    {
     "name": "stderr",
     "output_type": "stream",
     "text": [
      "C:\\ProgramData\\Anaconda3\\lib\\site-packages\\pandas\\io\\sql.py:762: UserWarning: pandas only support SQLAlchemy connectable(engine/connection) ordatabase string URI or sqlite3 DBAPI2 connectionother DBAPI2 objects are not tested, please consider using SQLAlchemy\n",
      "  warnings.warn(\n"
     ]
    }
   ],
   "source": [
    "budget_ex  = pd.read_sql('select ANNEE,sum(ENGAGEMENT) as EXPLOITATION from Budget_Exploitation group by ANNEE',cnxn)"
   ]
  },
  {
   "cell_type": "code",
   "execution_count": 24,
   "metadata": {},
   "outputs": [
    {
     "data": {
      "text/html": [
       "<div>\n",
       "<style scoped>\n",
       "    .dataframe tbody tr th:only-of-type {\n",
       "        vertical-align: middle;\n",
       "    }\n",
       "\n",
       "    .dataframe tbody tr th {\n",
       "        vertical-align: top;\n",
       "    }\n",
       "\n",
       "    .dataframe thead th {\n",
       "        text-align: right;\n",
       "    }\n",
       "</style>\n",
       "<table border=\"1\" class=\"dataframe\">\n",
       "  <thead>\n",
       "    <tr style=\"text-align: right;\">\n",
       "      <th></th>\n",
       "      <th>ANNEE</th>\n",
       "      <th>EXPLOITATION</th>\n",
       "    </tr>\n",
       "  </thead>\n",
       "  <tbody>\n",
       "    <tr>\n",
       "      <th>0</th>\n",
       "      <td>2017-12-31</td>\n",
       "      <td>3538705.94</td>\n",
       "    </tr>\n",
       "    <tr>\n",
       "      <th>1</th>\n",
       "      <td>2018-12-31</td>\n",
       "      <td>6045873.74</td>\n",
       "    </tr>\n",
       "    <tr>\n",
       "      <th>2</th>\n",
       "      <td>2019-12-31</td>\n",
       "      <td>13113565.79</td>\n",
       "    </tr>\n",
       "    <tr>\n",
       "      <th>3</th>\n",
       "      <td>2020-12-31</td>\n",
       "      <td>13773629.99</td>\n",
       "    </tr>\n",
       "    <tr>\n",
       "      <th>4</th>\n",
       "      <td>2021-12-31</td>\n",
       "      <td>16452351.65</td>\n",
       "    </tr>\n",
       "    <tr>\n",
       "      <th>5</th>\n",
       "      <td>2022-12-31</td>\n",
       "      <td>16559813.04</td>\n",
       "    </tr>\n",
       "  </tbody>\n",
       "</table>\n",
       "</div>"
      ],
      "text/plain": [
       "       ANNEE  EXPLOITATION\n",
       "0 2017-12-31    3538705.94\n",
       "1 2018-12-31    6045873.74\n",
       "2 2019-12-31   13113565.79\n",
       "3 2020-12-31   13773629.99\n",
       "4 2021-12-31   16452351.65\n",
       "5 2022-12-31   16559813.04"
      ]
     },
     "execution_count": 24,
     "metadata": {},
     "output_type": "execute_result"
    }
   ],
   "source": [
    "budget_ex"
   ]
  },
  {
   "cell_type": "code",
   "execution_count": 25,
   "metadata": {},
   "outputs": [
    {
     "data": {
      "text/html": [
       "<div>\n",
       "<style scoped>\n",
       "    .dataframe tbody tr th:only-of-type {\n",
       "        vertical-align: middle;\n",
       "    }\n",
       "\n",
       "    .dataframe tbody tr th {\n",
       "        vertical-align: top;\n",
       "    }\n",
       "\n",
       "    .dataframe thead th {\n",
       "        text-align: right;\n",
       "    }\n",
       "</style>\n",
       "<table border=\"1\" class=\"dataframe\">\n",
       "  <thead>\n",
       "    <tr style=\"text-align: right;\">\n",
       "      <th></th>\n",
       "      <th>INVESTISSEMENT</th>\n",
       "    </tr>\n",
       "    <tr>\n",
       "      <th>ANNEE</th>\n",
       "      <th></th>\n",
       "    </tr>\n",
       "  </thead>\n",
       "  <tbody>\n",
       "    <tr>\n",
       "      <th>2017-12-31</th>\n",
       "      <td>1927951.60</td>\n",
       "    </tr>\n",
       "    <tr>\n",
       "      <th>2018-12-31</th>\n",
       "      <td>2512974.96</td>\n",
       "    </tr>\n",
       "    <tr>\n",
       "      <th>2019-12-31</th>\n",
       "      <td>3358883.60</td>\n",
       "    </tr>\n",
       "    <tr>\n",
       "      <th>2020-12-31</th>\n",
       "      <td>2468179.00</td>\n",
       "    </tr>\n",
       "    <tr>\n",
       "      <th>2021-12-31</th>\n",
       "      <td>746343.60</td>\n",
       "    </tr>\n",
       "    <tr>\n",
       "      <th>2022-12-31</th>\n",
       "      <td>2913370.00</td>\n",
       "    </tr>\n",
       "  </tbody>\n",
       "</table>\n",
       "</div>"
      ],
      "text/plain": [
       "            INVESTISSEMENT\n",
       "ANNEE                     \n",
       "2017-12-31      1927951.60\n",
       "2018-12-31      2512974.96\n",
       "2019-12-31      3358883.60\n",
       "2020-12-31      2468179.00\n",
       "2021-12-31       746343.60\n",
       "2022-12-31      2913370.00"
      ]
     },
     "execution_count": 25,
     "metadata": {},
     "output_type": "execute_result"
    }
   ],
   "source": [
    "budget_inv"
   ]
  },
  {
   "cell_type": "code",
   "execution_count": 26,
   "metadata": {},
   "outputs": [],
   "source": [
    "budget_inv_exploi = pd.merge(budget_ex,budget_inv,on='ANNEE')"
   ]
  },
  {
   "cell_type": "code",
   "execution_count": 27,
   "metadata": {},
   "outputs": [
    {
     "data": {
      "text/html": [
       "<div>\n",
       "<style scoped>\n",
       "    .dataframe tbody tr th:only-of-type {\n",
       "        vertical-align: middle;\n",
       "    }\n",
       "\n",
       "    .dataframe tbody tr th {\n",
       "        vertical-align: top;\n",
       "    }\n",
       "\n",
       "    .dataframe thead th {\n",
       "        text-align: right;\n",
       "    }\n",
       "</style>\n",
       "<table border=\"1\" class=\"dataframe\">\n",
       "  <thead>\n",
       "    <tr style=\"text-align: right;\">\n",
       "      <th></th>\n",
       "      <th>ANNEE</th>\n",
       "      <th>EXPLOITATION</th>\n",
       "      <th>INVESTISSEMENT</th>\n",
       "    </tr>\n",
       "  </thead>\n",
       "  <tbody>\n",
       "    <tr>\n",
       "      <th>0</th>\n",
       "      <td>2017-12-31</td>\n",
       "      <td>3538705.94</td>\n",
       "      <td>1927951.60</td>\n",
       "    </tr>\n",
       "    <tr>\n",
       "      <th>1</th>\n",
       "      <td>2018-12-31</td>\n",
       "      <td>6045873.74</td>\n",
       "      <td>2512974.96</td>\n",
       "    </tr>\n",
       "    <tr>\n",
       "      <th>2</th>\n",
       "      <td>2019-12-31</td>\n",
       "      <td>13113565.79</td>\n",
       "      <td>3358883.60</td>\n",
       "    </tr>\n",
       "    <tr>\n",
       "      <th>3</th>\n",
       "      <td>2020-12-31</td>\n",
       "      <td>13773629.99</td>\n",
       "      <td>2468179.00</td>\n",
       "    </tr>\n",
       "    <tr>\n",
       "      <th>4</th>\n",
       "      <td>2021-12-31</td>\n",
       "      <td>16452351.65</td>\n",
       "      <td>746343.60</td>\n",
       "    </tr>\n",
       "    <tr>\n",
       "      <th>5</th>\n",
       "      <td>2022-12-31</td>\n",
       "      <td>16559813.04</td>\n",
       "      <td>2913370.00</td>\n",
       "    </tr>\n",
       "  </tbody>\n",
       "</table>\n",
       "</div>"
      ],
      "text/plain": [
       "       ANNEE  EXPLOITATION  INVESTISSEMENT\n",
       "0 2017-12-31    3538705.94      1927951.60\n",
       "1 2018-12-31    6045873.74      2512974.96\n",
       "2 2019-12-31   13113565.79      3358883.60\n",
       "3 2020-12-31   13773629.99      2468179.00\n",
       "4 2021-12-31   16452351.65       746343.60\n",
       "5 2022-12-31   16559813.04      2913370.00"
      ]
     },
     "execution_count": 27,
     "metadata": {},
     "output_type": "execute_result"
    }
   ],
   "source": [
    "budget_inv_exploi"
   ]
  },
  {
   "cell_type": "code",
   "execution_count": 28,
   "metadata": {},
   "outputs": [
    {
     "data": {
      "text/html": [
       "<div>\n",
       "<style scoped>\n",
       "    .dataframe tbody tr th:only-of-type {\n",
       "        vertical-align: middle;\n",
       "    }\n",
       "\n",
       "    .dataframe tbody tr th {\n",
       "        vertical-align: top;\n",
       "    }\n",
       "\n",
       "    .dataframe thead th {\n",
       "        text-align: right;\n",
       "    }\n",
       "</style>\n",
       "<table border=\"1\" class=\"dataframe\">\n",
       "  <thead>\n",
       "    <tr style=\"text-align: right;\">\n",
       "      <th></th>\n",
       "      <th>EXPLOITATION</th>\n",
       "      <th>INVESTISSEMENT</th>\n",
       "    </tr>\n",
       "  </thead>\n",
       "  <tbody>\n",
       "    <tr>\n",
       "      <th>count</th>\n",
       "      <td>6.000000e+00</td>\n",
       "      <td>6.000000e+00</td>\n",
       "    </tr>\n",
       "    <tr>\n",
       "      <th>mean</th>\n",
       "      <td>1.158066e+07</td>\n",
       "      <td>2.321284e+06</td>\n",
       "    </tr>\n",
       "    <tr>\n",
       "      <th>std</th>\n",
       "      <td>5.495292e+06</td>\n",
       "      <td>9.078161e+05</td>\n",
       "    </tr>\n",
       "    <tr>\n",
       "      <th>min</th>\n",
       "      <td>3.538706e+06</td>\n",
       "      <td>7.463436e+05</td>\n",
       "    </tr>\n",
       "    <tr>\n",
       "      <th>25%</th>\n",
       "      <td>7.812797e+06</td>\n",
       "      <td>2.063008e+06</td>\n",
       "    </tr>\n",
       "    <tr>\n",
       "      <th>50%</th>\n",
       "      <td>1.344360e+07</td>\n",
       "      <td>2.490577e+06</td>\n",
       "    </tr>\n",
       "    <tr>\n",
       "      <th>75%</th>\n",
       "      <td>1.578267e+07</td>\n",
       "      <td>2.813271e+06</td>\n",
       "    </tr>\n",
       "    <tr>\n",
       "      <th>max</th>\n",
       "      <td>1.655981e+07</td>\n",
       "      <td>3.358884e+06</td>\n",
       "    </tr>\n",
       "  </tbody>\n",
       "</table>\n",
       "</div>"
      ],
      "text/plain": [
       "       EXPLOITATION  INVESTISSEMENT\n",
       "count  6.000000e+00    6.000000e+00\n",
       "mean   1.158066e+07    2.321284e+06\n",
       "std    5.495292e+06    9.078161e+05\n",
       "min    3.538706e+06    7.463436e+05\n",
       "25%    7.812797e+06    2.063008e+06\n",
       "50%    1.344360e+07    2.490577e+06\n",
       "75%    1.578267e+07    2.813271e+06\n",
       "max    1.655981e+07    3.358884e+06"
      ]
     },
     "execution_count": 28,
     "metadata": {},
     "output_type": "execute_result"
    }
   ],
   "source": [
    "budget_inv_exploi.describe()"
   ]
  },
  {
   "cell_type": "code",
   "execution_count": 29,
   "metadata": {},
   "outputs": [],
   "source": [
    "# Sélectionner les variables d'intérêt pour l'analyse de régression\n",
    "X = budget_inv_exploi['EXPLOITATION']\n",
    "y = budget_inv_exploi['INVESTISSEMENT']"
   ]
  },
  {
   "cell_type": "code",
   "execution_count": 30,
   "metadata": {},
   "outputs": [],
   "source": [
    "# Ajouter une constante à X pour inclure l'ordonnée à l'origine dans le modèle de régression\n",
    "X = sm.add_constant(X)"
   ]
  },
  {
   "cell_type": "code",
   "execution_count": 31,
   "metadata": {},
   "outputs": [],
   "source": [
    "# Ajuster un modèle de régression linéaire aux données\n",
    "model = sm.OLS(y, X).fit()"
   ]
  },
  {
   "cell_type": "code",
   "execution_count": 32,
   "metadata": {},
   "outputs": [
    {
     "name": "stderr",
     "output_type": "stream",
     "text": [
      "C:\\ProgramData\\Anaconda3\\lib\\site-packages\\statsmodels\\stats\\stattools.py:74: ValueWarning: omni_normtest is not valid with less than 8 observations; 6 samples were given.\n",
      "  warn(\"omni_normtest is not valid with less than 8 observations; %i \"\n"
     ]
    },
    {
     "data": {
      "text/html": [
       "<table class=\"simpletable\">\n",
       "<caption>OLS Regression Results</caption>\n",
       "<tr>\n",
       "  <th>Dep. Variable:</th>     <td>INVESTISSEMENT</td>  <th>  R-squared:         </th> <td>   0.001</td>\n",
       "</tr>\n",
       "<tr>\n",
       "  <th>Model:</th>                   <td>OLS</td>       <th>  Adj. R-squared:    </th> <td>  -0.249</td>\n",
       "</tr>\n",
       "<tr>\n",
       "  <th>Method:</th>             <td>Least Squares</td>  <th>  F-statistic:       </th> <td>0.003240</td>\n",
       "</tr>\n",
       "<tr>\n",
       "  <th>Date:</th>             <td>Sat, 27 May 2023</td> <th>  Prob (F-statistic):</th>  <td> 0.957</td> \n",
       "</tr>\n",
       "<tr>\n",
       "  <th>Time:</th>                 <td>15:39:00</td>     <th>  Log-Likelihood:    </th> <td> -90.277</td>\n",
       "</tr>\n",
       "<tr>\n",
       "  <th>No. Observations:</th>      <td>     6</td>      <th>  AIC:               </th> <td>   184.6</td>\n",
       "</tr>\n",
       "<tr>\n",
       "  <th>Df Residuals:</th>          <td>     4</td>      <th>  BIC:               </th> <td>   184.1</td>\n",
       "</tr>\n",
       "<tr>\n",
       "  <th>Df Model:</th>              <td>     1</td>      <th>                     </th>     <td> </td>   \n",
       "</tr>\n",
       "<tr>\n",
       "  <th>Covariance Type:</th>      <td>nonrobust</td>    <th>                     </th>     <td> </td>   \n",
       "</tr>\n",
       "</table>\n",
       "<table class=\"simpletable\">\n",
       "<tr>\n",
       "        <td></td>          <th>coef</th>     <th>std err</th>      <th>t</th>      <th>P>|t|</th>  <th>[0.025</th>    <th>0.975]</th>  \n",
       "</tr>\n",
       "<tr>\n",
       "  <th>const</th>        <td> 2.376e+06</td> <td> 1.04e+06</td> <td>    2.280</td> <td> 0.085</td> <td>-5.17e+05</td> <td> 5.27e+06</td>\n",
       "</tr>\n",
       "<tr>\n",
       "  <th>EXPLOITATION</th> <td>   -0.0047</td> <td>    0.083</td> <td>   -0.057</td> <td> 0.957</td> <td>   -0.234</td> <td>    0.225</td>\n",
       "</tr>\n",
       "</table>\n",
       "<table class=\"simpletable\">\n",
       "<tr>\n",
       "  <th>Omnibus:</th>       <td>   nan</td> <th>  Durbin-Watson:     </th> <td>   2.316</td>\n",
       "</tr>\n",
       "<tr>\n",
       "  <th>Prob(Omnibus):</th> <td>   nan</td> <th>  Jarque-Bera (JB):  </th> <td>   0.564</td>\n",
       "</tr>\n",
       "<tr>\n",
       "  <th>Skew:</th>          <td>-0.714</td> <th>  Prob(JB):          </th> <td>   0.754</td>\n",
       "</tr>\n",
       "<tr>\n",
       "  <th>Kurtosis:</th>      <td> 2.539</td> <th>  Cond. No.          </th> <td>3.18e+07</td>\n",
       "</tr>\n",
       "</table><br/><br/>Notes:<br/>[1] Standard Errors assume that the covariance matrix of the errors is correctly specified.<br/>[2] The condition number is large, 3.18e+07. This might indicate that there are<br/>strong multicollinearity or other numerical problems."
      ],
      "text/plain": [
       "<class 'statsmodels.iolib.summary.Summary'>\n",
       "\"\"\"\n",
       "                            OLS Regression Results                            \n",
       "==============================================================================\n",
       "Dep. Variable:         INVESTISSEMENT   R-squared:                       0.001\n",
       "Model:                            OLS   Adj. R-squared:                 -0.249\n",
       "Method:                 Least Squares   F-statistic:                  0.003240\n",
       "Date:                Sat, 27 May 2023   Prob (F-statistic):              0.957\n",
       "Time:                        15:39:00   Log-Likelihood:                -90.277\n",
       "No. Observations:                   6   AIC:                             184.6\n",
       "Df Residuals:                       4   BIC:                             184.1\n",
       "Df Model:                           1                                         \n",
       "Covariance Type:            nonrobust                                         \n",
       "================================================================================\n",
       "                   coef    std err          t      P>|t|      [0.025      0.975]\n",
       "--------------------------------------------------------------------------------\n",
       "const         2.376e+06   1.04e+06      2.280      0.085   -5.17e+05    5.27e+06\n",
       "EXPLOITATION    -0.0047      0.083     -0.057      0.957      -0.234       0.225\n",
       "==============================================================================\n",
       "Omnibus:                          nan   Durbin-Watson:                   2.316\n",
       "Prob(Omnibus):                    nan   Jarque-Bera (JB):                0.564\n",
       "Skew:                          -0.714   Prob(JB):                        0.754\n",
       "Kurtosis:                       2.539   Cond. No.                     3.18e+07\n",
       "==============================================================================\n",
       "\n",
       "Notes:\n",
       "[1] Standard Errors assume that the covariance matrix of the errors is correctly specified.\n",
       "[2] The condition number is large, 3.18e+07. This might indicate that there are\n",
       "strong multicollinearity or other numerical problems.\n",
       "\"\"\""
      ]
     },
     "execution_count": 32,
     "metadata": {},
     "output_type": "execute_result"
    }
   ],
   "source": [
    "model.summary()"
   ]
  },
  {
   "cell_type": "code",
   "execution_count": 33,
   "metadata": {},
   "outputs": [],
   "source": [
    "#EQUATION : \n",
    "INVES = 2.376e+06-0.0047*budget_inv_exploi['EXPLOITATION']"
   ]
  },
  {
   "cell_type": "code",
   "execution_count": 34,
   "metadata": {},
   "outputs": [
    {
     "data": {
      "image/png": "[encoded data removed]",
      "text/plain": [
       "<Figure size 1500x500 with 1 Axes>"
      ]
     },
     "metadata": {},
     "output_type": "display_data"
    }
   ],
   "source": [
    "labels = ['2017','2018','2019','2020','2021','2022']\n",
    "plt.figure(figsize=(15,5))\n",
    "plt.scatter(budget_inv_exploi['EXPLOITATION'],budget_inv_exploi['INVESTISSEMENT'])\n",
    "for i, label in enumerate(labels):\n",
    "    plt.annotate(label, (budget_inv_exploi.iloc[i]['EXPLOITATION'], budget_inv_exploi.iloc[i]['INVESTISSEMENT']),fontsize=10)\n",
    "\n",
    "fig = plt.plot(budget_inv_exploi['EXPLOITATION'],INVES,lw=3,c='orange',label='Line De Regression')\n",
    "plt.legend()\n",
    "plt.xlabel('EXPLOITATION',fontsize=20)\n",
    "plt.ylabel('INVESTISSEMENT',fontsize=20)\n",
    "plt.show()"
   ]
  },
  {
   "cell_type": "code",
   "execution_count": 35,
   "metadata": {},
   "outputs": [
    {
     "data": {
      "text/plain": [
       "' \\nResumer : \\n    - On remarque que la line de la regression est constant c\\'est a dire tout ce qui a changé au niveau de budget d\\'exploitation, l\\'investissement sera etre constant\\n    - Et puis que (P>|t|)=0.957 >>> 0.05 donc la variable \"EXPLOITATION\" n\\'a pas un effet significatif sur la variable INVESTISSEMENT.\\n    X - Donc Nous excluons cette hypothèse\\n'"
      ]
     },
     "execution_count": 35,
     "metadata": {},
     "output_type": "execute_result"
    }
   ],
   "source": [
    "''' \n",
    "Resumer : \n",
    "    - On remarque que la line de la regression est constant c'est a dire tout ce qui a changé au niveau de budget d'exploitation, l'investissement sera etre constant\n",
    "    - Et puis que (P>|t|)=0.957 >>> 0.05 donc la variable \"EXPLOITATION\" n'a pas un effet significatif sur la variable INVESTISSEMENT.\n",
    "    X - Donc Nous excluons cette hypothèse\n",
    "'''"
   ]
  },
  {
   "cell_type": "markdown",
   "metadata": {},
   "source": [
    "Hypothese 2 : \"COVID-19 impact sur l'investissement\""
   ]
  },
  {
   "cell_type": "code",
   "execution_count": 36,
   "metadata": {},
   "outputs": [],
   "source": [
    "inv_et_covid_19 = pd.read_excel('BUDGET_INVESTISSEMENT.xlsx')"
   ]
  },
  {
   "cell_type": "code",
   "execution_count": 37,
   "metadata": {
    "collapsed": true
   },
   "outputs": [
    {
     "data": {
      "text/html": [
       "<div>\n",
       "<style scoped>\n",
       "    .dataframe tbody tr th:only-of-type {\n",
       "        vertical-align: middle;\n",
       "    }\n",
       "\n",
       "    .dataframe tbody tr th {\n",
       "        vertical-align: top;\n",
       "    }\n",
       "\n",
       "    .dataframe thead th {\n",
       "        text-align: right;\n",
       "    }\n",
       "</style>\n",
       "<table border=\"1\" class=\"dataframe\">\n",
       "  <thead>\n",
       "    <tr style=\"text-align: right;\">\n",
       "      <th></th>\n",
       "      <th>ANNEE</th>\n",
       "      <th>INVESTISSEMENT</th>\n",
       "    </tr>\n",
       "  </thead>\n",
       "  <tbody>\n",
       "    <tr>\n",
       "      <th>0</th>\n",
       "      <td>2012-12-31</td>\n",
       "      <td>6018915.20</td>\n",
       "    </tr>\n",
       "    <tr>\n",
       "      <th>1</th>\n",
       "      <td>2014-12-31</td>\n",
       "      <td>3028316.26</td>\n",
       "    </tr>\n",
       "    <tr>\n",
       "      <th>2</th>\n",
       "      <td>2016-12-31</td>\n",
       "      <td>2990576.00</td>\n",
       "    </tr>\n",
       "    <tr>\n",
       "      <th>3</th>\n",
       "      <td>2017-12-31</td>\n",
       "      <td>1927951.60</td>\n",
       "    </tr>\n",
       "    <tr>\n",
       "      <th>4</th>\n",
       "      <td>2018-12-31</td>\n",
       "      <td>2512974.96</td>\n",
       "    </tr>\n",
       "    <tr>\n",
       "      <th>5</th>\n",
       "      <td>2019-12-31</td>\n",
       "      <td>3358883.60</td>\n",
       "    </tr>\n",
       "    <tr>\n",
       "      <th>6</th>\n",
       "      <td>2020-12-31</td>\n",
       "      <td>2468179.00</td>\n",
       "    </tr>\n",
       "    <tr>\n",
       "      <th>7</th>\n",
       "      <td>2021-12-31</td>\n",
       "      <td>746343.60</td>\n",
       "    </tr>\n",
       "    <tr>\n",
       "      <th>8</th>\n",
       "      <td>2022-12-31</td>\n",
       "      <td>2913370.00</td>\n",
       "    </tr>\n",
       "  </tbody>\n",
       "</table>\n",
       "</div>"
      ],
      "text/plain": [
       "       ANNEE  INVESTISSEMENT\n",
       "0 2012-12-31      6018915.20\n",
       "1 2014-12-31      3028316.26\n",
       "2 2016-12-31      2990576.00\n",
       "3 2017-12-31      1927951.60\n",
       "4 2018-12-31      2512974.96\n",
       "5 2019-12-31      3358883.60\n",
       "6 2020-12-31      2468179.00\n",
       "7 2021-12-31       746343.60\n",
       "8 2022-12-31      2913370.00"
      ]
     },
     "execution_count": 37,
     "metadata": {},
     "output_type": "execute_result"
    }
   ],
   "source": [
    "inv_et_covid_19"
   ]
  },
  {
   "cell_type": "code",
   "execution_count": 38,
   "metadata": {},
   "outputs": [],
   "source": [
    "# Ajouter une variable binaire pour COVID-19 (1 pour les années après 2019, 0 pour les années avant)\n",
    "inv_et_covid_19['COVID-19'] = ((inv_et_covid_19['ANNEE'] >= '2020-01-01') & (inv_et_covid_19['ANNEE'] < '2022-01-01')).astype(int)"
   ]
  },
  {
   "cell_type": "code",
   "execution_count": 39,
   "metadata": {},
   "outputs": [
    {
     "data": {
      "text/html": [
       "<div>\n",
       "<style scoped>\n",
       "    .dataframe tbody tr th:only-of-type {\n",
       "        vertical-align: middle;\n",
       "    }\n",
       "\n",
       "    .dataframe tbody tr th {\n",
       "        vertical-align: top;\n",
       "    }\n",
       "\n",
       "    .dataframe thead th {\n",
       "        text-align: right;\n",
       "    }\n",
       "</style>\n",
       "<table border=\"1\" class=\"dataframe\">\n",
       "  <thead>\n",
       "    <tr style=\"text-align: right;\">\n",
       "      <th></th>\n",
       "      <th>ANNEE</th>\n",
       "      <th>INVESTISSEMENT</th>\n",
       "      <th>COVID-19</th>\n",
       "    </tr>\n",
       "  </thead>\n",
       "  <tbody>\n",
       "    <tr>\n",
       "      <th>0</th>\n",
       "      <td>2012-12-31</td>\n",
       "      <td>6018915.20</td>\n",
       "      <td>0</td>\n",
       "    </tr>\n",
       "    <tr>\n",
       "      <th>1</th>\n",
       "      <td>2014-12-31</td>\n",
       "      <td>3028316.26</td>\n",
       "      <td>0</td>\n",
       "    </tr>\n",
       "    <tr>\n",
       "      <th>2</th>\n",
       "      <td>2016-12-31</td>\n",
       "      <td>2990576.00</td>\n",
       "      <td>0</td>\n",
       "    </tr>\n",
       "    <tr>\n",
       "      <th>3</th>\n",
       "      <td>2017-12-31</td>\n",
       "      <td>1927951.60</td>\n",
       "      <td>0</td>\n",
       "    </tr>\n",
       "    <tr>\n",
       "      <th>4</th>\n",
       "      <td>2018-12-31</td>\n",
       "      <td>2512974.96</td>\n",
       "      <td>0</td>\n",
       "    </tr>\n",
       "    <tr>\n",
       "      <th>5</th>\n",
       "      <td>2019-12-31</td>\n",
       "      <td>3358883.60</td>\n",
       "      <td>0</td>\n",
       "    </tr>\n",
       "    <tr>\n",
       "      <th>6</th>\n",
       "      <td>2020-12-31</td>\n",
       "      <td>2468179.00</td>\n",
       "      <td>1</td>\n",
       "    </tr>\n",
       "    <tr>\n",
       "      <th>7</th>\n",
       "      <td>2021-12-31</td>\n",
       "      <td>746343.60</td>\n",
       "      <td>1</td>\n",
       "    </tr>\n",
       "    <tr>\n",
       "      <th>8</th>\n",
       "      <td>2022-12-31</td>\n",
       "      <td>2913370.00</td>\n",
       "      <td>0</td>\n",
       "    </tr>\n",
       "  </tbody>\n",
       "</table>\n",
       "</div>"
      ],
      "text/plain": [
       "       ANNEE  INVESTISSEMENT  COVID-19\n",
       "0 2012-12-31      6018915.20         0\n",
       "1 2014-12-31      3028316.26         0\n",
       "2 2016-12-31      2990576.00         0\n",
       "3 2017-12-31      1927951.60         0\n",
       "4 2018-12-31      2512974.96         0\n",
       "5 2019-12-31      3358883.60         0\n",
       "6 2020-12-31      2468179.00         1\n",
       "7 2021-12-31       746343.60         1\n",
       "8 2022-12-31      2913370.00         0"
      ]
     },
     "execution_count": 39,
     "metadata": {},
     "output_type": "execute_result"
    }
   ],
   "source": [
    "inv_et_covid_19"
   ]
  },
  {
   "cell_type": "code",
   "execution_count": 40,
   "metadata": {},
   "outputs": [
    {
     "data": {
      "text/html": [
       "<div>\n",
       "<style scoped>\n",
       "    .dataframe tbody tr th:only-of-type {\n",
       "        vertical-align: middle;\n",
       "    }\n",
       "\n",
       "    .dataframe tbody tr th {\n",
       "        vertical-align: top;\n",
       "    }\n",
       "\n",
       "    .dataframe thead th {\n",
       "        text-align: right;\n",
       "    }\n",
       "</style>\n",
       "<table border=\"1\" class=\"dataframe\">\n",
       "  <thead>\n",
       "    <tr style=\"text-align: right;\">\n",
       "      <th></th>\n",
       "      <th>INVESTISSEMENT</th>\n",
       "      <th>COVID-19</th>\n",
       "    </tr>\n",
       "  </thead>\n",
       "  <tbody>\n",
       "    <tr>\n",
       "      <th>count</th>\n",
       "      <td>9.000000e+00</td>\n",
       "      <td>9.000000</td>\n",
       "    </tr>\n",
       "    <tr>\n",
       "      <th>mean</th>\n",
       "      <td>2.885057e+06</td>\n",
       "      <td>0.222222</td>\n",
       "    </tr>\n",
       "    <tr>\n",
       "      <th>std</th>\n",
       "      <td>1.408919e+06</td>\n",
       "      <td>0.440959</td>\n",
       "    </tr>\n",
       "    <tr>\n",
       "      <th>min</th>\n",
       "      <td>7.463436e+05</td>\n",
       "      <td>0.000000</td>\n",
       "    </tr>\n",
       "    <tr>\n",
       "      <th>25%</th>\n",
       "      <td>2.468179e+06</td>\n",
       "      <td>0.000000</td>\n",
       "    </tr>\n",
       "    <tr>\n",
       "      <th>50%</th>\n",
       "      <td>2.913370e+06</td>\n",
       "      <td>0.000000</td>\n",
       "    </tr>\n",
       "    <tr>\n",
       "      <th>75%</th>\n",
       "      <td>3.028316e+06</td>\n",
       "      <td>0.000000</td>\n",
       "    </tr>\n",
       "    <tr>\n",
       "      <th>max</th>\n",
       "      <td>6.018915e+06</td>\n",
       "      <td>1.000000</td>\n",
       "    </tr>\n",
       "  </tbody>\n",
       "</table>\n",
       "</div>"
      ],
      "text/plain": [
       "       INVESTISSEMENT  COVID-19\n",
       "count    9.000000e+00  9.000000\n",
       "mean     2.885057e+06  0.222222\n",
       "std      1.408919e+06  0.440959\n",
       "min      7.463436e+05  0.000000\n",
       "25%      2.468179e+06  0.000000\n",
       "50%      2.913370e+06  0.000000\n",
       "75%      3.028316e+06  0.000000\n",
       "max      6.018915e+06  1.000000"
      ]
     },
     "execution_count": 40,
     "metadata": {},
     "output_type": "execute_result"
    }
   ],
   "source": [
    "inv_et_covid_19.describe()"
   ]
  },
  {
   "cell_type": "code",
   "execution_count": 41,
   "metadata": {},
   "outputs": [
    {
     "data": {
      "image/png": "[encoded data removed]",
      "text/plain": [
       "<Figure size 1500x500 with 2 Axes>"
      ]
     },
     "metadata": {},
     "output_type": "display_data"
    }
   ],
   "source": [
    "# Créer un graphique linéaire des investissements et du nombre l'état de COVID-19 au fil du temps\n",
    "\n",
    "fig, ax1 = plt.subplots(figsize=(15,5))\n",
    "\n",
    "color = 'tab:blue'\n",
    "ax1.set_xlabel('Année')\n",
    "ax1.set_ylabel('Investissement', color=color)\n",
    "ax1.plot(inv_et_covid_19['ANNEE'].astype(str), inv_et_covid_19['INVESTISSEMENT'], color=color)\n",
    "ax1.tick_params(axis='y', labelcolor=color)\n",
    "\n",
    "ax2 = ax1.twinx()\n",
    "\n",
    "color = 'tab:red'\n",
    "ax2.set_ylabel('COVID-19', color=color)\n",
    "ax2.plot(inv_et_covid_19['ANNEE'].astype(str), inv_et_covid_19['COVID-19'], color=color)\n",
    "ax2.tick_params(axis='y', labelcolor=color)\n",
    "\n",
    "fig.tight_layout()\n",
    "plt.show()"
   ]
  },
  {
   "cell_type": "code",
   "execution_count": 136,
   "metadata": {},
   "outputs": [],
   "source": [
    "# Sélectionner les variables d'intérêt pour l'analyse de régression\n",
    "X = inv_et_covid_19['COVID-19']\n",
    "y = inv_et_covid_19['INVESTISSEMENT']"
   ]
  },
  {
   "cell_type": "code",
   "execution_count": 137,
   "metadata": {},
   "outputs": [],
   "source": [
    "# Ajouter une constante à X pour inclure l'ordonnée à l'origine dans le modèle de régression\n",
    "X = sm.add_constant(X)"
   ]
  },
  {
   "cell_type": "code",
   "execution_count": 138,
   "metadata": {},
   "outputs": [],
   "source": [
    "# Ajuster un modèle de régression linéaire aux données\n",
    "model = sm.OLS(y, X).fit()"
   ]
  },
  {
   "cell_type": "code",
   "execution_count": 139,
   "metadata": {},
   "outputs": [
    {
     "name": "stderr",
     "output_type": "stream",
     "text": [
      "C:\\ProgramData\\Anaconda3\\lib\\site-packages\\scipy\\stats\\_stats_py.py:1769: UserWarning: kurtosistest only valid for n>=20 ... continuing anyway, n=9\n",
      "  warnings.warn(\"kurtosistest only valid for n>=20 ... continuing \"\n"
     ]
    },
    {
     "data": {
      "text/html": [
       "<table class=\"simpletable\">\n",
       "<caption>OLS Regression Results</caption>\n",
       "<tr>\n",
       "  <th>Dep. Variable:</th>     <td>INVESTISSEMENT</td>  <th>  R-squared:         </th> <td>   0.264</td>\n",
       "</tr>\n",
       "<tr>\n",
       "  <th>Model:</th>                   <td>OLS</td>       <th>  Adj. R-squared:    </th> <td>   0.159</td>\n",
       "</tr>\n",
       "<tr>\n",
       "  <th>Method:</th>             <td>Least Squares</td>  <th>  F-statistic:       </th> <td>   2.516</td>\n",
       "</tr>\n",
       "<tr>\n",
       "  <th>Date:</th>             <td>Sat, 27 May 2023</td> <th>  Prob (F-statistic):</th>  <td> 0.157</td> \n",
       "</tr>\n",
       "<tr>\n",
       "  <th>Time:</th>                 <td>15:48:26</td>     <th>  Log-Likelihood:    </th> <td> -138.28</td>\n",
       "</tr>\n",
       "<tr>\n",
       "  <th>No. Observations:</th>      <td>     9</td>      <th>  AIC:               </th> <td>   280.6</td>\n",
       "</tr>\n",
       "<tr>\n",
       "  <th>Df Residuals:</th>          <td>     7</td>      <th>  BIC:               </th> <td>   281.0</td>\n",
       "</tr>\n",
       "<tr>\n",
       "  <th>Df Model:</th>              <td>     1</td>      <th>                     </th>     <td> </td>   \n",
       "</tr>\n",
       "<tr>\n",
       "  <th>Covariance Type:</th>      <td>nonrobust</td>    <th>                     </th>     <td> </td>   \n",
       "</tr>\n",
       "</table>\n",
       "<table class=\"simpletable\">\n",
       "<tr>\n",
       "      <td></td>        <th>coef</th>     <th>std err</th>      <th>t</th>      <th>P>|t|</th>  <th>[0.025</th>    <th>0.975]</th>  \n",
       "</tr>\n",
       "<tr>\n",
       "  <th>const</th>    <td>  3.25e+06</td> <td> 4.88e+05</td> <td>    6.656</td> <td> 0.000</td> <td>  2.1e+06</td> <td>  4.4e+06</td>\n",
       "</tr>\n",
       "<tr>\n",
       "  <th>COVID-19</th> <td>-1.643e+06</td> <td> 1.04e+06</td> <td>   -1.586</td> <td> 0.157</td> <td>-4.09e+06</td> <td> 8.06e+05</td>\n",
       "</tr>\n",
       "</table>\n",
       "<table class=\"simpletable\">\n",
       "<tr>\n",
       "  <th>Omnibus:</th>       <td> 9.070</td> <th>  Durbin-Watson:     </th> <td>   1.279</td>\n",
       "</tr>\n",
       "<tr>\n",
       "  <th>Prob(Omnibus):</th> <td> 0.011</td> <th>  Jarque-Bera (JB):  </th> <td>   3.396</td>\n",
       "</tr>\n",
       "<tr>\n",
       "  <th>Skew:</th>          <td> 1.386</td> <th>  Prob(JB):          </th> <td>   0.183</td>\n",
       "</tr>\n",
       "<tr>\n",
       "  <th>Kurtosis:</th>      <td> 4.171</td> <th>  Cond. No.          </th> <td>    2.55</td>\n",
       "</tr>\n",
       "</table><br/><br/>Notes:<br/>[1] Standard Errors assume that the covariance matrix of the errors is correctly specified."
      ],
      "text/plain": [
       "<class 'statsmodels.iolib.summary.Summary'>\n",
       "\"\"\"\n",
       "                            OLS Regression Results                            \n",
       "==============================================================================\n",
       "Dep. Variable:         INVESTISSEMENT   R-squared:                       0.264\n",
       "Model:                            OLS   Adj. R-squared:                  0.159\n",
       "Method:                 Least Squares   F-statistic:                     2.516\n",
       "Date:                Sat, 27 May 2023   Prob (F-statistic):              0.157\n",
       "Time:                        15:48:26   Log-Likelihood:                -138.28\n",
       "No. Observations:                   9   AIC:                             280.6\n",
       "Df Residuals:                       7   BIC:                             281.0\n",
       "Df Model:                           1                                         \n",
       "Covariance Type:            nonrobust                                         \n",
       "==============================================================================\n",
       "                 coef    std err          t      P>|t|      [0.025      0.975]\n",
       "------------------------------------------------------------------------------\n",
       "const        3.25e+06   4.88e+05      6.656      0.000     2.1e+06     4.4e+06\n",
       "COVID-19   -1.643e+06   1.04e+06     -1.586      0.157   -4.09e+06    8.06e+05\n",
       "==============================================================================\n",
       "Omnibus:                        9.070   Durbin-Watson:                   1.279\n",
       "Prob(Omnibus):                  0.011   Jarque-Bera (JB):                3.396\n",
       "Skew:                           1.386   Prob(JB):                        0.183\n",
       "Kurtosis:                       4.171   Cond. No.                         2.55\n",
       "==============================================================================\n",
       "\n",
       "Notes:\n",
       "[1] Standard Errors assume that the covariance matrix of the errors is correctly specified.\n",
       "\"\"\""
      ]
     },
     "execution_count": 139,
     "metadata": {},
     "output_type": "execute_result"
    }
   ],
   "source": [
    "# Afficher les résultats de la régression\n",
    "model.summary()"
   ]
  },
  {
   "cell_type": "code",
   "execution_count": 46,
   "metadata": {},
   "outputs": [],
   "source": [
    "INVESTISSEMENT = 3.25e+06-1.64e+06*inv_et_covid_19['COVID-19']"
   ]
  },
  {
   "cell_type": "code",
   "execution_count": 47,
   "metadata": {},
   "outputs": [
    {
     "data": {
      "image/png": "[encoded data removed]",
      "text/plain": [
       "<Figure size 1500x500 with 1 Axes>"
      ]
     },
     "metadata": {},
     "output_type": "display_data"
    }
   ],
   "source": [
    "labels = ['2012','2014','2016','2017','2018','2019','2020','2021','2022']\n",
    "plt.figure(figsize=(15,5))\n",
    "plt.scatter(inv_et_covid_19['COVID-19'],inv_et_covid_19['INVESTISSEMENT'])\n",
    "for i, label in enumerate(labels):\n",
    "    plt.annotate(label, (inv_et_covid_19.iloc[i]['COVID-19'], inv_et_covid_19.iloc[i]['INVESTISSEMENT']),fontsize=7)\n",
    "\n",
    "fig = plt.plot(inv_et_covid_19['COVID-19'],INVESTISSEMENT,lw=3,c='orange',label='Line De Regression')\n",
    "\n",
    "plt.legend()\n",
    "plt.xlabel('COVID-2019',fontsize=20)\n",
    "plt.ylabel('INVESTISSEMENT',fontsize=20)\n",
    "plt.show()"
   ]
  },
  {
   "cell_type": "code",
   "execution_count": 48,
   "metadata": {},
   "outputs": [
    {
     "data": {
      "text/plain": [
       "\"  \\n    Puis que la probabilité associée à la valeur absolue de la statistique de test t (P > |t|) est superieur au seuil 0,05 \\n    Donc COVID-19 est pas significatif ,c'est a dire que COVID-19 a un impact significatif sur l'investissement dans ce modèle,\\n\""
      ]
     },
     "execution_count": 48,
     "metadata": {},
     "output_type": "execute_result"
    }
   ],
   "source": [
    "#Resulta : \n",
    "'''  \n",
    "    Puis que la probabilité associée à la valeur absolue de la statistique de test t (P > |t|) est superieur au seuil 0,05 \n",
    "    Donc COVID-19 est pas significatif ,c'est a dire que COVID-19 a un impact significatif sur l'investissement dans ce modèle,\n",
    "'''"
   ]
  },
  {
   "cell_type": "markdown",
   "metadata": {},
   "source": [
    "Hypothese 3 : \"L'inflation impact sur l'investissement\""
   ]
  },
  {
   "cell_type": "code",
   "execution_count": 140,
   "metadata": {},
   "outputs": [],
   "source": [
    "infltation = pd.read_excel(\"Données_Supp/l'inflation_au_maroc.xlsx\")"
   ]
  },
  {
   "cell_type": "code",
   "execution_count": 142,
   "metadata": {},
   "outputs": [
    {
     "data": {
      "text/html": [
       "<div>\n",
       "<style scoped>\n",
       "    .dataframe tbody tr th:only-of-type {\n",
       "        vertical-align: middle;\n",
       "    }\n",
       "\n",
       "    .dataframe tbody tr th {\n",
       "        vertical-align: top;\n",
       "    }\n",
       "\n",
       "    .dataframe thead th {\n",
       "        text-align: right;\n",
       "    }\n",
       "</style>\n",
       "<table border=\"1\" class=\"dataframe\">\n",
       "  <thead>\n",
       "    <tr style=\"text-align: right;\">\n",
       "      <th></th>\n",
       "      <th>ANNEE</th>\n",
       "      <th>le taux d'inflation</th>\n",
       "    </tr>\n",
       "  </thead>\n",
       "  <tbody>\n",
       "    <tr>\n",
       "      <th>0</th>\n",
       "      <td>2012-12-31\\t</td>\n",
       "      <td>1,29 %</td>\n",
       "    </tr>\n",
       "    <tr>\n",
       "      <th>1</th>\n",
       "      <td>2014-12-31\\t</td>\n",
       "      <td>0,44 %</td>\n",
       "    </tr>\n",
       "    <tr>\n",
       "      <th>2</th>\n",
       "      <td>2016-12-31\\t</td>\n",
       "      <td>1,64 %</td>\n",
       "    </tr>\n",
       "    <tr>\n",
       "      <th>3</th>\n",
       "      <td>2017-12-31\\t</td>\n",
       "      <td>0,75 %</td>\n",
       "    </tr>\n",
       "    <tr>\n",
       "      <th>4</th>\n",
       "      <td>2018-12-31\\t</td>\n",
       "      <td>1,80 %</td>\n",
       "    </tr>\n",
       "    <tr>\n",
       "      <th>5</th>\n",
       "      <td>2019-12-31\\t</td>\n",
       "      <td>0,30 %</td>\n",
       "    </tr>\n",
       "    <tr>\n",
       "      <th>6</th>\n",
       "      <td>2020-12-31\\t</td>\n",
       "      <td>0,71 %</td>\n",
       "    </tr>\n",
       "    <tr>\n",
       "      <th>7</th>\n",
       "      <td>2021-12-31\\t</td>\n",
       "      <td>1,40 %</td>\n",
       "    </tr>\n",
       "    <tr>\n",
       "      <th>8</th>\n",
       "      <td>2022-12-31\\t</td>\n",
       "      <td>8,3 %</td>\n",
       "    </tr>\n",
       "  </tbody>\n",
       "</table>\n",
       "</div>"
      ],
      "text/plain": [
       "          ANNEE le taux d'inflation\n",
       "0  2012-12-31\\t              1,29 %\n",
       "1  2014-12-31\\t              0,44 %\n",
       "2  2016-12-31\\t              1,64 %\n",
       "3  2017-12-31\\t              0,75 %\n",
       "4  2018-12-31\\t              1,80 %\n",
       "5  2019-12-31\\t              0,30 %\n",
       "6  2020-12-31\\t              0,71 %\n",
       "7  2021-12-31\\t              1,40 %\n",
       "8  2022-12-31\\t               8,3 %"
      ]
     },
     "execution_count": 142,
     "metadata": {},
     "output_type": "execute_result"
    }
   ],
   "source": [
    "infltation"
   ]
  },
  {
   "cell_type": "code",
   "execution_count": 143,
   "metadata": {},
   "outputs": [],
   "source": [
    "infltation.columns  = ['ANNEE','INFLTATION']"
   ]
  },
  {
   "cell_type": "code",
   "execution_count": 144,
   "metadata": {},
   "outputs": [],
   "source": [
    "infltation['ANNEE'] = infltation['ANNEE'].str.replace('\\t','')"
   ]
  },
  {
   "cell_type": "code",
   "execution_count": 145,
   "metadata": {},
   "outputs": [],
   "source": [
    "infltation['ANNEE'] = pd.to_datetime(infltation['ANNEE'])\n"
   ]
  },
  {
   "cell_type": "code",
   "execution_count": 146,
   "metadata": {},
   "outputs": [],
   "source": [
    "infltation['INFLTATION'] = infltation['INFLTATION'].str.replace(' ','')\n"
   ]
  },
  {
   "cell_type": "code",
   "execution_count": 147,
   "metadata": {},
   "outputs": [],
   "source": [
    "infltation['INFLTATION'] = infltation['INFLTATION'].str.replace('%','')"
   ]
  },
  {
   "cell_type": "code",
   "execution_count": 148,
   "metadata": {},
   "outputs": [],
   "source": [
    "infltation['INFLTATION'] = infltation['INFLTATION'].str.replace(',','.')"
   ]
  },
  {
   "cell_type": "code",
   "execution_count": 149,
   "metadata": {},
   "outputs": [],
   "source": [
    "infltation['INFLTATION'] = infltation['INFLTATION'].astype(float)"
   ]
  },
  {
   "cell_type": "code",
   "execution_count": 150,
   "metadata": {},
   "outputs": [],
   "source": [
    "inv_infltation = pd.merge(budget_inv,infltation,on=\"ANNEE\")"
   ]
  },
  {
   "cell_type": "code",
   "execution_count": 151,
   "metadata": {},
   "outputs": [
    {
     "data": {
      "text/html": [
       "<div>\n",
       "<style scoped>\n",
       "    .dataframe tbody tr th:only-of-type {\n",
       "        vertical-align: middle;\n",
       "    }\n",
       "\n",
       "    .dataframe tbody tr th {\n",
       "        vertical-align: top;\n",
       "    }\n",
       "\n",
       "    .dataframe thead th {\n",
       "        text-align: right;\n",
       "    }\n",
       "</style>\n",
       "<table border=\"1\" class=\"dataframe\">\n",
       "  <thead>\n",
       "    <tr style=\"text-align: right;\">\n",
       "      <th></th>\n",
       "      <th>ANNEE</th>\n",
       "      <th>INVESTISSEMENT</th>\n",
       "      <th>INFLTATION</th>\n",
       "    </tr>\n",
       "  </thead>\n",
       "  <tbody>\n",
       "    <tr>\n",
       "      <th>0</th>\n",
       "      <td>2017-12-31</td>\n",
       "      <td>1927951.60</td>\n",
       "      <td>0.75</td>\n",
       "    </tr>\n",
       "    <tr>\n",
       "      <th>1</th>\n",
       "      <td>2018-12-31</td>\n",
       "      <td>2512974.96</td>\n",
       "      <td>1.80</td>\n",
       "    </tr>\n",
       "    <tr>\n",
       "      <th>2</th>\n",
       "      <td>2019-12-31</td>\n",
       "      <td>3358883.60</td>\n",
       "      <td>0.30</td>\n",
       "    </tr>\n",
       "    <tr>\n",
       "      <th>3</th>\n",
       "      <td>2020-12-31</td>\n",
       "      <td>2468179.00</td>\n",
       "      <td>0.71</td>\n",
       "    </tr>\n",
       "    <tr>\n",
       "      <th>4</th>\n",
       "      <td>2021-12-31</td>\n",
       "      <td>746343.60</td>\n",
       "      <td>1.40</td>\n",
       "    </tr>\n",
       "    <tr>\n",
       "      <th>5</th>\n",
       "      <td>2022-12-31</td>\n",
       "      <td>2913370.00</td>\n",
       "      <td>8.30</td>\n",
       "    </tr>\n",
       "  </tbody>\n",
       "</table>\n",
       "</div>"
      ],
      "text/plain": [
       "       ANNEE  INVESTISSEMENT  INFLTATION\n",
       "0 2017-12-31      1927951.60        0.75\n",
       "1 2018-12-31      2512974.96        1.80\n",
       "2 2019-12-31      3358883.60        0.30\n",
       "3 2020-12-31      2468179.00        0.71\n",
       "4 2021-12-31       746343.60        1.40\n",
       "5 2022-12-31      2913370.00        8.30"
      ]
     },
     "execution_count": 151,
     "metadata": {},
     "output_type": "execute_result"
    }
   ],
   "source": [
    "inv_infltation"
   ]
  },
  {
   "cell_type": "code",
   "execution_count": 152,
   "metadata": {},
   "outputs": [
    {
     "data": {
      "text/html": [
       "<div>\n",
       "<style scoped>\n",
       "    .dataframe tbody tr th:only-of-type {\n",
       "        vertical-align: middle;\n",
       "    }\n",
       "\n",
       "    .dataframe tbody tr th {\n",
       "        vertical-align: top;\n",
       "    }\n",
       "\n",
       "    .dataframe thead th {\n",
       "        text-align: right;\n",
       "    }\n",
       "</style>\n",
       "<table border=\"1\" class=\"dataframe\">\n",
       "  <thead>\n",
       "    <tr style=\"text-align: right;\">\n",
       "      <th></th>\n",
       "      <th>INVESTISSEMENT</th>\n",
       "      <th>INFLTATION</th>\n",
       "    </tr>\n",
       "  </thead>\n",
       "  <tbody>\n",
       "    <tr>\n",
       "      <th>count</th>\n",
       "      <td>6.000000e+00</td>\n",
       "      <td>6.000000</td>\n",
       "    </tr>\n",
       "    <tr>\n",
       "      <th>mean</th>\n",
       "      <td>2.321284e+06</td>\n",
       "      <td>2.210000</td>\n",
       "    </tr>\n",
       "    <tr>\n",
       "      <th>std</th>\n",
       "      <td>9.078161e+05</td>\n",
       "      <td>3.031237</td>\n",
       "    </tr>\n",
       "    <tr>\n",
       "      <th>min</th>\n",
       "      <td>7.463436e+05</td>\n",
       "      <td>0.300000</td>\n",
       "    </tr>\n",
       "    <tr>\n",
       "      <th>25%</th>\n",
       "      <td>2.063008e+06</td>\n",
       "      <td>0.720000</td>\n",
       "    </tr>\n",
       "    <tr>\n",
       "      <th>50%</th>\n",
       "      <td>2.490577e+06</td>\n",
       "      <td>1.075000</td>\n",
       "    </tr>\n",
       "    <tr>\n",
       "      <th>75%</th>\n",
       "      <td>2.813271e+06</td>\n",
       "      <td>1.700000</td>\n",
       "    </tr>\n",
       "    <tr>\n",
       "      <th>max</th>\n",
       "      <td>3.358884e+06</td>\n",
       "      <td>8.300000</td>\n",
       "    </tr>\n",
       "  </tbody>\n",
       "</table>\n",
       "</div>"
      ],
      "text/plain": [
       "       INVESTISSEMENT  INFLTATION\n",
       "count    6.000000e+00    6.000000\n",
       "mean     2.321284e+06    2.210000\n",
       "std      9.078161e+05    3.031237\n",
       "min      7.463436e+05    0.300000\n",
       "25%      2.063008e+06    0.720000\n",
       "50%      2.490577e+06    1.075000\n",
       "75%      2.813271e+06    1.700000\n",
       "max      3.358884e+06    8.300000"
      ]
     },
     "execution_count": 152,
     "metadata": {},
     "output_type": "execute_result"
    }
   ],
   "source": [
    "inv_infltation.describe()"
   ]
  },
  {
   "cell_type": "code",
   "execution_count": 153,
   "metadata": {},
   "outputs": [
    {
     "data": {
      "image/png": "[encoded data removed]",
      "text/plain": [
       "<Figure size 1500x500 with 2 Axes>"
      ]
     },
     "metadata": {},
     "output_type": "display_data"
    }
   ],
   "source": [
    "# Créer un graphique linéaire des investissements et le taux d'infltation : \n",
    "\n",
    "fig, ax1 = plt.subplots(figsize=(15,5))\n",
    "\n",
    "color = 'tab:blue'\n",
    "ax1.set_xlabel('Année')\n",
    "ax1.set_ylabel('Investissement', color=color)\n",
    "ax1.plot(inv_infltation['ANNEE'].astype(str), inv_infltation['INVESTISSEMENT'], color=color)\n",
    "ax1.tick_params(axis='y', labelcolor=color)\n",
    "\n",
    "ax2 = ax1.twinx()\n",
    "\n",
    "color = 'tab:orange'\n",
    "ax2.set_ylabel('INFLTATION', color=color)\n",
    "ax2.plot(inv_infltation['ANNEE'].astype(str), inv_infltation['INFLTATION'], color=color)\n",
    "ax2.tick_params(axis='y', labelcolor=color)\n",
    "\n",
    "fig.tight_layout()\n",
    "plt.show()"
   ]
  },
  {
   "cell_type": "code",
   "execution_count": 158,
   "metadata": {},
   "outputs": [],
   "source": [
    "X = inv_infltation['INFLTATION']\n",
    "y = inv_infltation['INVESTISSEMENT']"
   ]
  },
  {
   "cell_type": "code",
   "execution_count": 159,
   "metadata": {},
   "outputs": [],
   "source": [
    "X = sm.add_constant(X)"
   ]
  },
  {
   "cell_type": "code",
   "execution_count": 160,
   "metadata": {},
   "outputs": [],
   "source": [
    "model = sm.OLS(y, X).fit()"
   ]
  },
  {
   "cell_type": "code",
   "execution_count": 161,
   "metadata": {},
   "outputs": [
    {
     "name": "stderr",
     "output_type": "stream",
     "text": [
      "C:\\ProgramData\\Anaconda3\\lib\\site-packages\\statsmodels\\stats\\stattools.py:74: ValueWarning: omni_normtest is not valid with less than 8 observations; 6 samples were given.\n",
      "  warn(\"omni_normtest is not valid with less than 8 observations; %i \"\n"
     ]
    },
    {
     "data": {
      "text/html": [
       "<table class=\"simpletable\">\n",
       "<caption>OLS Regression Results</caption>\n",
       "<tr>\n",
       "  <th>Dep. Variable:</th>     <td>INVESTISSEMENT</td>  <th>  R-squared:         </th> <td>   0.053</td>\n",
       "</tr>\n",
       "<tr>\n",
       "  <th>Model:</th>                   <td>OLS</td>       <th>  Adj. R-squared:    </th> <td>  -0.183</td>\n",
       "</tr>\n",
       "<tr>\n",
       "  <th>Method:</th>             <td>Least Squares</td>  <th>  F-statistic:       </th> <td>  0.2250</td>\n",
       "</tr>\n",
       "<tr>\n",
       "  <th>Date:</th>             <td>Sat, 27 May 2023</td> <th>  Prob (F-statistic):</th>  <td> 0.660</td> \n",
       "</tr>\n",
       "<tr>\n",
       "  <th>Time:</th>                 <td>16:05:07</td>     <th>  Log-Likelihood:    </th> <td> -90.115</td>\n",
       "</tr>\n",
       "<tr>\n",
       "  <th>No. Observations:</th>      <td>     6</td>      <th>  AIC:               </th> <td>   184.2</td>\n",
       "</tr>\n",
       "<tr>\n",
       "  <th>Df Residuals:</th>          <td>     4</td>      <th>  BIC:               </th> <td>   183.8</td>\n",
       "</tr>\n",
       "<tr>\n",
       "  <th>Df Model:</th>              <td>     1</td>      <th>                     </th>     <td> </td>   \n",
       "</tr>\n",
       "<tr>\n",
       "  <th>Covariance Type:</th>      <td>nonrobust</td>    <th>                     </th>     <td> </td>   \n",
       "</tr>\n",
       "</table>\n",
       "<table class=\"simpletable\">\n",
       "<tr>\n",
       "       <td></td>         <th>coef</th>     <th>std err</th>      <th>t</th>      <th>P>|t|</th>  <th>[0.025</th>    <th>0.975]</th>  \n",
       "</tr>\n",
       "<tr>\n",
       "  <th>const</th>      <td> 2.169e+06</td> <td> 5.16e+05</td> <td>    4.203</td> <td> 0.014</td> <td> 7.36e+05</td> <td>  3.6e+06</td>\n",
       "</tr>\n",
       "<tr>\n",
       "  <th>INFLTATION</th> <td> 6.911e+04</td> <td> 1.46e+05</td> <td>    0.474</td> <td> 0.660</td> <td>-3.35e+05</td> <td> 4.74e+05</td>\n",
       "</tr>\n",
       "</table>\n",
       "<table class=\"simpletable\">\n",
       "<tr>\n",
       "  <th>Omnibus:</th>       <td>   nan</td> <th>  Durbin-Watson:     </th> <td>   2.050</td>\n",
       "</tr>\n",
       "<tr>\n",
       "  <th>Prob(Omnibus):</th> <td>   nan</td> <th>  Jarque-Bera (JB):  </th> <td>   0.370</td>\n",
       "</tr>\n",
       "<tr>\n",
       "  <th>Skew:</th>          <td>-0.603</td> <th>  Prob(JB):          </th> <td>   0.831</td>\n",
       "</tr>\n",
       "<tr>\n",
       "  <th>Kurtosis:</th>      <td> 2.842</td> <th>  Cond. No.          </th> <td>    4.68</td>\n",
       "</tr>\n",
       "</table><br/><br/>Notes:<br/>[1] Standard Errors assume that the covariance matrix of the errors is correctly specified."
      ],
      "text/plain": [
       "<class 'statsmodels.iolib.summary.Summary'>\n",
       "\"\"\"\n",
       "                            OLS Regression Results                            \n",
       "==============================================================================\n",
       "Dep. Variable:         INVESTISSEMENT   R-squared:                       0.053\n",
       "Model:                            OLS   Adj. R-squared:                 -0.183\n",
       "Method:                 Least Squares   F-statistic:                    0.2250\n",
       "Date:                Sat, 27 May 2023   Prob (F-statistic):              0.660\n",
       "Time:                        16:05:07   Log-Likelihood:                -90.115\n",
       "No. Observations:                   6   AIC:                             184.2\n",
       "Df Residuals:                       4   BIC:                             183.8\n",
       "Df Model:                           1                                         \n",
       "Covariance Type:            nonrobust                                         \n",
       "==============================================================================\n",
       "                 coef    std err          t      P>|t|      [0.025      0.975]\n",
       "------------------------------------------------------------------------------\n",
       "const       2.169e+06   5.16e+05      4.203      0.014    7.36e+05     3.6e+06\n",
       "INFLTATION  6.911e+04   1.46e+05      0.474      0.660   -3.35e+05    4.74e+05\n",
       "==============================================================================\n",
       "Omnibus:                          nan   Durbin-Watson:                   2.050\n",
       "Prob(Omnibus):                    nan   Jarque-Bera (JB):                0.370\n",
       "Skew:                          -0.603   Prob(JB):                        0.831\n",
       "Kurtosis:                       2.842   Cond. No.                         4.68\n",
       "==============================================================================\n",
       "\n",
       "Notes:\n",
       "[1] Standard Errors assume that the covariance matrix of the errors is correctly specified.\n",
       "\"\"\""
      ]
     },
     "execution_count": 161,
     "metadata": {},
     "output_type": "execute_result"
    }
   ],
   "source": [
    "model.summary()"
   ]
  },
  {
   "cell_type": "code",
   "execution_count": 67,
   "metadata": {},
   "outputs": [],
   "source": [
    "#EQUATION : \n",
    "INVESTISSEMENT =  2.169e+06\t + 6.911e+04*inv_infltation['INFLTATION'] "
   ]
  },
  {
   "cell_type": "code",
   "execution_count": 68,
   "metadata": {},
   "outputs": [
    {
     "data": {
      "image/png": "[encoded data removed]",
      "text/plain": [
       "<Figure size 1500x500 with 1 Axes>"
      ]
     },
     "metadata": {},
     "output_type": "display_data"
    }
   ],
   "source": [
    "labels = ['2017','2018','2019','2020','2021','2022']\n",
    "plt.figure(figsize=(15,5))\n",
    "plt.scatter(inv_infltation['INFLTATION'],inv_infltation['INVESTISSEMENT'])\n",
    "for i, label in enumerate(labels):\n",
    "    plt.annotate(label, (inv_infltation.iloc[i]['INFLTATION'], inv_infltation.iloc[i]['INVESTISSEMENT']),fontsize=10)\n",
    "\n",
    "fig = plt.plot(inv_infltation['INFLTATION'],INVESTISSEMENT,lw=3,c='orange',label='Line De Regression')\n",
    "\n",
    "plt.legend()\n",
    "plt.xlabel('INFLTATION',fontsize=20)\n",
    "plt.ylabel('INVESTISSEMENT',fontsize=20)\n",
    "plt.show()"
   ]
  },
  {
   "cell_type": "code",
   "execution_count": 69,
   "metadata": {},
   "outputs": [
    {
     "data": {
      "text/plain": [
       "' \\nResumer : \\n    - On remarque que cette droite n\\'ajuste pas au mieux le nuage de points\\n    - Puis que R2 = 0.053 donc l\\'ajustement du medele est mauvais  \\n    - Et puis que (P>|t|)=0.660 >>> 0.05 donc la variable \"INFLTATION\" n\\'a pas un effet significatif sur la variable INVESTISSEMENT.\\n      - > Donc Nous excluons cette hypothèse\\n'"
      ]
     },
     "execution_count": 69,
     "metadata": {},
     "output_type": "execute_result"
    }
   ],
   "source": [
    "''' \n",
    "Resumer : \n",
    "    - On remarque que cette droite n'ajuste pas au mieux le nuage de points\n",
    "    - Puis que R2 = 0.053 donc l'ajustement du medele est mauvais  \n",
    "    - Et puis que (P>|t|)=0.660 >>> 0.05 donc la variable \"INFLTATION\" n'a pas un effet significatif sur la variable INVESTISSEMENT.\n",
    "      - > Donc Nous excluons cette hypothèse\n",
    "'''"
   ]
  },
  {
   "cell_type": "markdown",
   "metadata": {},
   "source": [
    "Hypothese 3 : \"le taux de PIB impact l'investissement\""
   ]
  },
  {
   "cell_type": "code",
   "execution_count": 70,
   "metadata": {},
   "outputs": [],
   "source": [
    "PIB = pd.read_excel('Données_Supp/PIB_au_maroc.xlsx')"
   ]
  },
  {
   "cell_type": "code",
   "execution_count": 71,
   "metadata": {},
   "outputs": [],
   "source": [
    "PIB['ANNEE'] = PIB['ANNEE'].str.replace('\\t','')\n",
    "PIB['ANNEE'] = pd.to_datetime(PIB['ANNEE'])"
   ]
  },
  {
   "cell_type": "code",
   "execution_count": 72,
   "metadata": {
    "collapsed": true
   },
   "outputs": [
    {
     "data": {
      "text/plain": [
       "ANNEE    datetime64[ns]\n",
       "PIB             float64\n",
       "dtype: object"
      ]
     },
     "execution_count": 72,
     "metadata": {},
     "output_type": "execute_result"
    }
   ],
   "source": [
    "PIB.dtypes"
   ]
  },
  {
   "cell_type": "code",
   "execution_count": 73,
   "metadata": {},
   "outputs": [],
   "source": [
    "inv_pib = pd.merge(budget_inv,PIB,on=\"ANNEE\")"
   ]
  },
  {
   "cell_type": "code",
   "execution_count": 74,
   "metadata": {},
   "outputs": [
    {
     "data": {
      "text/html": [
       "<div>\n",
       "<style scoped>\n",
       "    .dataframe tbody tr th:only-of-type {\n",
       "        vertical-align: middle;\n",
       "    }\n",
       "\n",
       "    .dataframe tbody tr th {\n",
       "        vertical-align: top;\n",
       "    }\n",
       "\n",
       "    .dataframe thead th {\n",
       "        text-align: right;\n",
       "    }\n",
       "</style>\n",
       "<table border=\"1\" class=\"dataframe\">\n",
       "  <thead>\n",
       "    <tr style=\"text-align: right;\">\n",
       "      <th></th>\n",
       "      <th>ANNEE</th>\n",
       "      <th>INVESTISSEMENT</th>\n",
       "      <th>PIB</th>\n",
       "    </tr>\n",
       "  </thead>\n",
       "  <tbody>\n",
       "    <tr>\n",
       "      <th>0</th>\n",
       "      <td>2017-12-31</td>\n",
       "      <td>1927951.60</td>\n",
       "      <td>5.058</td>\n",
       "    </tr>\n",
       "    <tr>\n",
       "      <th>1</th>\n",
       "      <td>2018-12-31</td>\n",
       "      <td>2512974.96</td>\n",
       "      <td>3.066</td>\n",
       "    </tr>\n",
       "    <tr>\n",
       "      <th>2</th>\n",
       "      <td>2019-12-31</td>\n",
       "      <td>3358883.60</td>\n",
       "      <td>2.891</td>\n",
       "    </tr>\n",
       "    <tr>\n",
       "      <th>3</th>\n",
       "      <td>2020-12-31</td>\n",
       "      <td>2468179.00</td>\n",
       "      <td>-7.187</td>\n",
       "    </tr>\n",
       "    <tr>\n",
       "      <th>4</th>\n",
       "      <td>2021-12-31</td>\n",
       "      <td>746343.60</td>\n",
       "      <td>7.930</td>\n",
       "    </tr>\n",
       "    <tr>\n",
       "      <th>5</th>\n",
       "      <td>2022-12-31</td>\n",
       "      <td>2913370.00</td>\n",
       "      <td>1.200</td>\n",
       "    </tr>\n",
       "  </tbody>\n",
       "</table>\n",
       "</div>"
      ],
      "text/plain": [
       "       ANNEE  INVESTISSEMENT    PIB\n",
       "0 2017-12-31      1927951.60  5.058\n",
       "1 2018-12-31      2512974.96  3.066\n",
       "2 2019-12-31      3358883.60  2.891\n",
       "3 2020-12-31      2468179.00 -7.187\n",
       "4 2021-12-31       746343.60  7.930\n",
       "5 2022-12-31      2913370.00  1.200"
      ]
     },
     "execution_count": 74,
     "metadata": {},
     "output_type": "execute_result"
    }
   ],
   "source": [
    "inv_pib"
   ]
  },
  {
   "cell_type": "code",
   "execution_count": 75,
   "metadata": {},
   "outputs": [
    {
     "data": {
      "text/html": [
       "<div>\n",
       "<style scoped>\n",
       "    .dataframe tbody tr th:only-of-type {\n",
       "        vertical-align: middle;\n",
       "    }\n",
       "\n",
       "    .dataframe tbody tr th {\n",
       "        vertical-align: top;\n",
       "    }\n",
       "\n",
       "    .dataframe thead th {\n",
       "        text-align: right;\n",
       "    }\n",
       "</style>\n",
       "<table border=\"1\" class=\"dataframe\">\n",
       "  <thead>\n",
       "    <tr style=\"text-align: right;\">\n",
       "      <th></th>\n",
       "      <th>INVESTISSEMENT</th>\n",
       "      <th>PIB</th>\n",
       "    </tr>\n",
       "  </thead>\n",
       "  <tbody>\n",
       "    <tr>\n",
       "      <th>count</th>\n",
       "      <td>6.000000e+00</td>\n",
       "      <td>6.000000</td>\n",
       "    </tr>\n",
       "    <tr>\n",
       "      <th>mean</th>\n",
       "      <td>2.321284e+06</td>\n",
       "      <td>2.159667</td>\n",
       "    </tr>\n",
       "    <tr>\n",
       "      <th>std</th>\n",
       "      <td>9.078161e+05</td>\n",
       "      <td>5.125125</td>\n",
       "    </tr>\n",
       "    <tr>\n",
       "      <th>min</th>\n",
       "      <td>7.463436e+05</td>\n",
       "      <td>-7.187000</td>\n",
       "    </tr>\n",
       "    <tr>\n",
       "      <th>25%</th>\n",
       "      <td>2.063008e+06</td>\n",
       "      <td>1.622750</td>\n",
       "    </tr>\n",
       "    <tr>\n",
       "      <th>50%</th>\n",
       "      <td>2.490577e+06</td>\n",
       "      <td>2.978500</td>\n",
       "    </tr>\n",
       "    <tr>\n",
       "      <th>75%</th>\n",
       "      <td>2.813271e+06</td>\n",
       "      <td>4.560000</td>\n",
       "    </tr>\n",
       "    <tr>\n",
       "      <th>max</th>\n",
       "      <td>3.358884e+06</td>\n",
       "      <td>7.930000</td>\n",
       "    </tr>\n",
       "  </tbody>\n",
       "</table>\n",
       "</div>"
      ],
      "text/plain": [
       "       INVESTISSEMENT       PIB\n",
       "count    6.000000e+00  6.000000\n",
       "mean     2.321284e+06  2.159667\n",
       "std      9.078161e+05  5.125125\n",
       "min      7.463436e+05 -7.187000\n",
       "25%      2.063008e+06  1.622750\n",
       "50%      2.490577e+06  2.978500\n",
       "75%      2.813271e+06  4.560000\n",
       "max      3.358884e+06  7.930000"
      ]
     },
     "execution_count": 75,
     "metadata": {},
     "output_type": "execute_result"
    }
   ],
   "source": [
    "inv_pib.describe()"
   ]
  },
  {
   "cell_type": "code",
   "execution_count": 76,
   "metadata": {},
   "outputs": [
    {
     "data": {
      "image/png": "[encoded data removed]",
      "text/plain": [
       "<Figure size 1500x500 with 2 Axes>"
      ]
     },
     "metadata": {},
     "output_type": "display_data"
    }
   ],
   "source": [
    "# Créer un graphique linéaire des investissements et PIB : \n",
    "\n",
    "fig, ax1 = plt.subplots(figsize=(15,5))\n",
    "\n",
    "color = 'tab:blue'\n",
    "ax1.set_xlabel('Année')\n",
    "ax1.set_ylabel('Investissement', color=color)\n",
    "ax1.plot(inv_pib['ANNEE'].astype(str), inv_pib['INVESTISSEMENT'], color=color)\n",
    "ax1.tick_params(axis='y', labelcolor=color)\n",
    "\n",
    "ax2 = ax1.twinx()\n",
    "\n",
    "color = 'tab:red'\n",
    "ax2.set_ylabel('PIB', color=color)\n",
    "ax2.plot(inv_pib['ANNEE'].astype(str), inv_pib['PIB'], color=color)\n",
    "ax2.tick_params(axis='y', labelcolor=color)\n",
    "\n",
    "fig.tight_layout()\n",
    "plt.show()"
   ]
  },
  {
   "cell_type": "code",
   "execution_count": 162,
   "metadata": {},
   "outputs": [],
   "source": [
    "X = inv_pib['PIB']\n",
    "y = inv_pib['INVESTISSEMENT']"
   ]
  },
  {
   "cell_type": "code",
   "execution_count": 163,
   "metadata": {},
   "outputs": [],
   "source": [
    "X = sm.add_constant(X)"
   ]
  },
  {
   "cell_type": "code",
   "execution_count": 164,
   "metadata": {},
   "outputs": [],
   "source": [
    "model = sm.OLS(y, X).fit()"
   ]
  },
  {
   "cell_type": "code",
   "execution_count": 165,
   "metadata": {},
   "outputs": [
    {
     "name": "stderr",
     "output_type": "stream",
     "text": [
      "C:\\ProgramData\\Anaconda3\\lib\\site-packages\\statsmodels\\stats\\stattools.py:74: ValueWarning: omni_normtest is not valid with less than 8 observations; 6 samples were given.\n",
      "  warn(\"omni_normtest is not valid with less than 8 observations; %i \"\n"
     ]
    },
    {
     "data": {
      "text/html": [
       "<table class=\"simpletable\">\n",
       "<caption>OLS Regression Results</caption>\n",
       "<tr>\n",
       "  <th>Dep. Variable:</th>     <td>INVESTISSEMENT</td>  <th>  R-squared:         </th> <td>   0.233</td>\n",
       "</tr>\n",
       "<tr>\n",
       "  <th>Model:</th>                   <td>OLS</td>       <th>  Adj. R-squared:    </th> <td>   0.042</td>\n",
       "</tr>\n",
       "<tr>\n",
       "  <th>Method:</th>             <td>Least Squares</td>  <th>  F-statistic:       </th> <td>   1.217</td>\n",
       "</tr>\n",
       "<tr>\n",
       "  <th>Date:</th>             <td>Sat, 27 May 2023</td> <th>  Prob (F-statistic):</th>  <td> 0.332</td> \n",
       "</tr>\n",
       "<tr>\n",
       "  <th>Time:</th>                 <td>16:12:15</td>     <th>  Log-Likelihood:    </th> <td> -89.482</td>\n",
       "</tr>\n",
       "<tr>\n",
       "  <th>No. Observations:</th>      <td>     6</td>      <th>  AIC:               </th> <td>   183.0</td>\n",
       "</tr>\n",
       "<tr>\n",
       "  <th>Df Residuals:</th>          <td>     4</td>      <th>  BIC:               </th> <td>   182.5</td>\n",
       "</tr>\n",
       "<tr>\n",
       "  <th>Df Model:</th>              <td>     1</td>      <th>                     </th>     <td> </td>   \n",
       "</tr>\n",
       "<tr>\n",
       "  <th>Covariance Type:</th>      <td>nonrobust</td>    <th>                     </th>     <td> </td>   \n",
       "</tr>\n",
       "</table>\n",
       "<table class=\"simpletable\">\n",
       "<tr>\n",
       "    <td></td>       <th>coef</th>     <th>std err</th>      <th>t</th>      <th>P>|t|</th>  <th>[0.025</th>    <th>0.975]</th>  \n",
       "</tr>\n",
       "<tr>\n",
       "  <th>const</th> <td> 2.506e+06</td> <td>    4e+05</td> <td>    6.271</td> <td> 0.003</td> <td>  1.4e+06</td> <td> 3.62e+06</td>\n",
       "</tr>\n",
       "<tr>\n",
       "  <th>PIB</th>   <td>-8.556e+04</td> <td> 7.75e+04</td> <td>   -1.103</td> <td> 0.332</td> <td>-3.01e+05</td> <td>  1.3e+05</td>\n",
       "</tr>\n",
       "</table>\n",
       "<table class=\"simpletable\">\n",
       "<tr>\n",
       "  <th>Omnibus:</th>       <td>   nan</td> <th>  Durbin-Watson:     </th> <td>   2.105</td>\n",
       "</tr>\n",
       "<tr>\n",
       "  <th>Prob(Omnibus):</th> <td>   nan</td> <th>  Jarque-Bera (JB):  </th> <td>   0.328</td>\n",
       "</tr>\n",
       "<tr>\n",
       "  <th>Skew:</th>          <td>-0.027</td> <th>  Prob(JB):          </th> <td>   0.849</td>\n",
       "</tr>\n",
       "<tr>\n",
       "  <th>Kurtosis:</th>      <td> 1.856</td> <th>  Cond. No.          </th> <td>    5.71</td>\n",
       "</tr>\n",
       "</table><br/><br/>Notes:<br/>[1] Standard Errors assume that the covariance matrix of the errors is correctly specified."
      ],
      "text/plain": [
       "<class 'statsmodels.iolib.summary.Summary'>\n",
       "\"\"\"\n",
       "                            OLS Regression Results                            \n",
       "==============================================================================\n",
       "Dep. Variable:         INVESTISSEMENT   R-squared:                       0.233\n",
       "Model:                            OLS   Adj. R-squared:                  0.042\n",
       "Method:                 Least Squares   F-statistic:                     1.217\n",
       "Date:                Sat, 27 May 2023   Prob (F-statistic):              0.332\n",
       "Time:                        16:12:15   Log-Likelihood:                -89.482\n",
       "No. Observations:                   6   AIC:                             183.0\n",
       "Df Residuals:                       4   BIC:                             182.5\n",
       "Df Model:                           1                                         \n",
       "Covariance Type:            nonrobust                                         \n",
       "==============================================================================\n",
       "                 coef    std err          t      P>|t|      [0.025      0.975]\n",
       "------------------------------------------------------------------------------\n",
       "const       2.506e+06      4e+05      6.271      0.003     1.4e+06    3.62e+06\n",
       "PIB        -8.556e+04   7.75e+04     -1.103      0.332   -3.01e+05     1.3e+05\n",
       "==============================================================================\n",
       "Omnibus:                          nan   Durbin-Watson:                   2.105\n",
       "Prob(Omnibus):                    nan   Jarque-Bera (JB):                0.328\n",
       "Skew:                          -0.027   Prob(JB):                        0.849\n",
       "Kurtosis:                       1.856   Cond. No.                         5.71\n",
       "==============================================================================\n",
       "\n",
       "Notes:\n",
       "[1] Standard Errors assume that the covariance matrix of the errors is correctly specified.\n",
       "\"\"\""
      ]
     },
     "execution_count": 165,
     "metadata": {},
     "output_type": "execute_result"
    }
   ],
   "source": [
    "model.summary()"
   ]
  },
  {
   "cell_type": "code",
   "execution_count": 81,
   "metadata": {},
   "outputs": [],
   "source": [
    "#EQUATION : \n",
    "INVESTISSEMENT =  2.506e+06 -8.556e+04*inv_pib['PIB'] #Regression Line"
   ]
  },
  {
   "cell_type": "code",
   "execution_count": 82,
   "metadata": {},
   "outputs": [
    {
     "data": {
      "image/png": "[encoded data removed]",
      "text/plain": [
       "<Figure size 1500x500 with 1 Axes>"
      ]
     },
     "metadata": {},
     "output_type": "display_data"
    }
   ],
   "source": [
    "labels = ['2017','2018','2019','2020','2021','2022']\n",
    "plt.figure(figsize=(15,5))\n",
    "plt.scatter(inv_pib['PIB'],inv_pib['INVESTISSEMENT'])\n",
    "for i, label in enumerate(labels):\n",
    "    plt.annotate(label, (inv_pib.iloc[i]['PIB'], inv_pib.iloc[i]['INVESTISSEMENT']),fontsize=10)\n",
    "\n",
    "fig = plt.plot(inv_pib['PIB'],INVESTISSEMENT,lw=3,c='orange',label='Line De Regression')\n",
    "\n",
    "plt.legend()\n",
    "plt.xlabel('PIB',fontsize=20)\n",
    "plt.ylabel('INVESTISSEMENT',fontsize=20)\n",
    "plt.show()"
   ]
  },
  {
   "cell_type": "code",
   "execution_count": 83,
   "metadata": {},
   "outputs": [
    {
     "data": {
      "text/plain": [
       "' \\nResumer : \\n    - Puis que R2 = 0.233 donc l\\'ajustement du medele est mauvise \\n    - Et puis que (P>|t|)=0.332 >>> 0.05 donc la variable \"PIB\" n\\'a pas un effet significatif sur la variable INVESTISSEMENT.\\n'"
      ]
     },
     "execution_count": 83,
     "metadata": {},
     "output_type": "execute_result"
    }
   ],
   "source": [
    "''' \n",
    "Resumer : \n",
    "    - Puis que R2 = 0.233 donc l'ajustement du medele est mauvise \n",
    "    - Et puis que (P>|t|)=0.332 >>> 0.05 donc la variable \"PIB\" n'a pas un effet significatif sur la variable INVESTISSEMENT.\n",
    "'''"
   ]
  },
  {
   "cell_type": "markdown",
   "metadata": {},
   "source": [
    "****************************************************************************************************************************************************"
   ]
  },
  {
   "cell_type": "markdown",
   "metadata": {},
   "source": [
    "-> Analyse de Regression Linéaire Multiple : "
   ]
  },
  {
   "cell_type": "markdown",
   "metadata": {},
   "source": [
    "#Ajouter des factures A la variable COVID-19: "
   ]
  },
  {
   "cell_type": "code",
   "execution_count": 84,
   "metadata": {},
   "outputs": [],
   "source": [
    "budget_muat = pd.read_excel('Données_Supp/Budget_MUAT.xlsx')"
   ]
  },
  {
   "cell_type": "code",
   "execution_count": 85,
   "metadata": {},
   "outputs": [
    {
     "data": {
      "text/html": [
       "<div>\n",
       "<style scoped>\n",
       "    .dataframe tbody tr th:only-of-type {\n",
       "        vertical-align: middle;\n",
       "    }\n",
       "\n",
       "    .dataframe tbody tr th {\n",
       "        vertical-align: top;\n",
       "    }\n",
       "\n",
       "    .dataframe thead th {\n",
       "        text-align: right;\n",
       "    }\n",
       "</style>\n",
       "<table border=\"1\" class=\"dataframe\">\n",
       "  <thead>\n",
       "    <tr style=\"text-align: right;\">\n",
       "      <th></th>\n",
       "      <th>ANNEE</th>\n",
       "      <th>Budget General MUAT</th>\n",
       "    </tr>\n",
       "  </thead>\n",
       "  <tbody>\n",
       "    <tr>\n",
       "      <th>0</th>\n",
       "      <td>2012-12-31\\t</td>\n",
       "      <td>1592567000</td>\n",
       "    </tr>\n",
       "    <tr>\n",
       "      <th>1</th>\n",
       "      <td>2014-12-31\\t</td>\n",
       "      <td>1563007000</td>\n",
       "    </tr>\n",
       "    <tr>\n",
       "      <th>2</th>\n",
       "      <td>2016-12-31\\t</td>\n",
       "      <td>1864444000</td>\n",
       "    </tr>\n",
       "    <tr>\n",
       "      <th>3</th>\n",
       "      <td>2017-12-31\\t</td>\n",
       "      <td>1817688000</td>\n",
       "    </tr>\n",
       "    <tr>\n",
       "      <th>4</th>\n",
       "      <td>2018-12-31\\t</td>\n",
       "      <td>1912214000</td>\n",
       "    </tr>\n",
       "    <tr>\n",
       "      <th>5</th>\n",
       "      <td>2019-12-31\\t</td>\n",
       "      <td>1944141000</td>\n",
       "    </tr>\n",
       "    <tr>\n",
       "      <th>6</th>\n",
       "      <td>2020-12-31\\t</td>\n",
       "      <td>1967757000</td>\n",
       "    </tr>\n",
       "    <tr>\n",
       "      <th>7</th>\n",
       "      <td>2021-12-31\\t</td>\n",
       "      <td>1576438000</td>\n",
       "    </tr>\n",
       "    <tr>\n",
       "      <th>8</th>\n",
       "      <td>2022-12-31\\t</td>\n",
       "      <td>1759722000</td>\n",
       "    </tr>\n",
       "  </tbody>\n",
       "</table>\n",
       "</div>"
      ],
      "text/plain": [
       "          ANNEE  Budget General MUAT\n",
       "0  2012-12-31\\t           1592567000\n",
       "1  2014-12-31\\t           1563007000\n",
       "2  2016-12-31\\t           1864444000\n",
       "3  2017-12-31\\t           1817688000\n",
       "4  2018-12-31\\t           1912214000\n",
       "5  2019-12-31\\t           1944141000\n",
       "6  2020-12-31\\t           1967757000\n",
       "7  2021-12-31\\t           1576438000\n",
       "8  2022-12-31\\t           1759722000"
      ]
     },
     "execution_count": 85,
     "metadata": {},
     "output_type": "execute_result"
    }
   ],
   "source": [
    "budget_muat"
   ]
  },
  {
   "cell_type": "code",
   "execution_count": 86,
   "metadata": {},
   "outputs": [],
   "source": [
    "budget_muat.columns = [c.replace(' ','_').upper() for c in budget_muat.columns]"
   ]
  },
  {
   "cell_type": "code",
   "execution_count": 87,
   "metadata": {},
   "outputs": [],
   "source": [
    "budget_muat['ANNEE'] = pd.to_datetime(budget_muat['ANNEE'].str.replace('\\t',''))"
   ]
  },
  {
   "cell_type": "code",
   "execution_count": 88,
   "metadata": {},
   "outputs": [],
   "source": [
    "inv_et_covid_19_muat = pd.merge(inv_et_covid_19,budget_muat,on='ANNEE')"
   ]
  },
  {
   "cell_type": "code",
   "execution_count": 89,
   "metadata": {},
   "outputs": [],
   "source": [
    "inv_et_covid_19_muat['BUDGET_GENERAL_MUAT'] = inv_et_covid_19_muat['BUDGET_GENERAL_MUAT'].astype(float)"
   ]
  },
  {
   "cell_type": "code",
   "execution_count": 90,
   "metadata": {},
   "outputs": [
    {
     "data": {
      "text/html": [
       "<div>\n",
       "<style scoped>\n",
       "    .dataframe tbody tr th:only-of-type {\n",
       "        vertical-align: middle;\n",
       "    }\n",
       "\n",
       "    .dataframe tbody tr th {\n",
       "        vertical-align: top;\n",
       "    }\n",
       "\n",
       "    .dataframe thead th {\n",
       "        text-align: right;\n",
       "    }\n",
       "</style>\n",
       "<table border=\"1\" class=\"dataframe\">\n",
       "  <thead>\n",
       "    <tr style=\"text-align: right;\">\n",
       "      <th></th>\n",
       "      <th>ANNEE</th>\n",
       "      <th>INVESTISSEMENT</th>\n",
       "      <th>COVID-19</th>\n",
       "      <th>BUDGET_GENERAL_MUAT</th>\n",
       "    </tr>\n",
       "  </thead>\n",
       "  <tbody>\n",
       "    <tr>\n",
       "      <th>0</th>\n",
       "      <td>2012-12-31</td>\n",
       "      <td>6018915.20</td>\n",
       "      <td>0</td>\n",
       "      <td>1.592567e+09</td>\n",
       "    </tr>\n",
       "    <tr>\n",
       "      <th>1</th>\n",
       "      <td>2014-12-31</td>\n",
       "      <td>3028316.26</td>\n",
       "      <td>0</td>\n",
       "      <td>1.563007e+09</td>\n",
       "    </tr>\n",
       "    <tr>\n",
       "      <th>2</th>\n",
       "      <td>2016-12-31</td>\n",
       "      <td>2990576.00</td>\n",
       "      <td>0</td>\n",
       "      <td>1.864444e+09</td>\n",
       "    </tr>\n",
       "    <tr>\n",
       "      <th>3</th>\n",
       "      <td>2017-12-31</td>\n",
       "      <td>1927951.60</td>\n",
       "      <td>0</td>\n",
       "      <td>1.817688e+09</td>\n",
       "    </tr>\n",
       "    <tr>\n",
       "      <th>4</th>\n",
       "      <td>2018-12-31</td>\n",
       "      <td>2512974.96</td>\n",
       "      <td>0</td>\n",
       "      <td>1.912214e+09</td>\n",
       "    </tr>\n",
       "    <tr>\n",
       "      <th>5</th>\n",
       "      <td>2019-12-31</td>\n",
       "      <td>3358883.60</td>\n",
       "      <td>0</td>\n",
       "      <td>1.944141e+09</td>\n",
       "    </tr>\n",
       "    <tr>\n",
       "      <th>6</th>\n",
       "      <td>2020-12-31</td>\n",
       "      <td>2468179.00</td>\n",
       "      <td>1</td>\n",
       "      <td>1.967757e+09</td>\n",
       "    </tr>\n",
       "    <tr>\n",
       "      <th>7</th>\n",
       "      <td>2021-12-31</td>\n",
       "      <td>746343.60</td>\n",
       "      <td>1</td>\n",
       "      <td>1.576438e+09</td>\n",
       "    </tr>\n",
       "    <tr>\n",
       "      <th>8</th>\n",
       "      <td>2022-12-31</td>\n",
       "      <td>2913370.00</td>\n",
       "      <td>0</td>\n",
       "      <td>1.759722e+09</td>\n",
       "    </tr>\n",
       "  </tbody>\n",
       "</table>\n",
       "</div>"
      ],
      "text/plain": [
       "       ANNEE  INVESTISSEMENT  COVID-19  BUDGET_GENERAL_MUAT\n",
       "0 2012-12-31      6018915.20         0         1.592567e+09\n",
       "1 2014-12-31      3028316.26         0         1.563007e+09\n",
       "2 2016-12-31      2990576.00         0         1.864444e+09\n",
       "3 2017-12-31      1927951.60         0         1.817688e+09\n",
       "4 2018-12-31      2512974.96         0         1.912214e+09\n",
       "5 2019-12-31      3358883.60         0         1.944141e+09\n",
       "6 2020-12-31      2468179.00         1         1.967757e+09\n",
       "7 2021-12-31       746343.60         1         1.576438e+09\n",
       "8 2022-12-31      2913370.00         0         1.759722e+09"
      ]
     },
     "execution_count": 90,
     "metadata": {},
     "output_type": "execute_result"
    }
   ],
   "source": [
    "inv_et_covid_19_muat"
   ]
  },
  {
   "cell_type": "markdown",
   "metadata": {},
   "source": [
    "#plot l'investissment et le budget general de MUAT (Ministère de l'Aménagement du territoire national, de l'Urbanisme, de l'Habitat et de la Politique de la ville)"
   ]
  },
  {
   "cell_type": "code",
   "execution_count": 91,
   "metadata": {},
   "outputs": [
    {
     "data": {
      "image/png": "[encoded data removed]",
      "text/plain": [
       "<Figure size 1500x500 with 2 Axes>"
      ]
     },
     "metadata": {},
     "output_type": "display_data"
    }
   ],
   "source": [
    "fig, ax1 = plt.subplots(figsize=(15,5))\n",
    "\n",
    "color = 'tab:blue'\n",
    "ax1.set_xlabel('Année')\n",
    "ax1.set_ylabel('Investissement', color=color)\n",
    "ax1.plot(inv_et_covid_19_muat['ANNEE'].astype(str), inv_et_covid_19_muat['BUDGET_GENERAL_MUAT'], color=color)\n",
    "ax1.tick_params(axis='y', labelcolor=color)\n",
    "\n",
    "ax2 = ax1.twinx()\n",
    "\n",
    "color = 'tab:gray'\n",
    "ax2.set_ylabel('BUDGET GENERAL MUAT', color=color)\n",
    "ax2.bar(inv_et_covid_19_muat['ANNEE'].astype(str), inv_et_covid_19_muat['INVESTISSEMENT'], color=color)\n",
    "ax2.tick_params(axis='y', labelcolor=color)\n",
    "fig.tight_layout()\n",
    "\n",
    "plt.title(\"BUDGET D'INVESTISSEMENT ET BUDGET GENERAL MUAT PAR ANNEE\")\n",
    "plt.show()"
   ]
  },
  {
   "cell_type": "markdown",
   "metadata": {},
   "source": [
    "Analyse De Correlation : "
   ]
  },
  {
   "cell_type": "code",
   "execution_count": 92,
   "metadata": {},
   "outputs": [
    {
     "data": {
      "text/html": [
       "<div>\n",
       "<style scoped>\n",
       "    .dataframe tbody tr th:only-of-type {\n",
       "        vertical-align: middle;\n",
       "    }\n",
       "\n",
       "    .dataframe tbody tr th {\n",
       "        vertical-align: top;\n",
       "    }\n",
       "\n",
       "    .dataframe thead th {\n",
       "        text-align: right;\n",
       "    }\n",
       "</style>\n",
       "<table border=\"1\" class=\"dataframe\">\n",
       "  <thead>\n",
       "    <tr style=\"text-align: right;\">\n",
       "      <th></th>\n",
       "      <th>INVESTISSEMENT</th>\n",
       "      <th>COVID-19</th>\n",
       "      <th>BUDGET_GENERAL_MUAT</th>\n",
       "    </tr>\n",
       "  </thead>\n",
       "  <tbody>\n",
       "    <tr>\n",
       "      <th>INVESTISSEMENT</th>\n",
       "      <td>1.000000</td>\n",
       "      <td>-0.514183</td>\n",
       "      <td>-0.141916</td>\n",
       "    </tr>\n",
       "    <tr>\n",
       "      <th>COVID-19</th>\n",
       "      <td>-0.514183</td>\n",
       "      <td>1.000000</td>\n",
       "      <td>-0.018990</td>\n",
       "    </tr>\n",
       "    <tr>\n",
       "      <th>BUDGET_GENERAL_MUAT</th>\n",
       "      <td>-0.141916</td>\n",
       "      <td>-0.018990</td>\n",
       "      <td>1.000000</td>\n",
       "    </tr>\n",
       "  </tbody>\n",
       "</table>\n",
       "</div>"
      ],
      "text/plain": [
       "                     INVESTISSEMENT  COVID-19  BUDGET_GENERAL_MUAT\n",
       "INVESTISSEMENT             1.000000 -0.514183            -0.141916\n",
       "COVID-19                  -0.514183  1.000000            -0.018990\n",
       "BUDGET_GENERAL_MUAT       -0.141916 -0.018990             1.000000"
      ]
     },
     "execution_count": 92,
     "metadata": {},
     "output_type": "execute_result"
    }
   ],
   "source": [
    "inv_et_covid_19_muat.corr()"
   ]
  },
  {
   "cell_type": "markdown",
   "metadata": {},
   "source": [
    "Analyse De Regression Linéaire Multiple : "
   ]
  },
  {
   "cell_type": "code",
   "execution_count": 93,
   "metadata": {},
   "outputs": [],
   "source": [
    "X = inv_et_covid_19_muat[['COVID-19','BUDGET_GENERAL_MUAT']]\n",
    "y = inv_et_covid_19_muat['INVESTISSEMENT']"
   ]
  },
  {
   "cell_type": "code",
   "execution_count": 94,
   "metadata": {},
   "outputs": [],
   "source": [
    "X = sm.add_constant(X)"
   ]
  },
  {
   "cell_type": "code",
   "execution_count": 95,
   "metadata": {},
   "outputs": [],
   "source": [
    "model = sm.OLS(y, X).fit()"
   ]
  },
  {
   "cell_type": "code",
   "execution_count": 96,
   "metadata": {},
   "outputs": [
    {
     "name": "stdout",
     "output_type": "stream",
     "text": [
      "                            OLS Regression Results                            \n",
      "==============================================================================\n",
      "Dep. Variable:         INVESTISSEMENT   R-squared:                       0.287\n",
      "Model:                            OLS   Adj. R-squared:                  0.050\n",
      "Method:                 Least Squares   F-statistic:                     1.210\n",
      "Date:                Sat, 27 May 2023   Prob (F-statistic):              0.362\n",
      "Time:                        15:39:08   Log-Likelihood:                -138.14\n",
      "No. Observations:                   9   AIC:                             282.3\n",
      "Df Residuals:                       6   BIC:                             282.9\n",
      "Df Model:                           2                                         \n",
      "Covariance Type:            nonrobust                                         \n",
      "=======================================================================================\n",
      "                          coef    std err          t      P>|t|      [0.025      0.975]\n",
      "---------------------------------------------------------------------------------------\n",
      "const                5.585e+06   5.33e+06      1.048      0.335   -7.46e+06    1.86e+07\n",
      "COVID-19            -1.652e+06    1.1e+06     -1.500      0.184   -4.35e+06    1.04e+06\n",
      "BUDGET_GENERAL_MUAT    -0.0013      0.003     -0.440      0.675      -0.009       0.006\n",
      "==============================================================================\n",
      "Omnibus:                        4.772   Durbin-Watson:                   1.596\n",
      "Prob(Omnibus):                  0.092   Jarque-Bera (JB):                1.775\n",
      "Skew:                           1.080   Prob(JB):                        0.412\n",
      "Kurtosis:                       3.269   Cond. No.                     2.08e+10\n",
      "==============================================================================\n",
      "\n",
      "Notes:\n",
      "[1] Standard Errors assume that the covariance matrix of the errors is correctly specified.\n",
      "[2] The condition number is large, 2.08e+10. This might indicate that there are\n",
      "strong multicollinearity or other numerical problems.\n"
     ]
    },
    {
     "name": "stderr",
     "output_type": "stream",
     "text": [
      "C:\\ProgramData\\Anaconda3\\lib\\site-packages\\scipy\\stats\\_stats_py.py:1769: UserWarning: kurtosistest only valid for n>=20 ... continuing anyway, n=9\n",
      "  warnings.warn(\"kurtosistest only valid for n>=20 ... continuing \"\n"
     ]
    }
   ],
   "source": [
    "print(model.summary())"
   ]
  },
  {
   "cell_type": "code",
   "execution_count": 97,
   "metadata": {},
   "outputs": [
    {
     "data": {
      "text/plain": [
       "\"  \\n    - R-carré (R-squared) : Le R-carré mesure la proportion de la variance totale de la variable dépendante qui peut être expliquée par le modèle.\\n    Dans ce cas, le R-carré est de 0.861, ce qui signifie que les variables indépendantes (COVID-19 et BUDGET_GENERAL_MUAT)\\n    expliquent conjointement 86.1 % de la variance de la variable dépendante\\n    - Statistique F (F-statistic) : La statistique F est utilisée pour tester l'adéquation globale du modèle. \\n    Une valeur élevée de la statistique F indique que les variables indépendantes ont un effet significatif sur la variable dépendante.\\n    Dans ce cas, la statistique F est de 9.281 avec une probabilité associée de 0.0519.\\n    Cela suggère qu'il y a une certaine tendance vers la significativité statistique, \\n    mais il n'y a pas suffisamment de preuves pour affirmer que le modèle est globalement significatif.\\n    --> le modèle semble fournir une explication raisonnable de la variance de la variable dépendante, \\n    avec un R-carré élevé. Cependant, la statistique F ne fournit pas suffisamment de preuves pour conclure à une significativité globale du modèle.\\n    Il serait important de mener des tests supplémentaires et de prendre en compte \\n    d'autres facteurs avant de tirer des conclusions définitives sur la relation entre les variables dans ce modèle.\\n    --> selon ces résultats, il semble que la variable COVID-19 a un effet significatif sur la variable dépendante, \\n    tandis que la constante et la variable BUDGET_GENERAL_MUAT n'ont pas d'effets significatifs.\\n\""
      ]
     },
     "execution_count": 97,
     "metadata": {},
     "output_type": "execute_result"
    }
   ],
   "source": [
    "\"\"\"  \n",
    "    - R-carré (R-squared) : Le R-carré mesure la proportion de la variance totale de la variable dépendante qui peut être expliquée par le modèle.\n",
    "    Dans ce cas, le R-carré est de 0.861, ce qui signifie que les variables indépendantes (COVID-19 et BUDGET_GENERAL_MUAT)\n",
    "    expliquent conjointement 86.1 % de la variance de la variable dépendante\n",
    "    - Statistique F (F-statistic) : La statistique F est utilisée pour tester l'adéquation globale du modèle. \n",
    "    Une valeur élevée de la statistique F indique que les variables indépendantes ont un effet significatif sur la variable dépendante.\n",
    "    Dans ce cas, la statistique F est de 9.281 avec une probabilité associée de 0.0519.\n",
    "    Cela suggère qu'il y a une certaine tendance vers la significativité statistique, \n",
    "    mais il n'y a pas suffisamment de preuves pour affirmer que le modèle est globalement significatif.\n",
    "    --> le modèle semble fournir une explication raisonnable de la variance de la variable dépendante, \n",
    "    avec un R-carré élevé. Cependant, la statistique F ne fournit pas suffisamment de preuves pour conclure à une significativité globale du modèle.\n",
    "    Il serait important de mener des tests supplémentaires et de prendre en compte \n",
    "    d'autres facteurs avant de tirer des conclusions définitives sur la relation entre les variables dans ce modèle.\n",
    "    --> selon ces résultats, il semble que la variable COVID-19 a un effet significatif sur la variable dépendante, \n",
    "    tandis que la constante et la variable BUDGET_GENERAL_MUAT n'ont pas d'effets significatifs.\n",
    "\"\"\""
   ]
  },
  {
   "cell_type": "code",
   "execution_count": 98,
   "metadata": {},
   "outputs": [],
   "source": [
    "#Plot Modele : "
   ]
  },
  {
   "cell_type": "markdown",
   "metadata": {},
   "source": [
    "#Ajouter d'autre Variable  : Ressources du budget de l’Etat "
   ]
  },
  {
   "cell_type": "code",
   "execution_count": 99,
   "metadata": {},
   "outputs": [
    {
     "data": {
      "text/html": [
       "<div>\n",
       "<style scoped>\n",
       "    .dataframe tbody tr th:only-of-type {\n",
       "        vertical-align: middle;\n",
       "    }\n",
       "\n",
       "    .dataframe tbody tr th {\n",
       "        vertical-align: top;\n",
       "    }\n",
       "\n",
       "    .dataframe thead th {\n",
       "        text-align: right;\n",
       "    }\n",
       "</style>\n",
       "<table border=\"1\" class=\"dataframe\">\n",
       "  <thead>\n",
       "    <tr style=\"text-align: right;\">\n",
       "      <th></th>\n",
       "      <th>ANNEE</th>\n",
       "      <th>INVESTISSEMENT</th>\n",
       "      <th>COVID-19</th>\n",
       "      <th>BUDGET_GENERAL_MUAT</th>\n",
       "    </tr>\n",
       "  </thead>\n",
       "  <tbody>\n",
       "    <tr>\n",
       "      <th>0</th>\n",
       "      <td>2012-12-31</td>\n",
       "      <td>6018915.20</td>\n",
       "      <td>0</td>\n",
       "      <td>1.592567e+09</td>\n",
       "    </tr>\n",
       "    <tr>\n",
       "      <th>1</th>\n",
       "      <td>2014-12-31</td>\n",
       "      <td>3028316.26</td>\n",
       "      <td>0</td>\n",
       "      <td>1.563007e+09</td>\n",
       "    </tr>\n",
       "    <tr>\n",
       "      <th>2</th>\n",
       "      <td>2016-12-31</td>\n",
       "      <td>2990576.00</td>\n",
       "      <td>0</td>\n",
       "      <td>1.864444e+09</td>\n",
       "    </tr>\n",
       "    <tr>\n",
       "      <th>3</th>\n",
       "      <td>2017-12-31</td>\n",
       "      <td>1927951.60</td>\n",
       "      <td>0</td>\n",
       "      <td>1.817688e+09</td>\n",
       "    </tr>\n",
       "    <tr>\n",
       "      <th>4</th>\n",
       "      <td>2018-12-31</td>\n",
       "      <td>2512974.96</td>\n",
       "      <td>0</td>\n",
       "      <td>1.912214e+09</td>\n",
       "    </tr>\n",
       "    <tr>\n",
       "      <th>5</th>\n",
       "      <td>2019-12-31</td>\n",
       "      <td>3358883.60</td>\n",
       "      <td>0</td>\n",
       "      <td>1.944141e+09</td>\n",
       "    </tr>\n",
       "    <tr>\n",
       "      <th>6</th>\n",
       "      <td>2020-12-31</td>\n",
       "      <td>2468179.00</td>\n",
       "      <td>1</td>\n",
       "      <td>1.967757e+09</td>\n",
       "    </tr>\n",
       "    <tr>\n",
       "      <th>7</th>\n",
       "      <td>2021-12-31</td>\n",
       "      <td>746343.60</td>\n",
       "      <td>1</td>\n",
       "      <td>1.576438e+09</td>\n",
       "    </tr>\n",
       "    <tr>\n",
       "      <th>8</th>\n",
       "      <td>2022-12-31</td>\n",
       "      <td>2913370.00</td>\n",
       "      <td>0</td>\n",
       "      <td>1.759722e+09</td>\n",
       "    </tr>\n",
       "  </tbody>\n",
       "</table>\n",
       "</div>"
      ],
      "text/plain": [
       "       ANNEE  INVESTISSEMENT  COVID-19  BUDGET_GENERAL_MUAT\n",
       "0 2012-12-31      6018915.20         0         1.592567e+09\n",
       "1 2014-12-31      3028316.26         0         1.563007e+09\n",
       "2 2016-12-31      2990576.00         0         1.864444e+09\n",
       "3 2017-12-31      1927951.60         0         1.817688e+09\n",
       "4 2018-12-31      2512974.96         0         1.912214e+09\n",
       "5 2019-12-31      3358883.60         0         1.944141e+09\n",
       "6 2020-12-31      2468179.00         1         1.967757e+09\n",
       "7 2021-12-31       746343.60         1         1.576438e+09\n",
       "8 2022-12-31      2913370.00         0         1.759722e+09"
      ]
     },
     "execution_count": 99,
     "metadata": {},
     "output_type": "execute_result"
    }
   ],
   "source": [
    "inv_et_covid_19_muat"
   ]
  },
  {
   "cell_type": "code",
   "execution_count": 100,
   "metadata": {},
   "outputs": [],
   "source": [
    "total_resources = pd.read_excel('Données_Supp/Le montant total des ressources du budget de Etat.xlsx')"
   ]
  },
  {
   "cell_type": "code",
   "execution_count": 101,
   "metadata": {},
   "outputs": [],
   "source": [
    "total_resources.columns  = [c.upper().replace(' ','_') for c in total_resources]"
   ]
  },
  {
   "cell_type": "code",
   "execution_count": 102,
   "metadata": {},
   "outputs": [],
   "source": [
    "total_resources['ANNEE'] = pd.to_datetime(total_resources['ANNEE'].str.replace('\\t',''))"
   ]
  },
  {
   "cell_type": "code",
   "execution_count": 103,
   "metadata": {},
   "outputs": [],
   "source": [
    "total_resources['TOTAL_BUDGET_ETAT'] = total_resources['TOTAL_BUDGET_ETAT'].str.replace(' ','').astype('Int64')"
   ]
  },
  {
   "cell_type": "code",
   "execution_count": 104,
   "metadata": {},
   "outputs": [
    {
     "data": {
      "text/html": [
       "<div>\n",
       "<style scoped>\n",
       "    .dataframe tbody tr th:only-of-type {\n",
       "        vertical-align: middle;\n",
       "    }\n",
       "\n",
       "    .dataframe tbody tr th {\n",
       "        vertical-align: top;\n",
       "    }\n",
       "\n",
       "    .dataframe thead th {\n",
       "        text-align: right;\n",
       "    }\n",
       "</style>\n",
       "<table border=\"1\" class=\"dataframe\">\n",
       "  <thead>\n",
       "    <tr style=\"text-align: right;\">\n",
       "      <th></th>\n",
       "      <th>ANNEE</th>\n",
       "      <th>TOTAL_BUDGET_ETAT</th>\n",
       "    </tr>\n",
       "  </thead>\n",
       "  <tbody>\n",
       "    <tr>\n",
       "      <th>0</th>\n",
       "      <td>2012-12-31</td>\n",
       "      <td>346759698000</td>\n",
       "    </tr>\n",
       "    <tr>\n",
       "      <th>1</th>\n",
       "      <td>2014-12-31</td>\n",
       "      <td>335177260000</td>\n",
       "    </tr>\n",
       "    <tr>\n",
       "      <th>2</th>\n",
       "      <td>2016-12-31</td>\n",
       "      <td>388916976000</td>\n",
       "    </tr>\n",
       "    <tr>\n",
       "      <th>3</th>\n",
       "      <td>2017-12-31</td>\n",
       "      <td>373096286000</td>\n",
       "    </tr>\n",
       "    <tr>\n",
       "      <th>4</th>\n",
       "      <td>2018-12-31</td>\n",
       "      <td>389538210000</td>\n",
       "    </tr>\n",
       "    <tr>\n",
       "      <th>5</th>\n",
       "      <td>2019-12-31</td>\n",
       "      <td>417516600000</td>\n",
       "    </tr>\n",
       "    <tr>\n",
       "      <th>6</th>\n",
       "      <td>2020-12-31</td>\n",
       "      <td>446734175000</td>\n",
       "    </tr>\n",
       "    <tr>\n",
       "      <th>7</th>\n",
       "      <td>2021-12-31</td>\n",
       "      <td>432106102000</td>\n",
       "    </tr>\n",
       "    <tr>\n",
       "      <th>8</th>\n",
       "      <td>2022-12-31</td>\n",
       "      <td>461191336000</td>\n",
       "    </tr>\n",
       "  </tbody>\n",
       "</table>\n",
       "</div>"
      ],
      "text/plain": [
       "       ANNEE  TOTAL_BUDGET_ETAT\n",
       "0 2012-12-31       346759698000\n",
       "1 2014-12-31       335177260000\n",
       "2 2016-12-31       388916976000\n",
       "3 2017-12-31       373096286000\n",
       "4 2018-12-31       389538210000\n",
       "5 2019-12-31       417516600000\n",
       "6 2020-12-31       446734175000\n",
       "7 2021-12-31       432106102000\n",
       "8 2022-12-31       461191336000"
      ]
     },
     "execution_count": 104,
     "metadata": {},
     "output_type": "execute_result"
    }
   ],
   "source": [
    "total_resources"
   ]
  },
  {
   "cell_type": "code",
   "execution_count": 105,
   "metadata": {},
   "outputs": [
    {
     "data": {
      "text/plain": [
       "[<matplotlib.lines.Line2D at 0x171f7073370>]"
      ]
     },
     "execution_count": 105,
     "metadata": {},
     "output_type": "execute_result"
    },
    {
     "data": {
      "image/png": "[encoded data removed]",
      "text/plain": [
       "<Figure size 1500x500 with 1 Axes>"
      ]
     },
     "metadata": {},
     "output_type": "display_data"
    }
   ],
   "source": [
    "plt.figure(figsize=(15,5))\n",
    "plt.plot(total_resources['ANNEE'].astype(str),total_resources['TOTAL_BUDGET_ETAT'])"
   ]
  },
  {
   "cell_type": "code",
   "execution_count": 106,
   "metadata": {},
   "outputs": [],
   "source": [
    "#Join Data  :\n",
    "inv_et_covid_19_muat_ressources = pd.merge(inv_et_covid_19_muat,total_resources,on='ANNEE')"
   ]
  },
  {
   "cell_type": "code",
   "execution_count": 107,
   "metadata": {},
   "outputs": [
    {
     "data": {
      "text/plain": [
       "ANNEE                  datetime64[ns]\n",
       "INVESTISSEMENT                float64\n",
       "COVID-19                        int32\n",
       "BUDGET_GENERAL_MUAT           float64\n",
       "TOTAL_BUDGET_ETAT               Int64\n",
       "dtype: object"
      ]
     },
     "execution_count": 107,
     "metadata": {},
     "output_type": "execute_result"
    }
   ],
   "source": [
    "inv_et_covid_19_muat_ressources.dtypes"
   ]
  },
  {
   "cell_type": "markdown",
   "metadata": {},
   "source": [
    "#Analyse de Correlation : "
   ]
  },
  {
   "cell_type": "code",
   "execution_count": 108,
   "metadata": {},
   "outputs": [
    {
     "data": {
      "text/html": [
       "<div>\n",
       "<style scoped>\n",
       "    .dataframe tbody tr th:only-of-type {\n",
       "        vertical-align: middle;\n",
       "    }\n",
       "\n",
       "    .dataframe tbody tr th {\n",
       "        vertical-align: top;\n",
       "    }\n",
       "\n",
       "    .dataframe thead th {\n",
       "        text-align: right;\n",
       "    }\n",
       "</style>\n",
       "<table border=\"1\" class=\"dataframe\">\n",
       "  <thead>\n",
       "    <tr style=\"text-align: right;\">\n",
       "      <th></th>\n",
       "      <th>INVESTISSEMENT</th>\n",
       "      <th>COVID-19</th>\n",
       "      <th>BUDGET_GENERAL_MUAT</th>\n",
       "      <th>TOTAL_BUDGET_ETAT</th>\n",
       "    </tr>\n",
       "  </thead>\n",
       "  <tbody>\n",
       "    <tr>\n",
       "      <th>INVESTISSEMENT</th>\n",
       "      <td>1.000000</td>\n",
       "      <td>-0.514183</td>\n",
       "      <td>-0.141916</td>\n",
       "      <td>-0.458793</td>\n",
       "    </tr>\n",
       "    <tr>\n",
       "      <th>COVID-19</th>\n",
       "      <td>-0.514183</td>\n",
       "      <td>1.000000</td>\n",
       "      <td>-0.018990</td>\n",
       "      <td>0.524819</td>\n",
       "    </tr>\n",
       "    <tr>\n",
       "      <th>BUDGET_GENERAL_MUAT</th>\n",
       "      <td>-0.141916</td>\n",
       "      <td>-0.018990</td>\n",
       "      <td>1.000000</td>\n",
       "      <td>0.431765</td>\n",
       "    </tr>\n",
       "    <tr>\n",
       "      <th>TOTAL_BUDGET_ETAT</th>\n",
       "      <td>-0.458793</td>\n",
       "      <td>0.524819</td>\n",
       "      <td>0.431765</td>\n",
       "      <td>1.000000</td>\n",
       "    </tr>\n",
       "  </tbody>\n",
       "</table>\n",
       "</div>"
      ],
      "text/plain": [
       "                     INVESTISSEMENT  COVID-19  BUDGET_GENERAL_MUAT  \\\n",
       "INVESTISSEMENT             1.000000 -0.514183            -0.141916   \n",
       "COVID-19                  -0.514183  1.000000            -0.018990   \n",
       "BUDGET_GENERAL_MUAT       -0.141916 -0.018990             1.000000   \n",
       "TOTAL_BUDGET_ETAT         -0.458793  0.524819             0.431765   \n",
       "\n",
       "                     TOTAL_BUDGET_ETAT  \n",
       "INVESTISSEMENT               -0.458793  \n",
       "COVID-19                      0.524819  \n",
       "BUDGET_GENERAL_MUAT           0.431765  \n",
       "TOTAL_BUDGET_ETAT             1.000000  "
      ]
     },
     "execution_count": 108,
     "metadata": {},
     "output_type": "execute_result"
    }
   ],
   "source": [
    "inv_et_covid_19_muat_ressources.corr()"
   ]
  },
  {
   "cell_type": "code",
   "execution_count": 109,
   "metadata": {},
   "outputs": [],
   "source": [
    "inv_et_covid_19_muat_ressources[['COVID-19','BUDGET_GENERAL_MUAT','TOTAL_BUDGET_ETAT']] = inv_et_covid_19_muat_ressources[['COVID-19','BUDGET_GENERAL_MUAT','TOTAL_BUDGET_ETAT']].astype(float)"
   ]
  },
  {
   "cell_type": "code",
   "execution_count": 110,
   "metadata": {},
   "outputs": [],
   "source": [
    "X = inv_et_covid_19_muat_ressources[['COVID-19','BUDGET_GENERAL_MUAT','TOTAL_BUDGET_ETAT']]\n",
    "y = inv_et_covid_19_muat_ressources['INVESTISSEMENT']"
   ]
  },
  {
   "cell_type": "code",
   "execution_count": 111,
   "metadata": {},
   "outputs": [],
   "source": [
    "X = sm.add_constant(X)"
   ]
  },
  {
   "cell_type": "code",
   "execution_count": 112,
   "metadata": {},
   "outputs": [],
   "source": [
    "model = sm.OLS(y, X).fit()"
   ]
  },
  {
   "cell_type": "code",
   "execution_count": 113,
   "metadata": {},
   "outputs": [
    {
     "name": "stdout",
     "output_type": "stream",
     "text": [
      "                            OLS Regression Results                            \n",
      "==============================================================================\n",
      "Dep. Variable:         INVESTISSEMENT   R-squared:                       0.315\n",
      "Model:                            OLS   Adj. R-squared:                 -0.095\n",
      "Method:                 Least Squares   F-statistic:                    0.7681\n",
      "Date:                Sat, 27 May 2023   Prob (F-statistic):              0.559\n",
      "Time:                        15:39:09   Log-Likelihood:                -137.96\n",
      "No. Observations:                   9   AIC:                             283.9\n",
      "Df Residuals:                       5   BIC:                             284.7\n",
      "Df Model:                           3                                         \n",
      "Covariance Type:            nonrobust                                         \n",
      "=======================================================================================\n",
      "                          coef    std err          t      P>|t|      [0.025      0.975]\n",
      "---------------------------------------------------------------------------------------\n",
      "const                6.899e+06   6.42e+06      1.075      0.331   -9.59e+06    2.34e+07\n",
      "COVID-19             -1.26e+06   1.47e+06     -0.859      0.429   -5.03e+06    2.51e+06\n",
      "BUDGET_GENERAL_MUAT    -0.0004      0.004     -0.115      0.913      -0.010       0.009\n",
      "TOTAL_BUDGET_ETAT   -7.432e-06   1.64e-05     -0.453      0.670   -4.96e-05    3.48e-05\n",
      "==============================================================================\n",
      "Omnibus:                        2.901   Durbin-Watson:                   1.723\n",
      "Prob(Omnibus):                  0.234   Jarque-Bera (JB):                1.091\n",
      "Skew:                           0.852   Prob(JB):                        0.580\n",
      "Kurtosis:                       2.958   Cond. No.                     5.24e+12\n",
      "==============================================================================\n",
      "\n",
      "Notes:\n",
      "[1] Standard Errors assume that the covariance matrix of the errors is correctly specified.\n",
      "[2] The condition number is large, 5.24e+12. This might indicate that there are\n",
      "strong multicollinearity or other numerical problems.\n"
     ]
    },
    {
     "name": "stderr",
     "output_type": "stream",
     "text": [
      "C:\\ProgramData\\Anaconda3\\lib\\site-packages\\scipy\\stats\\_stats_py.py:1769: UserWarning: kurtosistest only valid for n>=20 ... continuing anyway, n=9\n",
      "  warnings.warn(\"kurtosistest only valid for n>=20 ... continuing \"\n"
     ]
    }
   ],
   "source": [
    "print(model.summary())"
   ]
  },
  {
   "cell_type": "code",
   "execution_count": 114,
   "metadata": {},
   "outputs": [
    {
     "data": {
      "text/html": [
       "<div>\n",
       "<style scoped>\n",
       "    .dataframe tbody tr th:only-of-type {\n",
       "        vertical-align: middle;\n",
       "    }\n",
       "\n",
       "    .dataframe tbody tr th {\n",
       "        vertical-align: top;\n",
       "    }\n",
       "\n",
       "    .dataframe thead th {\n",
       "        text-align: right;\n",
       "    }\n",
       "</style>\n",
       "<table border=\"1\" class=\"dataframe\">\n",
       "  <thead>\n",
       "    <tr style=\"text-align: right;\">\n",
       "      <th></th>\n",
       "      <th>ANNEE</th>\n",
       "      <th>INVESTISSEMENT</th>\n",
       "      <th>COVID-19</th>\n",
       "      <th>BUDGET_GENERAL_MUAT</th>\n",
       "      <th>TOTAL_BUDGET_ETAT</th>\n",
       "    </tr>\n",
       "  </thead>\n",
       "  <tbody>\n",
       "    <tr>\n",
       "      <th>0</th>\n",
       "      <td>2012-12-31</td>\n",
       "      <td>6018915.20</td>\n",
       "      <td>0.0</td>\n",
       "      <td>1.592567e+09</td>\n",
       "      <td>3.467597e+11</td>\n",
       "    </tr>\n",
       "    <tr>\n",
       "      <th>1</th>\n",
       "      <td>2014-12-31</td>\n",
       "      <td>3028316.26</td>\n",
       "      <td>0.0</td>\n",
       "      <td>1.563007e+09</td>\n",
       "      <td>3.351773e+11</td>\n",
       "    </tr>\n",
       "    <tr>\n",
       "      <th>2</th>\n",
       "      <td>2016-12-31</td>\n",
       "      <td>2990576.00</td>\n",
       "      <td>0.0</td>\n",
       "      <td>1.864444e+09</td>\n",
       "      <td>3.889170e+11</td>\n",
       "    </tr>\n",
       "    <tr>\n",
       "      <th>3</th>\n",
       "      <td>2017-12-31</td>\n",
       "      <td>1927951.60</td>\n",
       "      <td>0.0</td>\n",
       "      <td>1.817688e+09</td>\n",
       "      <td>3.730963e+11</td>\n",
       "    </tr>\n",
       "    <tr>\n",
       "      <th>4</th>\n",
       "      <td>2018-12-31</td>\n",
       "      <td>2512974.96</td>\n",
       "      <td>0.0</td>\n",
       "      <td>1.912214e+09</td>\n",
       "      <td>3.895382e+11</td>\n",
       "    </tr>\n",
       "    <tr>\n",
       "      <th>5</th>\n",
       "      <td>2019-12-31</td>\n",
       "      <td>3358883.60</td>\n",
       "      <td>0.0</td>\n",
       "      <td>1.944141e+09</td>\n",
       "      <td>4.175166e+11</td>\n",
       "    </tr>\n",
       "    <tr>\n",
       "      <th>6</th>\n",
       "      <td>2020-12-31</td>\n",
       "      <td>2468179.00</td>\n",
       "      <td>1.0</td>\n",
       "      <td>1.967757e+09</td>\n",
       "      <td>4.467342e+11</td>\n",
       "    </tr>\n",
       "    <tr>\n",
       "      <th>7</th>\n",
       "      <td>2021-12-31</td>\n",
       "      <td>746343.60</td>\n",
       "      <td>1.0</td>\n",
       "      <td>1.576438e+09</td>\n",
       "      <td>4.321061e+11</td>\n",
       "    </tr>\n",
       "    <tr>\n",
       "      <th>8</th>\n",
       "      <td>2022-12-31</td>\n",
       "      <td>2913370.00</td>\n",
       "      <td>0.0</td>\n",
       "      <td>1.759722e+09</td>\n",
       "      <td>4.611913e+11</td>\n",
       "    </tr>\n",
       "  </tbody>\n",
       "</table>\n",
       "</div>"
      ],
      "text/plain": [
       "       ANNEE  INVESTISSEMENT  COVID-19  BUDGET_GENERAL_MUAT  TOTAL_BUDGET_ETAT\n",
       "0 2012-12-31      6018915.20       0.0         1.592567e+09       3.467597e+11\n",
       "1 2014-12-31      3028316.26       0.0         1.563007e+09       3.351773e+11\n",
       "2 2016-12-31      2990576.00       0.0         1.864444e+09       3.889170e+11\n",
       "3 2017-12-31      1927951.60       0.0         1.817688e+09       3.730963e+11\n",
       "4 2018-12-31      2512974.96       0.0         1.912214e+09       3.895382e+11\n",
       "5 2019-12-31      3358883.60       0.0         1.944141e+09       4.175166e+11\n",
       "6 2020-12-31      2468179.00       1.0         1.967757e+09       4.467342e+11\n",
       "7 2021-12-31       746343.60       1.0         1.576438e+09       4.321061e+11\n",
       "8 2022-12-31      2913370.00       0.0         1.759722e+09       4.611913e+11"
      ]
     },
     "execution_count": 114,
     "metadata": {},
     "output_type": "execute_result"
    }
   ],
   "source": [
    "inv_et_covid_19_muat_ressources"
   ]
  },
  {
   "cell_type": "code",
   "execution_count": 115,
   "metadata": {},
   "outputs": [
    {
     "data": {
      "text/plain": [
       "\"  \\n    selon les résultats de cette régression, la seule variable qui semble avoir une relation potentiellement \\n    significative avec la chute de l'investissement en 2021 est COVID-19, bien que cette relation ne soit pas statistiquement significative à \\n    un niveau de confiance de 95%. Les variables BUDGET_GENERAL_MUAT et TOTAL_BUDGET_ETAT ne semblent pas avoir une influence significative sur \\n    l'investissement dans cette analyse\\n\""
      ]
     },
     "execution_count": 115,
     "metadata": {},
     "output_type": "execute_result"
    }
   ],
   "source": [
    "'''  \n",
    "    selon les résultats de cette régression, la seule variable qui semble avoir une relation potentiellement \n",
    "    significative avec la chute de l'investissement en 2021 est COVID-19, bien que cette relation ne soit pas statistiquement significative à \n",
    "    un niveau de confiance de 95%. Les variables BUDGET_GENERAL_MUAT et TOTAL_BUDGET_ETAT ne semblent pas avoir une influence significative sur \n",
    "    l'investissement dans cette analyse\n",
    "'''"
   ]
  },
  {
   "cell_type": "code",
   "execution_count": 116,
   "metadata": {},
   "outputs": [],
   "source": [
    "pib = pd.read_excel('Données_Supp/PIB_au_maroc.xlsx')"
   ]
  },
  {
   "cell_type": "code",
   "execution_count": 117,
   "metadata": {},
   "outputs": [],
   "source": [
    "pib['ANNEE'] = pd.to_datetime(pib['ANNEE'].str.replace('\\t',''))"
   ]
  },
  {
   "cell_type": "code",
   "execution_count": 118,
   "metadata": {},
   "outputs": [],
   "source": [
    "inv_et_covid_19_muat_ressources_pib = pd.merge(inv_et_covid_19_muat_ressources,pib,on='ANNEE')"
   ]
  },
  {
   "cell_type": "code",
   "execution_count": 119,
   "metadata": {},
   "outputs": [
    {
     "data": {
      "text/html": [
       "<div>\n",
       "<style scoped>\n",
       "    .dataframe tbody tr th:only-of-type {\n",
       "        vertical-align: middle;\n",
       "    }\n",
       "\n",
       "    .dataframe tbody tr th {\n",
       "        vertical-align: top;\n",
       "    }\n",
       "\n",
       "    .dataframe thead th {\n",
       "        text-align: right;\n",
       "    }\n",
       "</style>\n",
       "<table border=\"1\" class=\"dataframe\">\n",
       "  <thead>\n",
       "    <tr style=\"text-align: right;\">\n",
       "      <th></th>\n",
       "      <th>ANNEE</th>\n",
       "      <th>INVESTISSEMENT</th>\n",
       "      <th>COVID-19</th>\n",
       "      <th>BUDGET_GENERAL_MUAT</th>\n",
       "      <th>TOTAL_BUDGET_ETAT</th>\n",
       "      <th>PIB</th>\n",
       "    </tr>\n",
       "  </thead>\n",
       "  <tbody>\n",
       "    <tr>\n",
       "      <th>0</th>\n",
       "      <td>2012-12-31</td>\n",
       "      <td>6018915.20</td>\n",
       "      <td>0.0</td>\n",
       "      <td>1.592567e+09</td>\n",
       "      <td>3.467597e+11</td>\n",
       "      <td>3.010</td>\n",
       "    </tr>\n",
       "    <tr>\n",
       "      <th>1</th>\n",
       "      <td>2014-12-31</td>\n",
       "      <td>3028316.26</td>\n",
       "      <td>0.0</td>\n",
       "      <td>1.563007e+09</td>\n",
       "      <td>3.351773e+11</td>\n",
       "      <td>19.050</td>\n",
       "    </tr>\n",
       "    <tr>\n",
       "      <th>2</th>\n",
       "      <td>2016-12-31</td>\n",
       "      <td>2990576.00</td>\n",
       "      <td>0.0</td>\n",
       "      <td>1.864444e+09</td>\n",
       "      <td>3.889170e+11</td>\n",
       "      <td>0.520</td>\n",
       "    </tr>\n",
       "    <tr>\n",
       "      <th>3</th>\n",
       "      <td>2017-12-31</td>\n",
       "      <td>1927951.60</td>\n",
       "      <td>0.0</td>\n",
       "      <td>1.817688e+09</td>\n",
       "      <td>3.730963e+11</td>\n",
       "      <td>5.058</td>\n",
       "    </tr>\n",
       "    <tr>\n",
       "      <th>4</th>\n",
       "      <td>2018-12-31</td>\n",
       "      <td>2512974.96</td>\n",
       "      <td>0.0</td>\n",
       "      <td>1.912214e+09</td>\n",
       "      <td>3.895382e+11</td>\n",
       "      <td>3.066</td>\n",
       "    </tr>\n",
       "    <tr>\n",
       "      <th>5</th>\n",
       "      <td>2019-12-31</td>\n",
       "      <td>3358883.60</td>\n",
       "      <td>0.0</td>\n",
       "      <td>1.944141e+09</td>\n",
       "      <td>4.175166e+11</td>\n",
       "      <td>2.891</td>\n",
       "    </tr>\n",
       "    <tr>\n",
       "      <th>6</th>\n",
       "      <td>2020-12-31</td>\n",
       "      <td>2468179.00</td>\n",
       "      <td>1.0</td>\n",
       "      <td>1.967757e+09</td>\n",
       "      <td>4.467342e+11</td>\n",
       "      <td>-7.187</td>\n",
       "    </tr>\n",
       "    <tr>\n",
       "      <th>7</th>\n",
       "      <td>2021-12-31</td>\n",
       "      <td>746343.60</td>\n",
       "      <td>1.0</td>\n",
       "      <td>1.576438e+09</td>\n",
       "      <td>4.321061e+11</td>\n",
       "      <td>7.930</td>\n",
       "    </tr>\n",
       "    <tr>\n",
       "      <th>8</th>\n",
       "      <td>2022-12-31</td>\n",
       "      <td>2913370.00</td>\n",
       "      <td>0.0</td>\n",
       "      <td>1.759722e+09</td>\n",
       "      <td>4.611913e+11</td>\n",
       "      <td>1.200</td>\n",
       "    </tr>\n",
       "  </tbody>\n",
       "</table>\n",
       "</div>"
      ],
      "text/plain": [
       "       ANNEE  INVESTISSEMENT  COVID-19  BUDGET_GENERAL_MUAT  \\\n",
       "0 2012-12-31      6018915.20       0.0         1.592567e+09   \n",
       "1 2014-12-31      3028316.26       0.0         1.563007e+09   \n",
       "2 2016-12-31      2990576.00       0.0         1.864444e+09   \n",
       "3 2017-12-31      1927951.60       0.0         1.817688e+09   \n",
       "4 2018-12-31      2512974.96       0.0         1.912214e+09   \n",
       "5 2019-12-31      3358883.60       0.0         1.944141e+09   \n",
       "6 2020-12-31      2468179.00       1.0         1.967757e+09   \n",
       "7 2021-12-31       746343.60       1.0         1.576438e+09   \n",
       "8 2022-12-31      2913370.00       0.0         1.759722e+09   \n",
       "\n",
       "   TOTAL_BUDGET_ETAT     PIB  \n",
       "0       3.467597e+11   3.010  \n",
       "1       3.351773e+11  19.050  \n",
       "2       3.889170e+11   0.520  \n",
       "3       3.730963e+11   5.058  \n",
       "4       3.895382e+11   3.066  \n",
       "5       4.175166e+11   2.891  \n",
       "6       4.467342e+11  -7.187  \n",
       "7       4.321061e+11   7.930  \n",
       "8       4.611913e+11   1.200  "
      ]
     },
     "execution_count": 119,
     "metadata": {},
     "output_type": "execute_result"
    }
   ],
   "source": [
    "inv_et_covid_19_muat_ressources_pib"
   ]
  },
  {
   "cell_type": "markdown",
   "metadata": {},
   "source": [
    "Analyse de Correlation : "
   ]
  },
  {
   "cell_type": "code",
   "execution_count": 120,
   "metadata": {},
   "outputs": [
    {
     "data": {
      "text/html": [
       "<div>\n",
       "<style scoped>\n",
       "    .dataframe tbody tr th:only-of-type {\n",
       "        vertical-align: middle;\n",
       "    }\n",
       "\n",
       "    .dataframe tbody tr th {\n",
       "        vertical-align: top;\n",
       "    }\n",
       "\n",
       "    .dataframe thead th {\n",
       "        text-align: right;\n",
       "    }\n",
       "</style>\n",
       "<table border=\"1\" class=\"dataframe\">\n",
       "  <thead>\n",
       "    <tr style=\"text-align: right;\">\n",
       "      <th></th>\n",
       "      <th>INVESTISSEMENT</th>\n",
       "      <th>COVID-19</th>\n",
       "      <th>BUDGET_GENERAL_MUAT</th>\n",
       "      <th>TOTAL_BUDGET_ETAT</th>\n",
       "      <th>PIB</th>\n",
       "    </tr>\n",
       "  </thead>\n",
       "  <tbody>\n",
       "    <tr>\n",
       "      <th>INVESTISSEMENT</th>\n",
       "      <td>1.000000</td>\n",
       "      <td>-0.514183</td>\n",
       "      <td>-0.141916</td>\n",
       "      <td>-0.458793</td>\n",
       "      <td>-0.080245</td>\n",
       "    </tr>\n",
       "    <tr>\n",
       "      <th>COVID-19</th>\n",
       "      <td>-0.514183</td>\n",
       "      <td>1.000000</td>\n",
       "      <td>-0.018990</td>\n",
       "      <td>0.524819</td>\n",
       "      <td>-0.290010</td>\n",
       "    </tr>\n",
       "    <tr>\n",
       "      <th>BUDGET_GENERAL_MUAT</th>\n",
       "      <td>-0.141916</td>\n",
       "      <td>-0.018990</td>\n",
       "      <td>1.000000</td>\n",
       "      <td>0.431765</td>\n",
       "      <td>-0.711623</td>\n",
       "    </tr>\n",
       "    <tr>\n",
       "      <th>TOTAL_BUDGET_ETAT</th>\n",
       "      <td>-0.458793</td>\n",
       "      <td>0.524819</td>\n",
       "      <td>0.431765</td>\n",
       "      <td>1.000000</td>\n",
       "      <td>-0.610368</td>\n",
       "    </tr>\n",
       "    <tr>\n",
       "      <th>PIB</th>\n",
       "      <td>-0.080245</td>\n",
       "      <td>-0.290010</td>\n",
       "      <td>-0.711623</td>\n",
       "      <td>-0.610368</td>\n",
       "      <td>1.000000</td>\n",
       "    </tr>\n",
       "  </tbody>\n",
       "</table>\n",
       "</div>"
      ],
      "text/plain": [
       "                     INVESTISSEMENT  COVID-19  BUDGET_GENERAL_MUAT  \\\n",
       "INVESTISSEMENT             1.000000 -0.514183            -0.141916   \n",
       "COVID-19                  -0.514183  1.000000            -0.018990   \n",
       "BUDGET_GENERAL_MUAT       -0.141916 -0.018990             1.000000   \n",
       "TOTAL_BUDGET_ETAT         -0.458793  0.524819             0.431765   \n",
       "PIB                       -0.080245 -0.290010            -0.711623   \n",
       "\n",
       "                     TOTAL_BUDGET_ETAT       PIB  \n",
       "INVESTISSEMENT               -0.458793 -0.080245  \n",
       "COVID-19                      0.524819 -0.290010  \n",
       "BUDGET_GENERAL_MUAT           0.431765 -0.711623  \n",
       "TOTAL_BUDGET_ETAT             1.000000 -0.610368  \n",
       "PIB                          -0.610368  1.000000  "
      ]
     },
     "execution_count": 120,
     "metadata": {},
     "output_type": "execute_result"
    }
   ],
   "source": [
    "inv_et_covid_19_muat_ressources_pib.corr()"
   ]
  },
  {
   "cell_type": "code",
   "execution_count": 121,
   "metadata": {},
   "outputs": [],
   "source": [
    "X = inv_et_covid_19_muat_ressources_pib[['COVID-19','BUDGET_GENERAL_MUAT','TOTAL_BUDGET_ETAT','PIB']]\n",
    "y = inv_et_covid_19_muat_ressources_pib['INVESTISSEMENT']"
   ]
  },
  {
   "cell_type": "code",
   "execution_count": 122,
   "metadata": {},
   "outputs": [],
   "source": [
    "X = sm.add_constant(X)"
   ]
  },
  {
   "cell_type": "code",
   "execution_count": 123,
   "metadata": {},
   "outputs": [],
   "source": [
    "model = sm.OLS(y,X).fit()"
   ]
  },
  {
   "cell_type": "code",
   "execution_count": 124,
   "metadata": {},
   "outputs": [
    {
     "name": "stdout",
     "output_type": "stream",
     "text": [
      "                            OLS Regression Results                            \n",
      "==============================================================================\n",
      "Dep. Variable:         INVESTISSEMENT   R-squared:                       0.693\n",
      "Model:                            OLS   Adj. R-squared:                  0.387\n",
      "Method:                 Least Squares   F-statistic:                     2.261\n",
      "Date:                Sat, 27 May 2023   Prob (F-statistic):              0.224\n",
      "Time:                        15:39:10   Log-Likelihood:                -134.35\n",
      "No. Observations:                   9   AIC:                             278.7\n",
      "Df Residuals:                       4   BIC:                             279.7\n",
      "Df Model:                           4                                         \n",
      "Covariance Type:            nonrobust                                         \n",
      "=======================================================================================\n",
      "                          coef    std err          t      P>|t|      [0.025      0.975]\n",
      "---------------------------------------------------------------------------------------\n",
      "const                2.072e+07   7.86e+06      2.635      0.058   -1.11e+06    4.26e+07\n",
      "COVID-19            -1.785e+06   1.12e+06     -1.591      0.187    -4.9e+06    1.33e+06\n",
      "BUDGET_GENERAL_MUAT    -0.0057      0.004     -1.555      0.195      -0.016       0.004\n",
      "TOTAL_BUDGET_ETAT   -1.621e-05   1.29e-05     -1.256      0.277    -5.2e-05    1.96e-05\n",
      "PIB                 -2.053e+05   9.25e+04     -2.220      0.091   -4.62e+05    5.15e+04\n",
      "==============================================================================\n",
      "Omnibus:                        0.393   Durbin-Watson:                   1.402\n",
      "Prob(Omnibus):                  0.822   Jarque-Bera (JB):                0.464\n",
      "Skew:                          -0.214   Prob(JB):                        0.793\n",
      "Kurtosis:                       1.974   Cond. No.                     8.58e+12\n",
      "==============================================================================\n",
      "\n",
      "Notes:\n",
      "[1] Standard Errors assume that the covariance matrix of the errors is correctly specified.\n",
      "[2] The condition number is large, 8.58e+12. This might indicate that there are\n",
      "strong multicollinearity or other numerical problems.\n"
     ]
    },
    {
     "name": "stderr",
     "output_type": "stream",
     "text": [
      "C:\\ProgramData\\Anaconda3\\lib\\site-packages\\scipy\\stats\\_stats_py.py:1769: UserWarning: kurtosistest only valid for n>=20 ... continuing anyway, n=9\n",
      "  warnings.warn(\"kurtosistest only valid for n>=20 ... continuing \"\n"
     ]
    }
   ],
   "source": [
    "print(model.summary())"
   ]
  },
  {
   "cell_type": "code",
   "execution_count": 125,
   "metadata": {},
   "outputs": [
    {
     "data": {
      "text/html": [
       "<div>\n",
       "<style scoped>\n",
       "    .dataframe tbody tr th:only-of-type {\n",
       "        vertical-align: middle;\n",
       "    }\n",
       "\n",
       "    .dataframe tbody tr th {\n",
       "        vertical-align: top;\n",
       "    }\n",
       "\n",
       "    .dataframe thead th {\n",
       "        text-align: right;\n",
       "    }\n",
       "</style>\n",
       "<table border=\"1\" class=\"dataframe\">\n",
       "  <thead>\n",
       "    <tr style=\"text-align: right;\">\n",
       "      <th></th>\n",
       "      <th>ANNEE</th>\n",
       "      <th>INVESTISSEMENT</th>\n",
       "      <th>COVID-19</th>\n",
       "      <th>BUDGET_GENERAL_MUAT</th>\n",
       "      <th>TOTAL_BUDGET_ETAT</th>\n",
       "      <th>PIB</th>\n",
       "    </tr>\n",
       "  </thead>\n",
       "  <tbody>\n",
       "    <tr>\n",
       "      <th>0</th>\n",
       "      <td>2012-12-31</td>\n",
       "      <td>6018915.20</td>\n",
       "      <td>0.0</td>\n",
       "      <td>1.592567e+09</td>\n",
       "      <td>3.467597e+11</td>\n",
       "      <td>3.010</td>\n",
       "    </tr>\n",
       "    <tr>\n",
       "      <th>1</th>\n",
       "      <td>2014-12-31</td>\n",
       "      <td>3028316.26</td>\n",
       "      <td>0.0</td>\n",
       "      <td>1.563007e+09</td>\n",
       "      <td>3.351773e+11</td>\n",
       "      <td>19.050</td>\n",
       "    </tr>\n",
       "    <tr>\n",
       "      <th>2</th>\n",
       "      <td>2016-12-31</td>\n",
       "      <td>2990576.00</td>\n",
       "      <td>0.0</td>\n",
       "      <td>1.864444e+09</td>\n",
       "      <td>3.889170e+11</td>\n",
       "      <td>0.520</td>\n",
       "    </tr>\n",
       "    <tr>\n",
       "      <th>3</th>\n",
       "      <td>2017-12-31</td>\n",
       "      <td>1927951.60</td>\n",
       "      <td>0.0</td>\n",
       "      <td>1.817688e+09</td>\n",
       "      <td>3.730963e+11</td>\n",
       "      <td>5.058</td>\n",
       "    </tr>\n",
       "    <tr>\n",
       "      <th>4</th>\n",
       "      <td>2018-12-31</td>\n",
       "      <td>2512974.96</td>\n",
       "      <td>0.0</td>\n",
       "      <td>1.912214e+09</td>\n",
       "      <td>3.895382e+11</td>\n",
       "      <td>3.066</td>\n",
       "    </tr>\n",
       "    <tr>\n",
       "      <th>5</th>\n",
       "      <td>2019-12-31</td>\n",
       "      <td>3358883.60</td>\n",
       "      <td>0.0</td>\n",
       "      <td>1.944141e+09</td>\n",
       "      <td>4.175166e+11</td>\n",
       "      <td>2.891</td>\n",
       "    </tr>\n",
       "    <tr>\n",
       "      <th>6</th>\n",
       "      <td>2020-12-31</td>\n",
       "      <td>2468179.00</td>\n",
       "      <td>1.0</td>\n",
       "      <td>1.967757e+09</td>\n",
       "      <td>4.467342e+11</td>\n",
       "      <td>-7.187</td>\n",
       "    </tr>\n",
       "    <tr>\n",
       "      <th>7</th>\n",
       "      <td>2021-12-31</td>\n",
       "      <td>746343.60</td>\n",
       "      <td>1.0</td>\n",
       "      <td>1.576438e+09</td>\n",
       "      <td>4.321061e+11</td>\n",
       "      <td>7.930</td>\n",
       "    </tr>\n",
       "    <tr>\n",
       "      <th>8</th>\n",
       "      <td>2022-12-31</td>\n",
       "      <td>2913370.00</td>\n",
       "      <td>0.0</td>\n",
       "      <td>1.759722e+09</td>\n",
       "      <td>4.611913e+11</td>\n",
       "      <td>1.200</td>\n",
       "    </tr>\n",
       "  </tbody>\n",
       "</table>\n",
       "</div>"
      ],
      "text/plain": [
       "       ANNEE  INVESTISSEMENT  COVID-19  BUDGET_GENERAL_MUAT  \\\n",
       "0 2012-12-31      6018915.20       0.0         1.592567e+09   \n",
       "1 2014-12-31      3028316.26       0.0         1.563007e+09   \n",
       "2 2016-12-31      2990576.00       0.0         1.864444e+09   \n",
       "3 2017-12-31      1927951.60       0.0         1.817688e+09   \n",
       "4 2018-12-31      2512974.96       0.0         1.912214e+09   \n",
       "5 2019-12-31      3358883.60       0.0         1.944141e+09   \n",
       "6 2020-12-31      2468179.00       1.0         1.967757e+09   \n",
       "7 2021-12-31       746343.60       1.0         1.576438e+09   \n",
       "8 2022-12-31      2913370.00       0.0         1.759722e+09   \n",
       "\n",
       "   TOTAL_BUDGET_ETAT     PIB  \n",
       "0       3.467597e+11   3.010  \n",
       "1       3.351773e+11  19.050  \n",
       "2       3.889170e+11   0.520  \n",
       "3       3.730963e+11   5.058  \n",
       "4       3.895382e+11   3.066  \n",
       "5       4.175166e+11   2.891  \n",
       "6       4.467342e+11  -7.187  \n",
       "7       4.321061e+11   7.930  \n",
       "8       4.611913e+11   1.200  "
      ]
     },
     "execution_count": 125,
     "metadata": {},
     "output_type": "execute_result"
    }
   ],
   "source": [
    "inv_et_covid_19_muat_ressources_pib"
   ]
  },
  {
   "cell_type": "code",
   "execution_count": 126,
   "metadata": {},
   "outputs": [],
   "source": [
    "taux_immobilier = pd.read_excel('Données_Supp/Contribution_du_secteur_immobilier.xlsx')"
   ]
  },
  {
   "cell_type": "code",
   "execution_count": 127,
   "metadata": {},
   "outputs": [],
   "source": [
    "taux_immobilier['ANNEE'] = pd.to_datetime(taux_immobilier['ANNEE'].str.replace('\\t',''))"
   ]
  },
  {
   "cell_type": "code",
   "execution_count": 128,
   "metadata": {},
   "outputs": [
    {
     "data": {
      "text/plain": [
       "<AxesSubplot:xlabel='ANNEE'>"
      ]
     },
     "execution_count": 128,
     "metadata": {},
     "output_type": "execute_result"
    },
    {
     "data": {
      "image/png": "[encoded data removed]",
      "text/plain": [
       "<Figure size 1500x500 with 1 Axes>"
      ]
     },
     "metadata": {},
     "output_type": "display_data"
    }
   ],
   "source": [
    "taux_immobilier.set_index('ANNEE').plot(figsize=(15,5))"
   ]
  },
  {
   "cell_type": "code",
   "execution_count": 129,
   "metadata": {},
   "outputs": [],
   "source": [
    "inv_et_covid_19_muat_ressources_pib_immo = pd.merge(inv_et_covid_19_muat_ressources_pib,taux_immobilier,on='ANNEE')"
   ]
  },
  {
   "cell_type": "code",
   "execution_count": 130,
   "metadata": {},
   "outputs": [
    {
     "data": {
      "text/html": [
       "<div>\n",
       "<style scoped>\n",
       "    .dataframe tbody tr th:only-of-type {\n",
       "        vertical-align: middle;\n",
       "    }\n",
       "\n",
       "    .dataframe tbody tr th {\n",
       "        vertical-align: top;\n",
       "    }\n",
       "\n",
       "    .dataframe thead th {\n",
       "        text-align: right;\n",
       "    }\n",
       "</style>\n",
       "<table border=\"1\" class=\"dataframe\">\n",
       "  <thead>\n",
       "    <tr style=\"text-align: right;\">\n",
       "      <th></th>\n",
       "      <th>ANNEE</th>\n",
       "      <th>INVESTISSEMENT</th>\n",
       "      <th>COVID-19</th>\n",
       "      <th>BUDGET_GENERAL_MUAT</th>\n",
       "      <th>TOTAL_BUDGET_ETAT</th>\n",
       "      <th>PIB</th>\n",
       "      <th>TAUX_IMMOBILIER</th>\n",
       "    </tr>\n",
       "  </thead>\n",
       "  <tbody>\n",
       "    <tr>\n",
       "      <th>0</th>\n",
       "      <td>2012-12-31</td>\n",
       "      <td>6018915.20</td>\n",
       "      <td>0.0</td>\n",
       "      <td>1.592567e+09</td>\n",
       "      <td>3.467597e+11</td>\n",
       "      <td>3.010</td>\n",
       "      <td>0.2651</td>\n",
       "    </tr>\n",
       "    <tr>\n",
       "      <th>1</th>\n",
       "      <td>2014-12-31</td>\n",
       "      <td>3028316.26</td>\n",
       "      <td>0.0</td>\n",
       "      <td>1.563007e+09</td>\n",
       "      <td>3.351773e+11</td>\n",
       "      <td>19.050</td>\n",
       "      <td>0.2660</td>\n",
       "    </tr>\n",
       "    <tr>\n",
       "      <th>2</th>\n",
       "      <td>2016-12-31</td>\n",
       "      <td>2990576.00</td>\n",
       "      <td>0.0</td>\n",
       "      <td>1.864444e+09</td>\n",
       "      <td>3.889170e+11</td>\n",
       "      <td>0.520</td>\n",
       "      <td>0.2578</td>\n",
       "    </tr>\n",
       "    <tr>\n",
       "      <th>3</th>\n",
       "      <td>2017-12-31</td>\n",
       "      <td>1927951.60</td>\n",
       "      <td>0.0</td>\n",
       "      <td>1.817688e+09</td>\n",
       "      <td>3.730963e+11</td>\n",
       "      <td>5.058</td>\n",
       "      <td>0.2605</td>\n",
       "    </tr>\n",
       "    <tr>\n",
       "      <th>4</th>\n",
       "      <td>2018-12-31</td>\n",
       "      <td>2512974.96</td>\n",
       "      <td>0.0</td>\n",
       "      <td>1.912214e+09</td>\n",
       "      <td>3.895382e+11</td>\n",
       "      <td>3.066</td>\n",
       "      <td>0.2613</td>\n",
       "    </tr>\n",
       "    <tr>\n",
       "      <th>5</th>\n",
       "      <td>2019-12-31</td>\n",
       "      <td>3358883.60</td>\n",
       "      <td>0.0</td>\n",
       "      <td>1.944141e+09</td>\n",
       "      <td>4.175166e+11</td>\n",
       "      <td>2.891</td>\n",
       "      <td>0.2562</td>\n",
       "    </tr>\n",
       "    <tr>\n",
       "      <th>6</th>\n",
       "      <td>2020-12-31</td>\n",
       "      <td>2468179.00</td>\n",
       "      <td>1.0</td>\n",
       "      <td>1.967757e+09</td>\n",
       "      <td>4.467342e+11</td>\n",
       "      <td>-7.187</td>\n",
       "      <td>0.2511</td>\n",
       "    </tr>\n",
       "    <tr>\n",
       "      <th>7</th>\n",
       "      <td>2021-12-31</td>\n",
       "      <td>746343.60</td>\n",
       "      <td>1.0</td>\n",
       "      <td>1.576438e+09</td>\n",
       "      <td>4.321061e+11</td>\n",
       "      <td>7.930</td>\n",
       "      <td>0.2473</td>\n",
       "    </tr>\n",
       "    <tr>\n",
       "      <th>8</th>\n",
       "      <td>2022-12-31</td>\n",
       "      <td>2913370.00</td>\n",
       "      <td>0.0</td>\n",
       "      <td>1.759722e+09</td>\n",
       "      <td>4.611913e+11</td>\n",
       "      <td>1.200</td>\n",
       "      <td>0.2425</td>\n",
       "    </tr>\n",
       "  </tbody>\n",
       "</table>\n",
       "</div>"
      ],
      "text/plain": [
       "       ANNEE  INVESTISSEMENT  COVID-19  BUDGET_GENERAL_MUAT  \\\n",
       "0 2012-12-31      6018915.20       0.0         1.592567e+09   \n",
       "1 2014-12-31      3028316.26       0.0         1.563007e+09   \n",
       "2 2016-12-31      2990576.00       0.0         1.864444e+09   \n",
       "3 2017-12-31      1927951.60       0.0         1.817688e+09   \n",
       "4 2018-12-31      2512974.96       0.0         1.912214e+09   \n",
       "5 2019-12-31      3358883.60       0.0         1.944141e+09   \n",
       "6 2020-12-31      2468179.00       1.0         1.967757e+09   \n",
       "7 2021-12-31       746343.60       1.0         1.576438e+09   \n",
       "8 2022-12-31      2913370.00       0.0         1.759722e+09   \n",
       "\n",
       "   TOTAL_BUDGET_ETAT     PIB  TAUX_IMMOBILIER  \n",
       "0       3.467597e+11   3.010           0.2651  \n",
       "1       3.351773e+11  19.050           0.2660  \n",
       "2       3.889170e+11   0.520           0.2578  \n",
       "3       3.730963e+11   5.058           0.2605  \n",
       "4       3.895382e+11   3.066           0.2613  \n",
       "5       4.175166e+11   2.891           0.2562  \n",
       "6       4.467342e+11  -7.187           0.2511  \n",
       "7       4.321061e+11   7.930           0.2473  \n",
       "8       4.611913e+11   1.200           0.2425  "
      ]
     },
     "execution_count": 130,
     "metadata": {},
     "output_type": "execute_result"
    }
   ],
   "source": [
    "inv_et_covid_19_muat_ressources_pib_immo"
   ]
  },
  {
   "cell_type": "code",
   "execution_count": 166,
   "metadata": {},
   "outputs": [
    {
     "data": {
      "text/html": [
       "<div>\n",
       "<style scoped>\n",
       "    .dataframe tbody tr th:only-of-type {\n",
       "        vertical-align: middle;\n",
       "    }\n",
       "\n",
       "    .dataframe tbody tr th {\n",
       "        vertical-align: top;\n",
       "    }\n",
       "\n",
       "    .dataframe thead th {\n",
       "        text-align: right;\n",
       "    }\n",
       "</style>\n",
       "<table border=\"1\" class=\"dataframe\">\n",
       "  <thead>\n",
       "    <tr style=\"text-align: right;\">\n",
       "      <th></th>\n",
       "      <th>INVESTISSEMENT</th>\n",
       "      <th>COVID-19</th>\n",
       "      <th>BUDGET_GENERAL_MUAT</th>\n",
       "      <th>TOTAL_BUDGET_ETAT</th>\n",
       "      <th>PIB</th>\n",
       "      <th>TAUX_IMMOBILIER</th>\n",
       "    </tr>\n",
       "  </thead>\n",
       "  <tbody>\n",
       "    <tr>\n",
       "      <th>count</th>\n",
       "      <td>9.000000e+00</td>\n",
       "      <td>9.000000</td>\n",
       "      <td>9.000000e+00</td>\n",
       "      <td>9.000000e+00</td>\n",
       "      <td>9.000000</td>\n",
       "      <td>9.000000</td>\n",
       "    </tr>\n",
       "    <tr>\n",
       "      <th>mean</th>\n",
       "      <td>2.885057e+06</td>\n",
       "      <td>0.222222</td>\n",
       "      <td>1.777553e+09</td>\n",
       "      <td>3.990041e+11</td>\n",
       "      <td>3.948667</td>\n",
       "      <td>0.256422</td>\n",
       "    </tr>\n",
       "    <tr>\n",
       "      <th>std</th>\n",
       "      <td>1.408919e+06</td>\n",
       "      <td>0.440959</td>\n",
       "      <td>1.628798e+08</td>\n",
       "      <td>4.366031e+10</td>\n",
       "      <td>6.993075</td>\n",
       "      <td>0.008022</td>\n",
       "    </tr>\n",
       "    <tr>\n",
       "      <th>min</th>\n",
       "      <td>7.463436e+05</td>\n",
       "      <td>0.000000</td>\n",
       "      <td>1.563007e+09</td>\n",
       "      <td>3.351773e+11</td>\n",
       "      <td>-7.187000</td>\n",
       "      <td>0.242500</td>\n",
       "    </tr>\n",
       "    <tr>\n",
       "      <th>25%</th>\n",
       "      <td>2.468179e+06</td>\n",
       "      <td>0.000000</td>\n",
       "      <td>1.592567e+09</td>\n",
       "      <td>3.730963e+11</td>\n",
       "      <td>1.200000</td>\n",
       "      <td>0.251100</td>\n",
       "    </tr>\n",
       "    <tr>\n",
       "      <th>50%</th>\n",
       "      <td>2.913370e+06</td>\n",
       "      <td>0.000000</td>\n",
       "      <td>1.817688e+09</td>\n",
       "      <td>3.895382e+11</td>\n",
       "      <td>3.010000</td>\n",
       "      <td>0.257800</td>\n",
       "    </tr>\n",
       "    <tr>\n",
       "      <th>75%</th>\n",
       "      <td>3.028316e+06</td>\n",
       "      <td>0.000000</td>\n",
       "      <td>1.912214e+09</td>\n",
       "      <td>4.321061e+11</td>\n",
       "      <td>5.058000</td>\n",
       "      <td>0.261300</td>\n",
       "    </tr>\n",
       "    <tr>\n",
       "      <th>max</th>\n",
       "      <td>6.018915e+06</td>\n",
       "      <td>1.000000</td>\n",
       "      <td>1.967757e+09</td>\n",
       "      <td>4.611913e+11</td>\n",
       "      <td>19.050000</td>\n",
       "      <td>0.266000</td>\n",
       "    </tr>\n",
       "  </tbody>\n",
       "</table>\n",
       "</div>"
      ],
      "text/plain": [
       "       INVESTISSEMENT  COVID-19  BUDGET_GENERAL_MUAT  TOTAL_BUDGET_ETAT  \\\n",
       "count    9.000000e+00  9.000000         9.000000e+00       9.000000e+00   \n",
       "mean     2.885057e+06  0.222222         1.777553e+09       3.990041e+11   \n",
       "std      1.408919e+06  0.440959         1.628798e+08       4.366031e+10   \n",
       "min      7.463436e+05  0.000000         1.563007e+09       3.351773e+11   \n",
       "25%      2.468179e+06  0.000000         1.592567e+09       3.730963e+11   \n",
       "50%      2.913370e+06  0.000000         1.817688e+09       3.895382e+11   \n",
       "75%      3.028316e+06  0.000000         1.912214e+09       4.321061e+11   \n",
       "max      6.018915e+06  1.000000         1.967757e+09       4.611913e+11   \n",
       "\n",
       "             PIB  TAUX_IMMOBILIER  \n",
       "count   9.000000         9.000000  \n",
       "mean    3.948667         0.256422  \n",
       "std     6.993075         0.008022  \n",
       "min    -7.187000         0.242500  \n",
       "25%     1.200000         0.251100  \n",
       "50%     3.010000         0.257800  \n",
       "75%     5.058000         0.261300  \n",
       "max    19.050000         0.266000  "
      ]
     },
     "execution_count": 166,
     "metadata": {},
     "output_type": "execute_result"
    }
   ],
   "source": [
    "inv_et_covid_19_muat_ressources_pib_immo.describe()"
   ]
  },
  {
   "cell_type": "code",
   "execution_count": 131,
   "metadata": {},
   "outputs": [
    {
     "data": {
      "text/html": [
       "<div>\n",
       "<style scoped>\n",
       "    .dataframe tbody tr th:only-of-type {\n",
       "        vertical-align: middle;\n",
       "    }\n",
       "\n",
       "    .dataframe tbody tr th {\n",
       "        vertical-align: top;\n",
       "    }\n",
       "\n",
       "    .dataframe thead th {\n",
       "        text-align: right;\n",
       "    }\n",
       "</style>\n",
       "<table border=\"1\" class=\"dataframe\">\n",
       "  <thead>\n",
       "    <tr style=\"text-align: right;\">\n",
       "      <th></th>\n",
       "      <th>INVESTISSEMENT</th>\n",
       "      <th>COVID-19</th>\n",
       "      <th>BUDGET_GENERAL_MUAT</th>\n",
       "      <th>TOTAL_BUDGET_ETAT</th>\n",
       "      <th>PIB</th>\n",
       "      <th>TAUX_IMMOBILIER</th>\n",
       "    </tr>\n",
       "  </thead>\n",
       "  <tbody>\n",
       "    <tr>\n",
       "      <th>INVESTISSEMENT</th>\n",
       "      <td>1.000000</td>\n",
       "      <td>-0.514183</td>\n",
       "      <td>-0.141916</td>\n",
       "      <td>-0.458793</td>\n",
       "      <td>-0.080245</td>\n",
       "      <td>0.489119</td>\n",
       "    </tr>\n",
       "    <tr>\n",
       "      <th>COVID-19</th>\n",
       "      <td>-0.514183</td>\n",
       "      <td>1.000000</td>\n",
       "      <td>-0.018990</td>\n",
       "      <td>0.524819</td>\n",
       "      <td>-0.290010</td>\n",
       "      <td>-0.510445</td>\n",
       "    </tr>\n",
       "    <tr>\n",
       "      <th>BUDGET_GENERAL_MUAT</th>\n",
       "      <td>-0.141916</td>\n",
       "      <td>-0.018990</td>\n",
       "      <td>1.000000</td>\n",
       "      <td>0.431765</td>\n",
       "      <td>-0.711623</td>\n",
       "      <td>-0.161337</td>\n",
       "    </tr>\n",
       "    <tr>\n",
       "      <th>TOTAL_BUDGET_ETAT</th>\n",
       "      <td>-0.458793</td>\n",
       "      <td>0.524819</td>\n",
       "      <td>0.431765</td>\n",
       "      <td>1.000000</td>\n",
       "      <td>-0.610368</td>\n",
       "      <td>-0.948059</td>\n",
       "    </tr>\n",
       "    <tr>\n",
       "      <th>PIB</th>\n",
       "      <td>-0.080245</td>\n",
       "      <td>-0.290010</td>\n",
       "      <td>-0.711623</td>\n",
       "      <td>-0.610368</td>\n",
       "      <td>1.000000</td>\n",
       "      <td>0.431038</td>\n",
       "    </tr>\n",
       "    <tr>\n",
       "      <th>TAUX_IMMOBILIER</th>\n",
       "      <td>0.489119</td>\n",
       "      <td>-0.510445</td>\n",
       "      <td>-0.161337</td>\n",
       "      <td>-0.948059</td>\n",
       "      <td>0.431038</td>\n",
       "      <td>1.000000</td>\n",
       "    </tr>\n",
       "  </tbody>\n",
       "</table>\n",
       "</div>"
      ],
      "text/plain": [
       "                     INVESTISSEMENT  COVID-19  BUDGET_GENERAL_MUAT  \\\n",
       "INVESTISSEMENT             1.000000 -0.514183            -0.141916   \n",
       "COVID-19                  -0.514183  1.000000            -0.018990   \n",
       "BUDGET_GENERAL_MUAT       -0.141916 -0.018990             1.000000   \n",
       "TOTAL_BUDGET_ETAT         -0.458793  0.524819             0.431765   \n",
       "PIB                       -0.080245 -0.290010            -0.711623   \n",
       "TAUX_IMMOBILIER            0.489119 -0.510445            -0.161337   \n",
       "\n",
       "                     TOTAL_BUDGET_ETAT       PIB  TAUX_IMMOBILIER  \n",
       "INVESTISSEMENT               -0.458793 -0.080245         0.489119  \n",
       "COVID-19                      0.524819 -0.290010        -0.510445  \n",
       "BUDGET_GENERAL_MUAT           0.431765 -0.711623        -0.161337  \n",
       "TOTAL_BUDGET_ETAT             1.000000 -0.610368        -0.948059  \n",
       "PIB                          -0.610368  1.000000         0.431038  \n",
       "TAUX_IMMOBILIER              -0.948059  0.431038         1.000000  "
      ]
     },
     "execution_count": 131,
     "metadata": {},
     "output_type": "execute_result"
    }
   ],
   "source": [
    "inv_et_covid_19_muat_ressources_pib_immo.corr()"
   ]
  },
  {
   "cell_type": "code",
   "execution_count": 167,
   "metadata": {},
   "outputs": [],
   "source": [
    "X = inv_et_covid_19_muat_ressources_pib_immo[['COVID-19','BUDGET_GENERAL_MUAT','TOTAL_BUDGET_ETAT','PIB','TAUX_IMMOBILIER']]\n",
    "y = inv_et_covid_19_muat_ressources_pib_immo['INVESTISSEMENT']"
   ]
  },
  {
   "cell_type": "code",
   "execution_count": 168,
   "metadata": {},
   "outputs": [],
   "source": [
    "X = sm.add_constant(X)"
   ]
  },
  {
   "cell_type": "code",
   "execution_count": 169,
   "metadata": {},
   "outputs": [],
   "source": [
    "model = sm.OLS(y,X).fit()"
   ]
  },
  {
   "cell_type": "code",
   "execution_count": 171,
   "metadata": {},
   "outputs": [
    {
     "name": "stderr",
     "output_type": "stream",
     "text": [
      "C:\\ProgramData\\Anaconda3\\lib\\site-packages\\scipy\\stats\\_stats_py.py:1769: UserWarning: kurtosistest only valid for n>=20 ... continuing anyway, n=9\n",
      "  warnings.warn(\"kurtosistest only valid for n>=20 ... continuing \"\n"
     ]
    },
    {
     "data": {
      "text/html": [
       "<table class=\"simpletable\">\n",
       "<caption>OLS Regression Results</caption>\n",
       "<tr>\n",
       "  <th>Dep. Variable:</th>     <td>INVESTISSEMENT</td>  <th>  R-squared:         </th> <td>   0.879</td>\n",
       "</tr>\n",
       "<tr>\n",
       "  <th>Model:</th>                   <td>OLS</td>       <th>  Adj. R-squared:    </th> <td>   0.677</td>\n",
       "</tr>\n",
       "<tr>\n",
       "  <th>Method:</th>             <td>Least Squares</td>  <th>  F-statistic:       </th> <td>   4.349</td>\n",
       "</tr>\n",
       "<tr>\n",
       "  <th>Date:</th>             <td>Sat, 27 May 2023</td> <th>  Prob (F-statistic):</th>  <td> 0.128</td> \n",
       "</tr>\n",
       "<tr>\n",
       "  <th>Time:</th>                 <td>16:31:50</td>     <th>  Log-Likelihood:    </th> <td> -130.17</td>\n",
       "</tr>\n",
       "<tr>\n",
       "  <th>No. Observations:</th>      <td>     9</td>      <th>  AIC:               </th> <td>   272.3</td>\n",
       "</tr>\n",
       "<tr>\n",
       "  <th>Df Residuals:</th>          <td>     3</td>      <th>  BIC:               </th> <td>   273.5</td>\n",
       "</tr>\n",
       "<tr>\n",
       "  <th>Df Model:</th>              <td>     5</td>      <th>                     </th>     <td> </td>   \n",
       "</tr>\n",
       "<tr>\n",
       "  <th>Covariance Type:</th>      <td>nonrobust</td>    <th>                     </th>     <td> </td>   \n",
       "</tr>\n",
       "</table>\n",
       "<table class=\"simpletable\">\n",
       "<tr>\n",
       "           <td></td>              <th>coef</th>     <th>std err</th>      <th>t</th>      <th>P>|t|</th>  <th>[0.025</th>    <th>0.975]</th>  \n",
       "</tr>\n",
       "<tr>\n",
       "  <th>const</th>               <td>-1.468e+08</td> <td> 7.84e+07</td> <td>   -1.872</td> <td> 0.158</td> <td>-3.96e+08</td> <td> 1.03e+08</td>\n",
       "</tr>\n",
       "<tr>\n",
       "  <th>COVID-19</th>            <td>-2.715e+06</td> <td> 9.23e+05</td> <td>   -2.941</td> <td> 0.060</td> <td>-5.65e+06</td> <td> 2.23e+05</td>\n",
       "</tr>\n",
       "<tr>\n",
       "  <th>BUDGET_GENERAL_MUAT</th> <td>   -0.0145</td> <td>    0.005</td> <td>   -2.963</td> <td> 0.059</td> <td>   -0.030</td> <td>    0.001</td>\n",
       "</tr>\n",
       "<tr>\n",
       "  <th>TOTAL_BUDGET_ETAT</th>   <td> 9.701e-05</td> <td> 5.37e-05</td> <td>    1.807</td> <td> 0.168</td> <td>-7.38e-05</td> <td>    0.000</td>\n",
       "</tr>\n",
       "<tr>\n",
       "  <th>PIB</th>                 <td>-2.036e+05</td> <td> 6.72e+04</td> <td>   -3.031</td> <td> 0.056</td> <td>-4.17e+05</td> <td> 1.02e+04</td>\n",
       "</tr>\n",
       "<tr>\n",
       "  <th>TAUX_IMMOBILIER</th>     <td> 5.392e+08</td> <td> 2.52e+08</td> <td>    2.142</td> <td> 0.122</td> <td>-2.62e+08</td> <td> 1.34e+09</td>\n",
       "</tr>\n",
       "</table>\n",
       "<table class=\"simpletable\">\n",
       "<tr>\n",
       "  <th>Omnibus:</th>       <td> 1.363</td> <th>  Durbin-Watson:     </th> <td>   1.961</td>\n",
       "</tr>\n",
       "<tr>\n",
       "  <th>Prob(Omnibus):</th> <td> 0.506</td> <th>  Jarque-Bera (JB):  </th> <td>   0.931</td>\n",
       "</tr>\n",
       "<tr>\n",
       "  <th>Skew:</th>          <td>-0.676</td> <th>  Prob(JB):          </th> <td>   0.628</td>\n",
       "</tr>\n",
       "<tr>\n",
       "  <th>Kurtosis:</th>      <td> 2.189</td> <th>  Cond. No.          </th> <td>3.96e+14</td>\n",
       "</tr>\n",
       "</table><br/><br/>Notes:<br/>[1] Standard Errors assume that the covariance matrix of the errors is correctly specified.<br/>[2] The condition number is large, 3.96e+14. This might indicate that there are<br/>strong multicollinearity or other numerical problems."
      ],
      "text/plain": [
       "<class 'statsmodels.iolib.summary.Summary'>\n",
       "\"\"\"\n",
       "                            OLS Regression Results                            \n",
       "==============================================================================\n",
       "Dep. Variable:         INVESTISSEMENT   R-squared:                       0.879\n",
       "Model:                            OLS   Adj. R-squared:                  0.677\n",
       "Method:                 Least Squares   F-statistic:                     4.349\n",
       "Date:                Sat, 27 May 2023   Prob (F-statistic):              0.128\n",
       "Time:                        16:31:50   Log-Likelihood:                -130.17\n",
       "No. Observations:                   9   AIC:                             272.3\n",
       "Df Residuals:                       3   BIC:                             273.5\n",
       "Df Model:                           5                                         \n",
       "Covariance Type:            nonrobust                                         \n",
       "=======================================================================================\n",
       "                          coef    std err          t      P>|t|      [0.025      0.975]\n",
       "---------------------------------------------------------------------------------------\n",
       "const               -1.468e+08   7.84e+07     -1.872      0.158   -3.96e+08    1.03e+08\n",
       "COVID-19            -2.715e+06   9.23e+05     -2.941      0.060   -5.65e+06    2.23e+05\n",
       "BUDGET_GENERAL_MUAT    -0.0145      0.005     -2.963      0.059      -0.030       0.001\n",
       "TOTAL_BUDGET_ETAT    9.701e-05   5.37e-05      1.807      0.168   -7.38e-05       0.000\n",
       "PIB                 -2.036e+05   6.72e+04     -3.031      0.056   -4.17e+05    1.02e+04\n",
       "TAUX_IMMOBILIER      5.392e+08   2.52e+08      2.142      0.122   -2.62e+08    1.34e+09\n",
       "==============================================================================\n",
       "Omnibus:                        1.363   Durbin-Watson:                   1.961\n",
       "Prob(Omnibus):                  0.506   Jarque-Bera (JB):                0.931\n",
       "Skew:                          -0.676   Prob(JB):                        0.628\n",
       "Kurtosis:                       2.189   Cond. No.                     3.96e+14\n",
       "==============================================================================\n",
       "\n",
       "Notes:\n",
       "[1] Standard Errors assume that the covariance matrix of the errors is correctly specified.\n",
       "[2] The condition number is large, 3.96e+14. This might indicate that there are\n",
       "strong multicollinearity or other numerical problems.\n",
       "\"\"\""
      ]
     },
     "execution_count": 171,
     "metadata": {},
     "output_type": "execute_result"
    }
   ],
   "source": [
    "model.summary()"
   ]
  },
  {
   "cell_type": "code",
   "execution_count": null,
   "metadata": {},
   "outputs": [],
   "source": []
  }
 ],
 "metadata": {
  "kernelspec": {
   "display_name": "Python 3 (ipykernel)",
   "language": "python",
   "name": "python3"
  },
  "language_info": {
   "codemirror_mode": {
    "name": "ipython",
    "version": 3
   },
   "file_extension": ".py",
   "mimetype": "text/x-python",
   "name": "python",
   "nbconvert_exporter": "python",
   "pygments_lexer": "ipython3",
   "version": "3.9.13"
  }
 },
 "nbformat": 4,
 "nbformat_minor": 2
}
