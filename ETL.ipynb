{
 "cells": [
  {
   "cell_type": "code",
   "execution_count": 1,
   "metadata": {},
   "outputs": [],
   "source": [
    "import pandas as pd"
   ]
  },
  {
   "attachments": {},
   "cell_type": "markdown",
   "metadata": {},
   "source": [
    "EXTRACT DATA FROM DATABASE"
   ]
  },
  {
   "cell_type": "code",
   "execution_count": 2,
   "metadata": {},
   "outputs": [],
   "source": [
    "import pyodbc"
   ]
  },
  {
   "cell_type": "code",
   "execution_count": 3,
   "metadata": {},
   "outputs": [],
   "source": [
    "server = 'DESKTOP-LORG5OV'\n",
    "database = 'Agence_Urbaine'\n",
    "username = ''\n",
    "password = ''\n",
    "driver = '{SQL Server}' # change the driver name if needed\n",
    "cnxn = pyodbc.connect(f\"DRIVER={driver};SERVER={server};DATABASE={database};UID={username};PWD={password}\")"
   ]
  },
  {
   "cell_type": "code",
   "execution_count": 4,
   "metadata": {},
   "outputs": [
    {
     "name": "stderr",
     "output_type": "stream",
     "text": [
      "C:\\Users\\tioua\\AppData\\Local\\Temp\\ipykernel_5084\\793879270.py:1: UserWarning: pandas only supports SQLAlchemy connectable (engine/connection) or database string URI or sqlite3 DBAPI2 connection. Other DBAPI2 objects are not tested. Please consider using SQLAlchemy.\n",
      "  budget_exploitation = pd.read_sql('select * from Budget_Exploitation',cnxn)\n"
     ]
    }
   ],
   "source": [
    "budget_exploitation = pd.read_sql('select * from Budget_Exploitation',cnxn)"
   ]
  },
  {
   "cell_type": "code",
   "execution_count": 5,
   "metadata": {},
   "outputs": [
    {
     "data": {
      "text/html": [
       "<div>\n",
       "<style scoped>\n",
       "    .dataframe tbody tr th:only-of-type {\n",
       "        vertical-align: middle;\n",
       "    }\n",
       "\n",
       "    .dataframe tbody tr th {\n",
       "        vertical-align: top;\n",
       "    }\n",
       "\n",
       "    .dataframe thead th {\n",
       "        text-align: right;\n",
       "    }\n",
       "</style>\n",
       "<table border=\"1\" class=\"dataframe\">\n",
       "  <thead>\n",
       "    <tr style=\"text-align: right;\">\n",
       "      <th></th>\n",
       "      <th>COMPTES_N</th>\n",
       "      <th>INTITULEES_DES_COMPTES</th>\n",
       "      <th>CREDIT_OUVERT</th>\n",
       "      <th>ENGAGEMENT</th>\n",
       "      <th>DISPONIBLE_ENGAGEMENT</th>\n",
       "      <th>PAIEMENT</th>\n",
       "      <th>RESTE_A_PAYER</th>\n",
       "      <th>CHAPITRE</th>\n",
       "      <th>ANNEE</th>\n",
       "    </tr>\n",
       "  </thead>\n",
       "  <tbody>\n",
       "    <tr>\n",
       "      <th>0</th>\n",
       "      <td>61223</td>\n",
       "      <td>Achat de combustibles</td>\n",
       "      <td>250000.0</td>\n",
       "      <td>250000.00</td>\n",
       "      <td>0.00</td>\n",
       "      <td>250000.0</td>\n",
       "      <td>0.00</td>\n",
       "      <td>Achats de matières et de fournitures consommables</td>\n",
       "      <td>2017-12-31</td>\n",
       "    </tr>\n",
       "    <tr>\n",
       "      <th>1</th>\n",
       "      <td>612211</td>\n",
       "      <td>Achat de fournitures de bureau</td>\n",
       "      <td>122530.0</td>\n",
       "      <td>122529.70</td>\n",
       "      <td>0.30</td>\n",
       "      <td>0.0</td>\n",
       "      <td>122529.70</td>\n",
       "      <td>Achats de matières et de fournitures consommables</td>\n",
       "      <td>2017-12-31</td>\n",
       "    </tr>\n",
       "    <tr>\n",
       "      <th>2</th>\n",
       "      <td>612212</td>\n",
       "      <td>Fourniture pour matériel technique et informat...</td>\n",
       "      <td>8345.0</td>\n",
       "      <td>8344.44</td>\n",
       "      <td>0.56</td>\n",
       "      <td>0.0</td>\n",
       "      <td>8344.44</td>\n",
       "      <td>Achats de matières et de fournitures consommables</td>\n",
       "      <td>2017-12-31</td>\n",
       "    </tr>\n",
       "    <tr>\n",
       "      <th>3</th>\n",
       "      <td>612213</td>\n",
       "      <td>Fourniture de produits d'impression de reprodu...</td>\n",
       "      <td>129125.0</td>\n",
       "      <td>128829.30</td>\n",
       "      <td>295.70</td>\n",
       "      <td>0.0</td>\n",
       "      <td>128829.30</td>\n",
       "      <td>Achats de matières et de fournitures consommables</td>\n",
       "      <td>2017-12-31</td>\n",
       "    </tr>\n",
       "    <tr>\n",
       "      <th>4</th>\n",
       "      <td>61263</td>\n",
       "      <td>Prestations d'impression et reproduction photo...</td>\n",
       "      <td>120000.0</td>\n",
       "      <td>120000.00</td>\n",
       "      <td>0.00</td>\n",
       "      <td>0.0</td>\n",
       "      <td>120000.00</td>\n",
       "      <td>Prestations de services</td>\n",
       "      <td>2017-12-31</td>\n",
       "    </tr>\n",
       "    <tr>\n",
       "      <th>...</th>\n",
       "      <td>...</td>\n",
       "      <td>...</td>\n",
       "      <td>...</td>\n",
       "      <td>...</td>\n",
       "      <td>...</td>\n",
       "      <td>...</td>\n",
       "      <td>...</td>\n",
       "      <td>...</td>\n",
       "      <td>...</td>\n",
       "    </tr>\n",
       "    <tr>\n",
       "      <th>233</th>\n",
       "      <td>61611</td>\n",
       "      <td>Dépenses liées aux impots et taxes directs</td>\n",
       "      <td>240000.0</td>\n",
       "      <td>237134.30</td>\n",
       "      <td>2865.70</td>\n",
       "      <td>237134.3</td>\n",
       "      <td>0.00</td>\n",
       "      <td>Impots et taxes</td>\n",
       "      <td>2022-12-31</td>\n",
       "    </tr>\n",
       "    <tr>\n",
       "      <th>234</th>\n",
       "      <td>61673</td>\n",
       "      <td>Taxe spéciale annuelle sur les véhicules autom...</td>\n",
       "      <td>13150.0</td>\n",
       "      <td>13150.00</td>\n",
       "      <td>0.00</td>\n",
       "      <td>13150.0</td>\n",
       "      <td>0.00</td>\n",
       "      <td>Impots et taxes</td>\n",
       "      <td>2022-12-31</td>\n",
       "    </tr>\n",
       "    <tr>\n",
       "      <th>235</th>\n",
       "      <td>61441</td>\n",
       "      <td>Annonces,Abonnements,insertions,accés base de ...</td>\n",
       "      <td>29500.0</td>\n",
       "      <td>23400.00</td>\n",
       "      <td>6100.00</td>\n",
       "      <td>4800.0</td>\n",
       "      <td>18600.00</td>\n",
       "      <td>Publicité,publications et relations publiques</td>\n",
       "      <td>2022-12-31</td>\n",
       "    </tr>\n",
       "    <tr>\n",
       "      <th>236</th>\n",
       "      <td>61444</td>\n",
       "      <td>Publicité et communication</td>\n",
       "      <td>70500.0</td>\n",
       "      <td>70008.00</td>\n",
       "      <td>492.00</td>\n",
       "      <td>70008.0</td>\n",
       "      <td>0.00</td>\n",
       "      <td>Publicité,publications et relations publiques</td>\n",
       "      <td>2022-12-31</td>\n",
       "    </tr>\n",
       "    <tr>\n",
       "      <th>237</th>\n",
       "      <td>61448</td>\n",
       "      <td>Infogérance,siteweb,assistance et numérisation</td>\n",
       "      <td>50000.0</td>\n",
       "      <td>50000.00</td>\n",
       "      <td>0.00</td>\n",
       "      <td>0.0</td>\n",
       "      <td>50000.00</td>\n",
       "      <td>Publicité,publications et relations publiques</td>\n",
       "      <td>2022-12-31</td>\n",
       "    </tr>\n",
       "  </tbody>\n",
       "</table>\n",
       "<p>238 rows × 9 columns</p>\n",
       "</div>"
      ],
      "text/plain": [
       "     COMPTES_N                             INTITULEES_DES_COMPTES  \\\n",
       "0        61223                              Achat de combustibles   \n",
       "1       612211                     Achat de fournitures de bureau   \n",
       "2       612212  Fourniture pour matériel technique et informat...   \n",
       "3       612213  Fourniture de produits d'impression de reprodu...   \n",
       "4        61263  Prestations d'impression et reproduction photo...   \n",
       "..         ...                                                ...   \n",
       "233      61611         Dépenses liées aux impots et taxes directs   \n",
       "234      61673  Taxe spéciale annuelle sur les véhicules autom...   \n",
       "235      61441  Annonces,Abonnements,insertions,accés base de ...   \n",
       "236      61444                         Publicité et communication   \n",
       "237      61448     Infogérance,siteweb,assistance et numérisation   \n",
       "\n",
       "     CREDIT_OUVERT  ENGAGEMENT  DISPONIBLE_ENGAGEMENT  PAIEMENT  \\\n",
       "0         250000.0   250000.00                   0.00  250000.0   \n",
       "1         122530.0   122529.70                   0.30       0.0   \n",
       "2           8345.0     8344.44                   0.56       0.0   \n",
       "3         129125.0   128829.30                 295.70       0.0   \n",
       "4         120000.0   120000.00                   0.00       0.0   \n",
       "..             ...         ...                    ...       ...   \n",
       "233       240000.0   237134.30                2865.70  237134.3   \n",
       "234        13150.0    13150.00                   0.00   13150.0   \n",
       "235        29500.0    23400.00                6100.00    4800.0   \n",
       "236        70500.0    70008.00                 492.00   70008.0   \n",
       "237        50000.0    50000.00                   0.00       0.0   \n",
       "\n",
       "     RESTE_A_PAYER                                           CHAPITRE  \\\n",
       "0             0.00  Achats de matières et de fournitures consommables   \n",
       "1        122529.70  Achats de matières et de fournitures consommables   \n",
       "2          8344.44  Achats de matières et de fournitures consommables   \n",
       "3        128829.30  Achats de matières et de fournitures consommables   \n",
       "4        120000.00                            Prestations de services   \n",
       "..             ...                                                ...   \n",
       "233           0.00                                    Impots et taxes   \n",
       "234           0.00                                    Impots et taxes   \n",
       "235       18600.00      Publicité,publications et relations publiques   \n",
       "236           0.00      Publicité,publications et relations publiques   \n",
       "237       50000.00      Publicité,publications et relations publiques   \n",
       "\n",
       "         ANNEE  \n",
       "0   2017-12-31  \n",
       "1   2017-12-31  \n",
       "2   2017-12-31  \n",
       "3   2017-12-31  \n",
       "4   2017-12-31  \n",
       "..         ...  \n",
       "233 2022-12-31  \n",
       "234 2022-12-31  \n",
       "235 2022-12-31  \n",
       "236 2022-12-31  \n",
       "237 2022-12-31  \n",
       "\n",
       "[238 rows x 9 columns]"
      ]
     },
     "execution_count": 5,
     "metadata": {},
     "output_type": "execute_result"
    }
   ],
   "source": [
    "budget_exploitation"
   ]
  },
  {
   "cell_type": "code",
   "execution_count": 6,
   "metadata": {},
   "outputs": [
    {
     "name": "stderr",
     "output_type": "stream",
     "text": [
      "C:\\Users\\tioua\\AppData\\Local\\Temp\\ipykernel_5084\\2198312611.py:1: UserWarning: pandas only supports SQLAlchemy connectable (engine/connection) or database string URI or sqlite3 DBAPI2 connection. Other DBAPI2 objects are not tested. Please consider using SQLAlchemy.\n",
      "  budget_investissement = pd.read_sql('select * from Budget_Investissement',cnxn)\n"
     ]
    }
   ],
   "source": [
    "budget_investissement = pd.read_sql('select * from Budget_Investissement',cnxn)"
   ]
  },
  {
   "cell_type": "code",
   "execution_count": 7,
   "metadata": {},
   "outputs": [],
   "source": [
    "ex1 = budget_investissement[budget_investissement['ANNEE'].isin(['2021-12-31','2020-12-31','2019-12-31','2018-12-31'])].sample(n=5)"
   ]
  },
  {
   "cell_type": "code",
   "execution_count": 8,
   "metadata": {},
   "outputs": [],
   "source": [
    "ex2 = budget_exploitation[budget_exploitation['ANNEE'].isin(['2021-12-31','2020-12-31','2019-12-31','2018-12-31'])].sample(n=5)"
   ]
  },
  {
   "cell_type": "code",
   "execution_count": 73,
   "metadata": {},
   "outputs": [],
   "source": [
    "p = pd.DataFrame(budget_investissement.groupby(by=['ANNEE'])['ENGAGEMENTS'].sum())"
   ]
  },
  {
   "cell_type": "code",
   "execution_count": 74,
   "metadata": {},
   "outputs": [],
   "source": [
    "p.reset_index(inplace=True)"
   ]
  },
  {
   "cell_type": "code",
   "execution_count": 42,
   "metadata": {},
   "outputs": [
    {
     "name": "stdout",
     "output_type": "stream",
     "text": [
      "2017-12-31 00:00:00\n",
      "2018-12-31 00:00:00\n",
      "2019-12-31 00:00:00\n",
      "2020-12-31 00:00:00\n",
      "2021-12-31 00:00:00\n",
      "2022-12-31 00:00:00\n"
     ]
    }
   ],
   "source": [
    "for i in range(len(p)):\n",
    "    print(p.iloc[i]['ANNEE'])"
   ]
  },
  {
   "cell_type": "code",
   "execution_count": 77,
   "metadata": {},
   "outputs": [],
   "source": [
    "progress = []\n",
    "for i in range(len(p)):\n",
    "    if i==0 :\n",
    "        progress.append((p.iloc[i]['ANNEE'],p.iloc[i]['ENGAGEMENTS']))\n",
    "    else :\n",
    "        if p.iloc[i]['ENGAGEMENTS'] < p.iloc[i-1]['ENGAGEMENTS']:\n",
    "            progress.append((p.iloc[i]['ANNEE'],-(p.iloc[i]['ENGAGEMENTS'])))\n",
    "        else:\n",
    "            progress.append((p.iloc[i]['ANNEE'],p.iloc[i]['ENGAGEMENTS']))"
   ]
  },
  {
   "cell_type": "code",
   "execution_count": 80,
   "metadata": {},
   "outputs": [],
   "source": [
    "progress = dict(progress)"
   ]
  },
  {
   "cell_type": "code",
   "execution_count": 81,
   "metadata": {},
   "outputs": [],
   "source": [
    "progress = pd.DataFrame({'ANNEE':progress.keys(),'PROGRESS':progress.values()})"
   ]
  },
  {
   "cell_type": "code",
   "execution_count": 82,
   "metadata": {},
   "outputs": [
    {
     "data": {
      "text/html": [
       "<div>\n",
       "<style scoped>\n",
       "    .dataframe tbody tr th:only-of-type {\n",
       "        vertical-align: middle;\n",
       "    }\n",
       "\n",
       "    .dataframe tbody tr th {\n",
       "        vertical-align: top;\n",
       "    }\n",
       "\n",
       "    .dataframe thead th {\n",
       "        text-align: right;\n",
       "    }\n",
       "</style>\n",
       "<table border=\"1\" class=\"dataframe\">\n",
       "  <thead>\n",
       "    <tr style=\"text-align: right;\">\n",
       "      <th></th>\n",
       "      <th>ANNEE</th>\n",
       "      <th>PROGRESS</th>\n",
       "    </tr>\n",
       "  </thead>\n",
       "  <tbody>\n",
       "    <tr>\n",
       "      <th>0</th>\n",
       "      <td>2017-12-31</td>\n",
       "      <td>1927951.60</td>\n",
       "    </tr>\n",
       "    <tr>\n",
       "      <th>1</th>\n",
       "      <td>2018-12-31</td>\n",
       "      <td>2512974.96</td>\n",
       "    </tr>\n",
       "    <tr>\n",
       "      <th>2</th>\n",
       "      <td>2019-12-31</td>\n",
       "      <td>3358883.60</td>\n",
       "    </tr>\n",
       "    <tr>\n",
       "      <th>3</th>\n",
       "      <td>2020-12-31</td>\n",
       "      <td>-2468179.00</td>\n",
       "    </tr>\n",
       "    <tr>\n",
       "      <th>4</th>\n",
       "      <td>2021-12-31</td>\n",
       "      <td>-746343.60</td>\n",
       "    </tr>\n",
       "    <tr>\n",
       "      <th>5</th>\n",
       "      <td>2022-12-31</td>\n",
       "      <td>2913370.00</td>\n",
       "    </tr>\n",
       "  </tbody>\n",
       "</table>\n",
       "</div>"
      ],
      "text/plain": [
       "       ANNEE    PROGRESS\n",
       "0 2017-12-31  1927951.60\n",
       "1 2018-12-31  2512974.96\n",
       "2 2019-12-31  3358883.60\n",
       "3 2020-12-31 -2468179.00\n",
       "4 2021-12-31  -746343.60\n",
       "5 2022-12-31  2913370.00"
      ]
     },
     "execution_count": 82,
     "metadata": {},
     "output_type": "execute_result"
    }
   ],
   "source": [
    "progress"
   ]
  },
  {
   "cell_type": "code",
   "execution_count": null,
   "metadata": {},
   "outputs": [],
   "source": []
  }
 ],
 "metadata": {
  "kernelspec": {
   "display_name": "Python 3",
   "language": "python",
   "name": "python3"
  },
  "language_info": {
   "codemirror_mode": {
    "name": "ipython",
    "version": 3
   },
   "file_extension": ".py",
   "mimetype": "text/x-python",
   "name": "python",
   "nbconvert_exporter": "python",
   "pygments_lexer": "ipython3",
   "version": "3.11.1"
  },
  "orig_nbformat": 4
 },
 "nbformat": 4,
 "nbformat_minor": 2
}
